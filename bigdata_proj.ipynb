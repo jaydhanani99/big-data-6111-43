{
 "cells": [
  {
   "cell_type": "markdown",
   "metadata": {},
   "source": [
    "# Weather forecasting with PySpark\n",
    "## Big Data Computing final project"
   ]
  },
  {
   "cell_type": "markdown",
   "metadata": {},
   "source": [
    "Setting up some Configuration Constants globally"
   ]
  },
  {
   "cell_type": "code",
   "execution_count": null,
   "metadata": {},
   "outputs": [],
   "source": [
    "#Configuration constants\n",
    "DATASET_PATH = 'dbfs:/bigdata_proj/datasets/historical-hourly-weather/'\n",
    "MODELS_PATH = 'dbfs:/bigdata_proj/models/historical-hourly-weather/'\n",
    "RANDOM_SEED = 42\n"
   ]
  },
  {
   "cell_type": "markdown",
   "metadata": {},
   "source": [
    "#### Setting up the workflow options and databricks limitations"
   ]
  },
  {
   "cell_type": "code",
   "execution_count": null,
   "metadata": {},
   "outputs": [],
   "source": [
    "\n",
    "\n",
    "# Workflow Options\n",
    "SAVE_COMPUTATIONS = True  # Flag to save intermediate results\n",
    "LOAD_SAMPLED_DATASET = False  # Load pre-sampled dataset or generate from raw data\n",
    "SAMPLED_DATASET_PATH = f'{DATASET_PATH}aggregated_sampled_weather_measurements.csv'\n",
    "LOAD_ENCODING_PIPELINE = False  # Load pre-built encoding pipeline or create from scratch\n",
    "ENCODING_PIPELINE_PATH = f'{MODELS_PATH}data_encoder'\n",
    "LOAD_PRETRAINED_MODELS = False  # Load existing models or train new ones\n",
    "RANDOM_FOREST_MODEL_PATH = f'{MODELS_PATH}rnd_forest'\n",
    "RANDOM_FOREST_CV_MODEL_PATH = f'{MODELS_PATH}rnd_forest_cv'  # Cross-validated model\n",
    "LOGISTIC_REGRESSION_CV_MODEL_PATH = f'{MODELS_PATH}log_reg_cv' \n",
    "\n",
    "# DataBricks Limitation Workaround\n",
    "MAX_TRAIN_SIZE = 999_999  # Maximum training dataset size due to community edition limits"
   ]
  },
  {
   "cell_type": "markdown",
   "metadata": {},
   "source": [
    "#### Doing the setup by importing the required dependencies"
   ]
  },
  {
   "cell_type": "code",
   "execution_count": null,
   "metadata": {},
   "outputs": [],
   "source": [
    "import pyspark  # Main PySpark module\n",
    "import numpy as np  # For numerical operations\n",
    "import matplotlib.pyplot as plt  # For plotting and visualizations\n",
    "\n",
    "# PySpark Setup (consider clarifying if these settings are required for your project)\n",
    "from pyspark import SparkContext, SparkConf  # Initializing Spark\n",
    "from pyspark.sql import *  # PySpark SQL for data manipulation\n",
    "from pyspark.sql.types import *  # For defining data types\n",
    "from pyspark.sql.functions import *  # PySpark functions for data transformations\n",
    "\n",
    "# Machine Learning Modules\n",
    "from pyspark.ml.pipeline import PipelineModel  # For loading trained ML pipelines\n",
    "from pyspark.ml.tuning import CrossValidatorModel  # For loading cross-validated models\n",
    "\n",
    "from typing import *  # Optional, for type hints if desired"
   ]
  },
  {
   "cell_type": "markdown",
   "metadata": {},
   "source": [
    "## Starting with Data Initialisation"
   ]
  },
  {
   "cell_type": "markdown",
   "metadata": {},
   "source": [
    "### First we are downloading the dataset\n",
    "\n",
    "Our source is [kaggle.com/selfishgene/historical-hourly-weather-data](https://www.kaggle.com/selfishgene/historical-hourly-weather-data)"
   ]
  },
  {
   "cell_type": "code",
   "execution_count": null,
   "metadata": {},
   "outputs": [
    {
     "name": "stderr",
     "output_type": "stream",
     "text": [
      "2024-03-30 00:16:51 URL:https://raw.githubusercontent.com/SouravGanesh/BigData_DataSet/main/dataset/historical-hourly-weather-dataset.zip [12655281/12655281] -> \"/tmp/dataset.zip\" [1]\n"
     ]
    },
    {
     "name": "stdout",
     "output_type": "stream",
     "text": [
      "Archive:  /tmp/dataset.zip\n",
      "   creating: /tmp/dataset/aggregated_sampled_weather_measurements.csv/\n",
      "  inflating: /tmp/dataset/aggregated_sampled_weather_measurements.csv/._committed_7616641238230246128.crc  \n",
      "  inflating: /tmp/dataset/aggregated_sampled_weather_measurements.csv/.part-00000-tid-5785058191842647654-99694b27-5637-4d82-97fd-79413e3b2b1a-5515-1-c000.csv.crc  \n",
      "  inflating: /tmp/dataset/aggregated_sampled_weather_measurements.csv/.part-00006-tid-5785058191842647654-99694b27-5637-4d82-97fd-79413e3b2b1a-5521-1-c000.csv.crc  \n",
      "  inflating: /tmp/dataset/aggregated_sampled_weather_measurements.csv/.part-00002-tid-5785058191842647654-99694b27-5637-4d82-97fd-79413e3b2b1a-5517-1-c000.csv.crc  \n",
      "  inflating: /tmp/dataset/aggregated_sampled_weather_measurements.csv/.part-00004-tid-5785058191842647654-99694b27-5637-4d82-97fd-79413e3b2b1a-5519-1-c000.csv.crc  \n",
      "  inflating: /tmp/dataset/aggregated_sampled_weather_measurements.csv/part-00003-tid-5785058191842647654-99694b27-5637-4d82-97fd-79413e3b2b1a-5518-1-c000.csv  \n",
      "  inflating: /tmp/dataset/aggregated_sampled_weather_measurements.csv/_committed_7616641238230246128  \n",
      "  inflating: /tmp/dataset/aggregated_sampled_weather_measurements.csv/_committed_vacuum6920010656788597249  \n",
      "  inflating: /tmp/dataset/aggregated_sampled_weather_measurements.csv/part-00005-tid-5785058191842647654-99694b27-5637-4d82-97fd-79413e3b2b1a-5520-1-c000.csv  \n",
      "  inflating: /tmp/dataset/aggregated_sampled_weather_measurements.csv/part-00002-tid-5785058191842647654-99694b27-5637-4d82-97fd-79413e3b2b1a-5517-1-c000.csv  \n",
      "  inflating: /tmp/dataset/aggregated_sampled_weather_measurements.csv/_started_5785058191842647654  \n",
      "  inflating: /tmp/dataset/aggregated_sampled_weather_measurements.csv/part-00001-tid-5785058191842647654-99694b27-5637-4d82-97fd-79413e3b2b1a-5516-1-c000.csv  \n",
      "  inflating: /tmp/dataset/aggregated_sampled_weather_measurements.csv/_committed_777980178201020908  \n",
      "  inflating: /tmp/dataset/aggregated_sampled_weather_measurements.csv/_committed_5785058191842647654  \n",
      "  inflating: /tmp/dataset/aggregated_sampled_weather_measurements.csv/._committed_5785058191842647654.crc  \n",
      "  inflating: /tmp/dataset/aggregated_sampled_weather_measurements.csv/.part-00001-tid-5785058191842647654-99694b27-5637-4d82-97fd-79413e3b2b1a-5516-1-c000.csv.crc  \n",
      "  inflating: /tmp/dataset/aggregated_sampled_weather_measurements.csv/.part-00003-tid-5785058191842647654-99694b27-5637-4d82-97fd-79413e3b2b1a-5518-1-c000.csv.crc  \n",
      "  inflating: /tmp/dataset/aggregated_sampled_weather_measurements.csv/part-00007-tid-5785058191842647654-99694b27-5637-4d82-97fd-79413e3b2b1a-5522-1-c000.csv  \n",
      "  inflating: /tmp/dataset/aggregated_sampled_weather_measurements.csv/part-00006-tid-5785058191842647654-99694b27-5637-4d82-97fd-79413e3b2b1a-5521-1-c000.csv  \n",
      "  inflating: /tmp/dataset/aggregated_sampled_weather_measurements.csv/._started_5785058191842647654.crc  \n",
      "  inflating: /tmp/dataset/aggregated_sampled_weather_measurements.csv/._committed_777980178201020908.crc  \n",
      "  inflating: /tmp/dataset/aggregated_sampled_weather_measurements.csv/part-00000-tid-5785058191842647654-99694b27-5637-4d82-97fd-79413e3b2b1a-5515-1-c000.csv  \n",
      "  inflating: /tmp/dataset/aggregated_sampled_weather_measurements.csv/.part-00007-tid-5785058191842647654-99694b27-5637-4d82-97fd-79413e3b2b1a-5522-1-c000.csv.crc  \n",
      "  inflating: /tmp/dataset/aggregated_sampled_weather_measurements.csv/.part-00005-tid-5785058191842647654-99694b27-5637-4d82-97fd-79413e3b2b1a-5520-1-c000.csv.crc  \n",
      "  inflating: /tmp/dataset/aggregated_sampled_weather_measurements.csv/part-00004-tid-5785058191842647654-99694b27-5637-4d82-97fd-79413e3b2b1a-5519-1-c000.csv  \n",
      "  inflating: /tmp/dataset/aggregated_sampled_weather_measurements.csv/._committed_vacuum6920010656788597249.crc  \n",
      "  inflating: /tmp/dataset/city_attributes.csv  \n",
      "  inflating: /tmp/dataset/humidity.csv  \n",
      "  inflating: /tmp/dataset/pressure.csv  \n",
      "  inflating: /tmp/dataset/temperature.csv  \n",
      "  inflating: /tmp/dataset/weather_description.csv  \n",
      "  inflating: /tmp/dataset/wind_direction.csv  \n",
      "  inflating: /tmp/dataset/wind_speed.csv  \n"
     ]
    }
   ],
   "source": [
    "%sh\n",
    "# Download the dataset from GitHub and save it as dataset.zip in the /tmp directory\n",
    "wget --no-verbose https://github.com/SouravGanesh/BigData_DataSet/raw/main/dataset/historical-hourly-weather-dataset.zip -O /tmp/dataset.zip\n",
    "\n",
    "# Unzip the dataset.zip file and extract its contents into the /tmp/dataset directory\n",
    "unzip -u /tmp/dataset.zip -d /tmp/dataset"
   ]
  },
  {
   "cell_type": "markdown",
   "metadata": {},
   "source": [
    "#### Now moving the dataset from the temporary location i.e Databricks local driver node's file system to DBFS"
   ]
  },
  {
   "cell_type": "code",
   "execution_count": null,
   "metadata": {},
   "outputs": [],
   "source": [
    "# Move files from temporary location to dataset path\n",
    "for file in dbutils.fs.ls('file:/tmp/dataset'):\n",
    "    dbutils.fs.mv(file.path, f'{DATASET_PATH}{file.name}', recurse=True)"
   ]
  },
  {
   "cell_type": "markdown",
   "metadata": {},
   "source": [
    "#### Listing all the directories to verify"
   ]
  },
  {
   "cell_type": "code",
   "execution_count": null,
   "metadata": {},
   "outputs": [
    {
     "data": {
      "text/html": [
       "<style scoped>\n",
       "  .table-result-container {\n",
       "    max-height: 300px;\n",
       "    overflow: auto;\n",
       "  }\n",
       "  table, th, td {\n",
       "    border: 1px solid black;\n",
       "    border-collapse: collapse;\n",
       "  }\n",
       "  th, td {\n",
       "    padding: 5px;\n",
       "  }\n",
       "  th {\n",
       "    text-align: left;\n",
       "  }\n",
       "</style><div class='table-result-container'><table class='table-result'><thead style='background-color: white'><tr><th>path</th><th>name</th><th>size</th><th>modificationTime</th></tr></thead><tbody><tr><td>dbfs:/bigdata_proj/datasets/historical-hourly-weather/aggregated_sampled_weather_measurements.csv/</td><td>aggregated_sampled_weather_measurements.csv/</td><td>0</td><td>1711573978000</td></tr><tr><td>dbfs:/bigdata_proj/datasets/historical-hourly-weather/city_attributes.csv</td><td>city_attributes.csv</td><td>1614</td><td>1711757817000</td></tr><tr><td>dbfs:/bigdata_proj/datasets/historical-hourly-weather/humidity.csv</td><td>humidity.csv</td><td>9075077</td><td>1711757813000</td></tr><tr><td>dbfs:/bigdata_proj/datasets/historical-hourly-weather/pressure.csv</td><td>pressure.csv</td><td>12155911</td><td>1711757816000</td></tr><tr><td>dbfs:/bigdata_proj/datasets/historical-hourly-weather/temperature.csv</td><td>temperature.csv</td><td>13971171</td><td>1711757816000</td></tr><tr><td>dbfs:/bigdata_proj/datasets/historical-hourly-weather/weather_description.csv</td><td>weather_description.csv</td><td>21858089</td><td>1711757817000</td></tr><tr><td>dbfs:/bigdata_proj/datasets/historical-hourly-weather/wind_direction.csv</td><td>wind_direction.csv</td><td>10171003</td><td>1711757814000</td></tr><tr><td>dbfs:/bigdata_proj/datasets/historical-hourly-weather/wind_speed.csv</td><td>wind_speed.csv</td><td>7457531</td><td>1711757813000</td></tr></tbody></table></div>"
      ]
     },
     "metadata": {},
     "output_type": "display_data"
    }
   ],
   "source": [
    "%fs ls /bigdata_proj/datasets/historical-hourly-weather"
   ]
  },
  {
   "cell_type": "markdown",
   "metadata": {},
   "source": [
    "### Taking the use of Spark here by loading the data set for processing"
   ]
  },
  {
   "cell_type": "markdown",
   "metadata": {},
   "source": [
    "### Dataset shape and schema is as follows\n",
    "Dataset Overview\n",
    "\n",
    "The raw dataset, obtained from Kaggle, consists of seven CSV files. Let's break down their contents and structure:\n",
    "\n",
    "- city_attributes.csv\n",
    "\n",
    "Provides geographic details about various cities included in the weather measurements.\n",
    "- weather_description.csv\n",
    "\n",
    "Offers text-based descriptions of weather conditions.\n",
    "Structure:\n",
    "Columns: Represent different cities.\n",
    "Rows: Indicate specific datetimes for weather condition observations.\n",
    "- Other 5 csv files\n",
    "\n",
    "Contain measurements for these metrics: humidity, pressure, temperature, wind direction, wind speed.\n",
    "Share a similar structure to 'weather_description.csv'\n",
    "Dataset Size\n",
    "\n",
    "Approximately 45,000 hourly weather records per file (excluding 'city_attributes.csv').\n",
    "With 36 cities, the total dataset approaches 1.5 million records."
   ]
  },
  {
   "cell_type": "code",
   "execution_count": null,
   "metadata": {},
   "outputs": [],
   "source": [
    "# Import the necessary module\n",
    "from pyspark.sql import SparkSession\n",
    "\n",
    "# Create or get the SparkSession\n",
    "spark = SparkSession.builder.getOrCreate()\n",
    "\n",
    "# Read the CSV files into DataFrames\n",
    "weather_conditions_df = spark.read.csv(f'{DATASET_PATH}weather_description.csv', header=True, inferSchema=True)\n",
    "humidity_df = spark.read.csv(f'{DATASET_PATH}humidity.csv', header=True, inferSchema=True)\n",
    "pressure_df = spark.read.csv(f'{DATASET_PATH}pressure.csv', header=True, inferSchema=True)\n",
    "temperature_df = spark.read.csv(f'{DATASET_PATH}temperature.csv', header=True, inferSchema=True)\n",
    "city_attributes_df = spark.read.csv(f'{DATASET_PATH}city_attributes.csv', header=True, inferSchema=True)\n",
    "wind_direction_df = spark.read.csv(f'{DATASET_PATH}wind_direction.csv', header=True, inferSchema=True)\n",
    "wind_speed_df = spark.read.csv(f'{DATASET_PATH}wind_speed.csv', header=True, inferSchema=True)"
   ]
  },
  {
   "cell_type": "markdown",
   "metadata": {},
   "source": [
    "#### These are the columns names we'll we working with"
   ]
  },
  {
   "cell_type": "code",
   "execution_count": null,
   "metadata": {},
   "outputs": [],
   "source": [
    "# Define column names\n",
    "DATETIME_COL = 'datetime'\n",
    "HUMIDITY_COL = 'humidity'\n",
    "PRESSURE_COL = 'pressure'\n",
    "TEMPERATURE_COL = 'temperature'\n",
    "WIND_DIRECTION_COL = 'wind_direction'\n",
    "WIND_SPEED_COL = 'wind_speed'\n",
    "LATITUDE_COL = 'latitude'\n",
    "LONGITUDE_COL = 'longitude'\n",
    "CITY_COL = 'city'\n",
    "COUNTRY_COL = 'country'\n",
    "WEATHER_CONDITION_COL = 'weather_condition'"
   ]
  },
  {
   "cell_type": "markdown",
   "metadata": {},
   "source": [
    "#### Filtering a DataFrame based on a specific city column and rename the column"
   ]
  },
  {
   "cell_type": "code",
   "execution_count": null,
   "metadata": {},
   "outputs": [],
   "source": [
    "from pyspark.sql import DataFrame\n",
    "from pyspark.sql.functions import col\n",
    "\n",
    "def filter_dataframe_by_city_column(dataframe: DataFrame,\n",
    "                                    city_name: str,\n",
    "                                    new_column_name: str) -> DataFrame:\n",
    "    '''\n",
    "    Filter a DataFrame based on a specific city column and rename the column.\n",
    "\n",
    "    Args:\n",
    "        - dataframe: Original DataFrame with a datetime column and city columns\n",
    "        - city_name: Name of the city to filter on\n",
    "        - new_column_name: New name to give to the city column after renaming\n",
    "\n",
    "    Returns:\n",
    "        A new DataFrame with the datetime column and a single column containing\n",
    "        the measurements related to the specified city and renamed as new_column_name.\n",
    "    '''\n",
    "    return dataframe.withColumn(new_column_name, col(city_name)) \\\n",
    "                    .select([DATETIME_COL, new_column_name])"
   ]
  },
  {
   "cell_type": "markdown",
   "metadata": {},
   "source": [
    "#### We are joining the dataframes here over the column specified by the column name"
   ]
  },
  {
   "cell_type": "code",
   "execution_count": null,
   "metadata": {},
   "outputs": [],
   "source": [
    "def join_dataframes(dataframes: List[DataFrame], column_name: str) -> DataFrame:\n",
    "    '''\n",
    "    Args:\n",
    "        - dataframes: a list of DataFrames to be joined\n",
    "        - column_name: the column over which the records should be joined\n",
    "        \n",
    "    Returns:\n",
    "        A new DataFrame resulting from joining all the DataFrames\n",
    "        over the column specified by column_name\n",
    "    '''\n",
    "    # Set the initial DataFrame for the join operation\n",
    "    joined_df = dataframes[0]\n",
    "\n",
    "    # Iterate through the remaining DataFrames and join them to the initial DataFrame\n",
    "    for dataframe in dataframes[1:]:\n",
    "        joined_df = joined_df.join(dataframe, [column_name])\n",
    "\n",
    "    # Return the final joined DataFrame\n",
    "    return joined_df"
   ]
  },
  {
   "cell_type": "code",
   "execution_count": null,
   "metadata": {},
   "outputs": [],
   "source": [
    "from pyspark.sql import Row\n",
    "\n",
    "# Initialize the weather_measurements_df variable to store the final DataFrame\n",
    "weather_measurements_df = None\n",
    "\n",
    "# Collect the rows from city_attributes_df as a list\n",
    "city_attributes_list = city_attributes_df.collect()\n",
    "\n",
    "# Iterate over each row in city_attributes_list\n",
    "for row in city_attributes_list:\n",
    "    # Get the values from the row\n",
    "    city = row.City\n",
    "    country = row.Country\n",
    "    latitude = row.Latitude\n",
    "    longitude = row.Longitude\n",
    "\n",
    "    # Create a list of DataFrames for each type of measurement in the city\n",
    "    dataframes = [\n",
    "        filter_dataframe_by_city_column(humidity_df, city, HUMIDITY_COL),\n",
    "        filter_dataframe_by_city_column(pressure_df, city, PRESSURE_COL),\n",
    "        filter_dataframe_by_city_column(temperature_df, city, TEMPERATURE_COL),\n",
    "        filter_dataframe_by_city_column(wind_direction_df, city, WIND_DIRECTION_COL),\n",
    "        filter_dataframe_by_city_column(wind_speed_df, city, WIND_SPEED_COL),\n",
    "        filter_dataframe_by_city_column(weather_conditions_df, city, WEATHER_CONDITION_COL)\n",
    "    ]\n",
    "\n",
    "    # Join the DataFrames based on the DATETIME_COL column and add additional columns\n",
    "    joined_df = join_dataframes(dataframes, DATETIME_COL) \\\n",
    "        .withColumn(CITY_COL, lit(city)) \\\n",
    "        .withColumn(COUNTRY_COL, lit(country)) \\\n",
    "        .withColumn(LATITUDE_COL, lit(latitude)) \\\n",
    "        .withColumn(LONGITUDE_COL, lit(longitude))\n",
    "\n",
    "    # Union the joined DataFrame with the previous weather_measurements_df\n",
    "    if weather_measurements_df is not None:\n",
    "        weather_measurements_df = weather_measurements_df.union(joined_df)\n",
    "    else:\n",
    "        weather_measurements_df = joined_df"
   ]
  },
  {
   "cell_type": "markdown",
   "metadata": {},
   "source": [
    "#### Showing the firse five rows to verify whats going on"
   ]
  },
  {
   "cell_type": "code",
   "execution_count": null,
   "metadata": {},
   "outputs": [
    {
     "name": "stdout",
     "output_type": "stream",
     "text": [
      "+-------------------+--------+--------+-------------+--------------+----------+-----------------+---------+-------+--------+-----------+\n",
      "|           datetime|humidity|pressure|  temperature|wind_direction|wind_speed|weather_condition|     city|country|latitude|  longitude|\n",
      "+-------------------+--------+--------+-------------+--------------+----------+-----------------+---------+-------+--------+-----------+\n",
      "|2012-10-01 12:00:00|    NULL|    NULL|         NULL|          NULL|      NULL|             NULL|Vancouver| Canada|49.24966|-123.119339|\n",
      "|2012-10-01 13:00:00|    76.0|    NULL|       284.63|           0.0|       0.0|             mist|Vancouver| Canada|49.24966|-123.119339|\n",
      "|2012-10-01 14:00:00|    76.0|    NULL| 284.62904131|           6.0|       0.0|    broken clouds|Vancouver| Canada|49.24966|-123.119339|\n",
      "|2012-10-01 15:00:00|    76.0|    NULL|284.626997923|          20.0|       0.0|    broken clouds|Vancouver| Canada|49.24966|-123.119339|\n",
      "|2012-10-01 16:00:00|    77.0|    NULL|284.624954535|          34.0|       0.0|    broken clouds|Vancouver| Canada|49.24966|-123.119339|\n",
      "+-------------------+--------+--------+-------------+--------------+----------+-----------------+---------+-------+--------+-----------+\n",
      "only showing top 5 rows\n",
      "\n"
     ]
    }
   ],
   "source": [
    "# Show the first 5 rows of the weather_measurements_df DataFrame\n",
    "weather_measurements_df.show(5)"
   ]
  },
  {
   "cell_type": "markdown",
   "metadata": {},
   "source": [
    "#### Printing the count of missing values in each column"
   ]
  },
  {
   "cell_type": "code",
   "execution_count": null,
   "metadata": {},
   "outputs": [
    {
     "name": "stdout",
     "output_type": "stream",
     "text": [
      "Missing values of column `datetime` count: 0\n",
      "Missing values of column `humidity` count: 28651\n",
      "Missing values of column `pressure` count: 16680\n",
      "Missing values of column `temperature` count: 8030\n",
      "Missing values of column `wind_direction` count: 7975\n",
      "Missing values of column `wind_speed` count: 7993\n",
      "Missing values of column `weather_condition` count: 7955\n",
      "Missing values of column `city` count: 0\n",
      "Missing values of column `country` count: 0\n",
      "Missing values of column `latitude` count: 0\n",
      "Missing values of column `longitude` count: 0\n"
     ]
    }
   ],
   "source": [
    "# Iterate over each column in weather_measurements_df\n",
    "for c in weather_measurements_df.columns:\n",
    "    # Print the count of missing values in the column\n",
    "    print(f'Missing values of column `{c}` count: {weather_measurements_df.where(col(c).isNull()).count()}')"
   ]
  },
  {
   "cell_type": "markdown",
   "metadata": {},
   "source": [
    "#### Dropping the rows with missing values in the dataframe and assigning the result to a new dataframe for furthe processing"
   ]
  },
  {
   "cell_type": "code",
   "execution_count": null,
   "metadata": {},
   "outputs": [
    {
     "data": {
      "text/plain": [
       "DataFrame[datetime: timestamp, humidity: double, pressure: double, temperature: double, wind_direction: double, wind_speed: double, weather_condition: string, city: string, country: string, latitude: double, longitude: double]"
      ]
     },
     "metadata": {},
     "output_type": "display_data"
    }
   ],
   "source": [
    "# Drop rows with missing values in the weather_measurements_df DataFrame\n",
    "# and assign the resulting DataFrame to not_null_weather_measurements_df\n",
    "not_null_weather_measurements_df = weather_measurements_df.dropna()\n",
    "\n",
    "# Persist the not_null_weather_measurements_df DataFrame in memory for faster access in subsequent operations\n",
    "not_null_weather_measurements_df.persist()"
   ]
  },
  {
   "cell_type": "markdown",
   "metadata": {},
   "source": [
    "#### Grouping the resulting dataframe by the WEATHER_CONDITION_COL column and then counting the number of occurences for distinct weather condition"
   ]
  },
  {
   "cell_type": "code",
   "execution_count": null,
   "metadata": {},
   "outputs": [
    {
     "name": "stdout",
     "output_type": "stream",
     "text": [
      "+----------------------------+------+\n",
      "|weather_condition           |count |\n",
      "+----------------------------+------+\n",
      "|fog                         |16185 |\n",
      "|very heavy rain             |1001  |\n",
      "|proximity shower rain       |2339  |\n",
      "|few clouds                  |133685|\n",
      "|heavy shower snow           |336   |\n",
      "|light rain                  |127364|\n",
      "|light intensity drizzle     |8048  |\n",
      "|light intensity shower rain |3633  |\n",
      "|broken clouds               |167102|\n",
      "|overcast clouds             |133778|\n",
      "|light snow                  |14368 |\n",
      "|scattered clouds            |143277|\n",
      "|thunderstorm with heavy rain|396   |\n",
      "|thunderstorm with light rain|1179  |\n",
      "|heavy intensity rain        |14075 |\n",
      "|moderate rain               |43172 |\n",
      "|light intensity drizzle rain|41    |\n",
      "|sky is clear                |641577|\n",
      "|snow                        |3156  |\n",
      "|light shower snow           |998   |\n",
      "+----------------------------+------+\n",
      "only showing top 20 rows\n",
      "\n"
     ]
    }
   ],
   "source": [
    "# Group the not_null_weather_measurements_df DataFrame by the WEATHER_CONDITION_COL column\n",
    "# and count the number of occurrences for each distinct weather condition\n",
    "# Show the result without truncating the output\n",
    "\n",
    "not_null_weather_measurements_df.groupBy(WEATHER_CONDITION_COL).count().show(truncate=False)"
   ]
  },
  {
   "cell_type": "markdown",
   "metadata": {},
   "source": [
    "#### Defining a function that takes an iterable collection of string weather conditions and returns a dictionary and the function aggregates the weather conditions into specific categories"
   ]
  },
  {
   "cell_type": "code",
   "execution_count": null,
   "metadata": {},
   "outputs": [],
   "source": [
    "\n",
    "\n",
    "def get_weather_conditions_aggregation_dict(weather_conditions: Iterable[str]) -> Dict[str, str]:\n",
    "    '''\n",
    "    Args:\n",
    "        - weather_conditions: an iterable collection of string weather conditions to be aggregated\n",
    "\n",
    "    Returns:\n",
    "        - a dictionary that maps the original weather condition name to one of the following categories:\n",
    "            - thunderstorm\n",
    "            - rainy\n",
    "            - snowy\n",
    "            - cloudy\n",
    "            - foggy\n",
    "            - sunny\n",
    "    '''\n",
    "    \n",
    "    # Initialize an empty dictionary to store the aggregated weather conditions\n",
    "    weather_conditions_dict = dict()\n",
    "  \n",
    "    # Iterate through each weather condition in the input collection\n",
    "    for weather_condition in weather_conditions:\n",
    "  \n",
    "        # Convert the weather condition to lowercase for case-insensitive matching\n",
    "        weather_condition_lowered = weather_condition.lower()\n",
    "\n",
    "        # Check if the weather condition contains keywords associated with thunderstorms\n",
    "        if any(key in weather_condition_lowered for key in ['squall', 'thunderstorm']):\n",
    "            # Assign the weather condition to the 'thunderstorm' category\n",
    "            weather_conditions_dict[weather_condition] = 'thunderstorm'\n",
    "        \n",
    "        # Check if the weather condition contains keywords associated with drizzle or rain\n",
    "        elif any(key in weather_condition_lowered for key in ['drizzle', 'rain']):\n",
    "            # Assign the weather condition to the 'rainy' category\n",
    "            weather_conditions_dict[weather_condition] = 'rainy'\n",
    "        \n",
    "        # Check if the weather condition contains keywords associated with sleet or snow\n",
    "        elif any(key in weather_condition_lowered for key in ['sleet', 'snow']):\n",
    "            # Assign the weather condition to the 'snowy' category\n",
    "            weather_conditions_dict[weather_condition] = 'snowy'\n",
    "        \n",
    "        # Check if the weather condition contains the keyword 'cloud'\n",
    "        elif 'cloud' in weather_condition_lowered:\n",
    "            # Assign the weather condition to the 'cloudy' category\n",
    "            weather_conditions_dict[weather_condition] = 'cloudy'\n",
    "        \n",
    "        # Check if the weather condition contains keywords associated with fog, mist, or haze\n",
    "        elif any(key in weather_condition_lowered for key in ['fog', 'mist', 'haze']):\n",
    "            # Assign the weather condition to the 'foggy' category\n",
    "            weather_conditions_dict[weather_condition] = 'foggy'\n",
    "        \n",
    "        # Check if the weather condition contains keywords associated with clear sky or sunshine\n",
    "        elif any(key in weather_condition_lowered for key in ['clear', 'sun']):\n",
    "            # Assign the weather condition to the 'sunny' category\n",
    "            weather_conditions_dict[weather_condition] = 'sunny'\n",
    "            \n",
    "    # Return the dictionary of aggregated weather conditions\n",
    "    return weather_conditions_dict"
   ]
  },
  {
   "cell_type": "markdown",
   "metadata": {},
   "source": [
    "#### Retrieving all distinct weather conditions from the not_null_weather_measurements_df DataFrame\n"
   ]
  },
  {
   "cell_type": "code",
   "execution_count": null,
   "metadata": {},
   "outputs": [],
   "source": [
    "# Select the WEATHER_CONDITION_COL column from the DataFrame\n",
    "# Apply the distinct() function to get the unique values\n",
    "# Convert the result to an RDD\n",
    "# Collect the values as a list\n",
    "weather_conditions_all = not_null_weather_measurements_df \\\n",
    "    .select(WEATHER_CONDITION_COL).distinct() \\\n",
    "    .rdd.map(lambda row: row[0]) \\\n",
    "    .collect()"
   ]
  },
  {
   "cell_type": "code",
   "execution_count": null,
   "metadata": {},
   "outputs": [],
   "source": [
    "# Create a dictionary that aggregates weather conditions into specific categories\n",
    "# Call the function get_weather_conditions_aggregation_dict() with the input of all weather conditions\n",
    "# Store the resulting dictionary in the variable weather_conditions_dict\n",
    "weather_conditions_dict = get_weather_conditions_aggregation_dict(weather_conditions_all)"
   ]
  },
  {
   "cell_type": "code",
   "execution_count": null,
   "metadata": {},
   "outputs": [
    {
     "data": {
      "text/plain": [
       "DataFrame[datetime: timestamp, humidity: double, pressure: double, temperature: double, wind_direction: double, wind_speed: double, weather_condition: string, city: string, country: string, latitude: double, longitude: double]"
      ]
     },
     "metadata": {},
     "output_type": "display_data"
    }
   ],
   "source": [
    "# Replace the weather conditions in the not_null_weather_measurements_df DataFrame using the weather_conditions_dict\n",
    "# Store the result in the weather_measurements_aggregated_df DataFrame\n",
    "weather_measurements_aggregated_df = not_null_weather_measurements_df.replace(weather_conditions_dict)\n",
    "\n",
    "# Persist the weather_measurements_aggregated_df DataFrame in memory for faster access\n",
    "weather_measurements_aggregated_df.persist()"
   ]
  },
  {
   "cell_type": "markdown",
   "metadata": {},
   "source": [
    "#### Getting the unique set of weather conditions and filtering  to include only rows where the weather condition is in the unique set of weather conditions "
   ]
  },
  {
   "cell_type": "code",
   "execution_count": null,
   "metadata": {},
   "outputs": [],
   "source": [
    "# Get the unique set of weather conditions from the existing dictionary\n",
    "unique_weather_conditions = set(weather_conditions_dict.values())\n",
    "\n",
    "# Filter the weather_measurements_aggregated_df DataFrame to include only rows where the weather condition is in the unique set of weather conditions\n",
    "filtered_weather_measurements_aggregated_df = weather_measurements_aggregated_df \\\n",
    "    .filter(weather_measurements_aggregated_df[WEATHER_CONDITION_COL].isin(unique_weather_conditions))"
   ]
  },
  {
   "cell_type": "markdown",
   "metadata": {},
   "source": [
    "#### Grouping the resulting dataframe by the WEATHER_CONDITION_COL column and then counting the number of occurences for distinct weather condition"
   ]
  },
  {
   "cell_type": "code",
   "execution_count": null,
   "metadata": {},
   "outputs": [
    {
     "name": "stdout",
     "output_type": "stream",
     "text": [
      "+--------------------+------+\n",
      "|   weather_condition| count|\n",
      "+--------------------+------+\n",
      "|               rainy|202725|\n",
      "|               snowy| 21283|\n",
      "|               sunny|641577|\n",
      "|              cloudy|577842|\n",
      "|        thunderstorm| 10852|\n",
      "|               foggy|138707|\n",
      "|               smoke|  2062|\n",
      "|                dust|  1188|\n",
      "|        volcanic ash|     3|\n",
      "|proximity sand/du...|     7|\n",
      "|                sand|    67|\n",
      "|    sand/dust whirls|     4|\n",
      "|             tornado|     2|\n",
      "+--------------------+------+\n",
      "\n"
     ]
    }
   ],
   "source": [
    "# Group the weather_measurements_aggregated_df DataFrame by the values in the WEATHER_CONDITION_COL column\n",
    "# Count the number of occurrences for each unique value in the WEATHER_CONDITION_COL column\n",
    "# Show the results\n",
    "weather_measurements_aggregated_df.groupBy(WEATHER_CONDITION_COL).count().show()"
   ]
  },
  {
   "cell_type": "markdown",
   "metadata": {},
   "source": [
    "#### Verifying how data loooks"
   ]
  },
  {
   "cell_type": "code",
   "execution_count": null,
   "metadata": {},
   "outputs": [
    {
     "name": "stdout",
     "output_type": "stream",
     "text": [
      "+-------------------+--------+--------+-------------+--------------+----------+-----------------+---------+-------+--------+-----------+\n",
      "|           datetime|humidity|pressure|  temperature|wind_direction|wind_speed|weather_condition|     city|country|latitude|  longitude|\n",
      "+-------------------+--------+--------+-------------+--------------+----------+-----------------+---------+-------+--------+-----------+\n",
      "|2012-10-02 09:00:00|    87.0|   807.0| 284.59021694|         268.0|       0.0|           cloudy|Vancouver| Canada|49.24966|-123.119339|\n",
      "|2012-10-02 10:00:00|    88.0|   849.0|284.588173552|         281.0|       0.0|           cloudy|Vancouver| Canada|49.24966|-123.119339|\n",
      "|2012-10-02 11:00:00|    89.0|   890.0|284.586130164|         295.0|       0.0|           cloudy|Vancouver| Canada|49.24966|-123.119339|\n",
      "|2012-10-02 12:00:00|    89.0|   932.0|284.584086776|         309.0|       0.0|           cloudy|Vancouver| Canada|49.24966|-123.119339|\n",
      "|2012-10-02 13:00:00|    90.0|   973.0|284.582043388|         323.0|       0.0|           cloudy|Vancouver| Canada|49.24966|-123.119339|\n",
      "+-------------------+--------+--------+-------------+--------------+----------+-----------------+---------+-------+--------+-----------+\n",
      "only showing top 5 rows\n",
      "\n"
     ]
    }
   ],
   "source": [
    "# Show the first 5 rows of the weather_measurements_aggregated_df DataFrame\n",
    "weather_measurements_aggregated_df.show(5)"
   ]
  },
  {
   "cell_type": "markdown",
   "metadata": {},
   "source": [
    "#### Defining a function that counts the occurrences of a specific weather condition in a DataFrame\n"
   ]
  },
  {
   "cell_type": "code",
   "execution_count": null,
   "metadata": {},
   "outputs": [],
   "source": [
    "# Define a function that counts the occurrences of a specific weather condition in a DataFrame\n",
    "def count_weather_condition_occurrences(dataframe: DataFrame, class_name: str) -> int:\n",
    "    '''\n",
    "    Args:\n",
    "        - dataframe: a `DataFrame` which contains a column `WEATHER_CONDITION_COL`\n",
    "        - class_name: the class name to count the occurrences of\n",
    "        \n",
    "    Returns:\n",
    "        the total number of `class_name` occurrences inside `dataframe`\n",
    "    '''\n",
    "    # Filter the DataFrame to only include rows where the WEATHER_CONDITION_COL is equal to class_name\n",
    "    # Count the number of rows in the filtered DataFrame and return the count\n",
    "    return dataframe.filter(dataframe[WEATHER_CONDITION_COL] == class_name).count()"
   ]
  },
  {
   "cell_type": "markdown",
   "metadata": {},
   "source": [
    "#### Calculating the fraction to sample for each weather condition to match the occurrences of the minority class\n"
   ]
  },
  {
   "cell_type": "code",
   "execution_count": null,
   "metadata": {},
   "outputs": [],
   "source": [
    "def get_undersampling_fracs(dataframe: DataFrame) -> Dict[str, float]:\n",
    "    '''\n",
    "    Args:\n",
    "        - dataframe: a `DataFrame` of weather measurements which contains a column `WEATHER_CONDITION_COL`\n",
    "        \n",
    "    Returns:\n",
    "        a dictionary that goes from a weather condition to its fraction\n",
    "        that should be sampled in order to match the occurrences of the minority class\n",
    "    '''\n",
    "\n",
    "    # Count the occurrences of each weather condition in the DataFrame\n",
    "    rainy_cnt = count_weather_condition_occurrences(dataframe, 'rainy')\n",
    "    snowy_cnt = count_weather_condition_occurrences(dataframe, 'snowy')\n",
    "    sunny_cnt = count_weather_condition_occurrences(dataframe, 'sunny')\n",
    "    foggy_cnt = count_weather_condition_occurrences(dataframe, 'foggy')\n",
    "    cloudy_cnt = count_weather_condition_occurrences(dataframe, 'cloudy')\n",
    "    thunderstorm_cnt = count_weather_condition_occurrences(dataframe, 'thunderstorm')\n",
    "\n",
    "    # Find the count of the minority class\n",
    "    minority_class_cnt = np.min(\n",
    "        [rainy_cnt, snowy_cnt, sunny_cnt, cloudy_cnt, foggy_cnt, thunderstorm_cnt]\n",
    "    )\n",
    "\n",
    "    # Calculate the fraction to sample for each weather condition to match the occurrences of the minority class\n",
    "    return {\n",
    "        'rainy': minority_class_cnt / rainy_cnt if rainy_cnt != 0 else 0,\n",
    "        'snowy': minority_class_cnt / snowy_cnt if snowy_cnt != 0 else 0,\n",
    "        'sunny': minority_class_cnt / sunny_cnt if sunny_cnt != 0 else 0,\n",
    "        'foggy': minority_class_cnt / foggy_cnt if foggy_cnt != 0 else 0,\n",
    "        'cloudy': minority_class_cnt / cloudy_cnt if cloudy_cnt != 0 else 0,\n",
    "        'thunderstorm': minority_class_cnt / thunderstorm_cnt if thunderstorm_cnt != 0 else 0\n",
    "    }"
   ]
  },
  {
   "cell_type": "markdown",
   "metadata": {},
   "source": [
    "#### Sampling the weather measurements DataFrame using the given fractions for undersampling and the random seed and then persisting the data\n"
   ]
  },
  {
   "cell_type": "code",
   "execution_count": null,
   "metadata": {},
   "outputs": [
    {
     "data": {
      "text/plain": [
       "DataFrame[datetime: timestamp, humidity: double, pressure: double, temperature: double, wind_direction: double, wind_speed: double, weather_condition: string, city: string, country: string, latitude: double, longitude: double]"
      ]
     },
     "metadata": {},
     "output_type": "display_data"
    }
   ],
   "source": [
    "# Sample the weather measurements DataFrame using the given fractions for undersampling and the random seed\n",
    "sampled_weather_measurements_df = weather_measurements_aggregated_df.sampleBy(WEATHER_CONDITION_COL,\n",
    "                                                                               fractions=get_undersampling_fracs(weather_measurements_aggregated_df),\n",
    "                                                                               seed=RANDOM_SEED)\n",
    "\n",
    "# Persist the sampled DataFrame in memory for faster access\n",
    "sampled_weather_measurements_df.persist()"
   ]
  },
  {
   "cell_type": "markdown",
   "metadata": {},
   "source": []
  },
  {
   "cell_type": "markdown",
   "metadata": {},
   "source": [
    "#### This code block checks if the LOAD_SAMPLED_DATASET flag is set to True. If it is, it loads a DataFrame called sampled_weather_measurements_df by reading a CSV file from the specified path using the spark.read.csv() method."
   ]
  },
  {
   "cell_type": "code",
   "execution_count": null,
   "metadata": {},
   "outputs": [],
   "source": [
    "# If the flag LOAD_SAMPLED_DATASET is True, load the sampled weather measurements DataFrame from the given path\n",
    "if LOAD_SAMPLED_DATASET:\n",
    "    sampled_weather_measurements_df = spark.read.csv(SAMPLED_DATASET_PATH, header=True, inferSchema=True)\n",
    "    \n",
    "# If the flag SAVE_COMPUTATIONS is True and the sampled DataFrame was not loaded, save the sampled weather measurements DataFrame to the given path\n",
    "if SAVE_COMPUTATIONS and not LOAD_SAMPLED_DATASET:\n",
    "    sampled_weather_measurements_df.write.csv(SAMPLED_DATASET_PATH,\n",
    "                                              mode='overwrite',\n",
    "                                              header=True)"
   ]
  },
  {
   "cell_type": "markdown",
   "metadata": {},
   "source": [
    "#### Grouping the sampled weather_measurements_df DataFrame by WEATHER_CONDITION_COL and count the occurrences of each weather condition\n"
   ]
  },
  {
   "cell_type": "code",
   "execution_count": null,
   "metadata": {},
   "outputs": [
    {
     "name": "stdout",
     "output_type": "stream",
     "text": [
      "+-----------------+-----+\n",
      "|weather_condition|count|\n",
      "+-----------------+-----+\n",
      "|            rainy|10778|\n",
      "|            snowy|10913|\n",
      "|            sunny|10863|\n",
      "|           cloudy|10814|\n",
      "|     thunderstorm|10852|\n",
      "|            foggy|10865|\n",
      "+-----------------+-----+\n",
      "\n"
     ]
    }
   ],
   "source": [
    "# Group the sampled weather_measurements_df DataFrame by WEATHER_CONDITION_COL and count the occurrences of each weather condition\n",
    "sampled_weather_measurements_df.groupBy(WEATHER_CONDITION_COL).count().show()"
   ]
  },
  {
   "cell_type": "code",
   "execution_count": null,
   "metadata": {},
   "outputs": [
    {
     "data": {
      "text/html": [
       "<div>\n",
       "<style scoped>\n",
       "    .dataframe tbody tr th:only-of-type {\n",
       "        vertical-align: middle;\n",
       "    }\n",
       "\n",
       "    .dataframe tbody tr th {\n",
       "        vertical-align: top;\n",
       "    }\n",
       "\n",
       "    .dataframe thead th {\n",
       "        text-align: right;\n",
       "    }\n",
       "</style>\n",
       "<table border=\"1\" class=\"dataframe\">\n",
       "  <thead>\n",
       "    <tr style=\"text-align: right;\">\n",
       "      <th></th>\n",
       "      <th>0</th>\n",
       "      <th>1</th>\n",
       "      <th>2</th>\n",
       "      <th>3</th>\n",
       "      <th>4</th>\n",
       "    </tr>\n",
       "  </thead>\n",
       "  <tbody>\n",
       "    <tr>\n",
       "      <th>summary</th>\n",
       "      <td>count</td>\n",
       "      <td>mean</td>\n",
       "      <td>stddev</td>\n",
       "      <td>min</td>\n",
       "      <td>max</td>\n",
       "    </tr>\n",
       "    <tr>\n",
       "      <th>humidity</th>\n",
       "      <td>65085</td>\n",
       "      <td>73.78815395252363</td>\n",
       "      <td>20.467573474354854</td>\n",
       "      <td>5.0</td>\n",
       "      <td>100.0</td>\n",
       "    </tr>\n",
       "    <tr>\n",
       "      <th>pressure</th>\n",
       "      <td>65085</td>\n",
       "      <td>1017.1158792348467</td>\n",
       "      <td>13.210602011757151</td>\n",
       "      <td>803.0</td>\n",
       "      <td>1100.0</td>\n",
       "    </tr>\n",
       "    <tr>\n",
       "      <th>temperature</th>\n",
       "      <td>65085</td>\n",
       "      <td>286.4641657619934</td>\n",
       "      <td>11.967652681315787</td>\n",
       "      <td>243.62</td>\n",
       "      <td>320.15</td>\n",
       "    </tr>\n",
       "    <tr>\n",
       "      <th>wind_direction</th>\n",
       "      <td>65085</td>\n",
       "      <td>184.12873934086196</td>\n",
       "      <td>103.78143313126054</td>\n",
       "      <td>0.0</td>\n",
       "      <td>360.0</td>\n",
       "    </tr>\n",
       "    <tr>\n",
       "      <th>wind_speed</th>\n",
       "      <td>65085</td>\n",
       "      <td>3.1798110163632174</td>\n",
       "      <td>2.298136473989447</td>\n",
       "      <td>0.0</td>\n",
       "      <td>25.0</td>\n",
       "    </tr>\n",
       "    <tr>\n",
       "      <th>weather_condition</th>\n",
       "      <td>65085</td>\n",
       "      <td>None</td>\n",
       "      <td>None</td>\n",
       "      <td>cloudy</td>\n",
       "      <td>thunderstorm</td>\n",
       "    </tr>\n",
       "    <tr>\n",
       "      <th>city</th>\n",
       "      <td>65085</td>\n",
       "      <td>None</td>\n",
       "      <td>None</td>\n",
       "      <td>Albuquerque</td>\n",
       "      <td>Vancouver</td>\n",
       "    </tr>\n",
       "    <tr>\n",
       "      <th>country</th>\n",
       "      <td>65085</td>\n",
       "      <td>None</td>\n",
       "      <td>None</td>\n",
       "      <td>Canada</td>\n",
       "      <td>United States</td>\n",
       "    </tr>\n",
       "    <tr>\n",
       "      <th>latitude</th>\n",
       "      <td>65085</td>\n",
       "      <td>37.9721798544673</td>\n",
       "      <td>5.811772525936424</td>\n",
       "      <td>25.774269</td>\n",
       "      <td>49.24966</td>\n",
       "    </tr>\n",
       "    <tr>\n",
       "      <th>longitude</th>\n",
       "      <td>65085</td>\n",
       "      <td>-82.09729020462461</td>\n",
       "      <td>38.88174117366339</td>\n",
       "      <td>-123.119339</td>\n",
       "      <td>35.216331</td>\n",
       "    </tr>\n",
       "  </tbody>\n",
       "</table>\n",
       "</div>"
      ],
      "text/plain": [
       "                       0                   1                   2            3              4\n",
       "summary            count                mean              stddev          min            max\n",
       "humidity           65085   73.78815395252363  20.467573474354854          5.0          100.0\n",
       "pressure           65085  1017.1158792348467  13.210602011757151        803.0         1100.0\n",
       "temperature        65085   286.4641657619934  11.967652681315787       243.62         320.15\n",
       "wind_direction     65085  184.12873934086196  103.78143313126054          0.0          360.0\n",
       "wind_speed         65085  3.1798110163632174   2.298136473989447          0.0           25.0\n",
       "weather_condition  65085                None                None       cloudy   thunderstorm\n",
       "city               65085                None                None  Albuquerque      Vancouver\n",
       "country            65085                None                None       Canada  United States\n",
       "latitude           65085    37.9721798544673   5.811772525936424    25.774269       49.24966\n",
       "longitude          65085  -82.09729020462461   38.88174117366339  -123.119339      35.216331"
      ]
     },
     "metadata": {},
     "output_type": "display_data"
    }
   ],
   "source": [
    "# Calculate the summary statistics for the sampled_weather_measurements_df DataFrame\n",
    "sampled_weather_measurements_df.describe().to_koalas().transpose()"
   ]
  },
  {
   "cell_type": "markdown",
   "metadata": {},
   "source": [
    "#### Spliting the sampled_weather_measurements_df dataframe into train_df and test_df dataframes using a 80% - 20% ratio and specifying the random seed"
   ]
  },
  {
   "cell_type": "code",
   "execution_count": null,
   "metadata": {},
   "outputs": [
    {
     "data": {
      "text/plain": [
       "DataFrame[datetime: timestamp, humidity: double, pressure: double, temperature: double, wind_direction: double, wind_speed: double, weather_condition: string, city: string, country: string, latitude: double, longitude: double]"
      ]
     },
     "metadata": {},
     "output_type": "display_data"
    }
   ],
   "source": [
    "# Split the sampled_weather_measurements_df dataframe into train_df and test_df dataframes\n",
    "# using a 80% - 20% ratio and specifying the random seed\n",
    "\n",
    "train_df, test_df = sampled_weather_measurements_df.randomSplit([0.8, 0.2], seed=RANDOM_SEED)\n",
    "\n",
    "# Persist the train_df and test_df dataframes in memory\n",
    "# to improve performance for subsequent operations\n",
    "\n",
    "train_df.persist()\n",
    "test_df.persist()"
   ]
  },
  {
   "cell_type": "markdown",
   "metadata": {},
   "source": [
    "#### Applying a limit to the training dataframe in order to prevent an Internal Server Error in DataBricks\n"
   ]
  },
  {
   "cell_type": "code",
   "execution_count": null,
   "metadata": {},
   "outputs": [],
   "source": [
    "# Apply a limit to the training dataframe in order to prevent an Internal Server Error in DataBricks\n",
    "train_df = train_df.limit(MAX_TRAIN_SIZE)"
   ]
  },
  {
   "cell_type": "code",
   "execution_count": null,
   "metadata": {},
   "outputs": [
    {
     "name": "stdout",
     "output_type": "stream",
     "text": [
      "Train set size:  51903 instances\n",
      "Test set size:   13182 instances\n"
     ]
    }
   ],
   "source": [
    "# Print the size of the train_df dataframe\n",
    "print(f'Train set size:  {train_df.count()} instances')\n",
    "\n",
    "# Print the size of the test_df dataframe\n",
    "print(f'Test set size:   {test_df.count()} instances')"
   ]
  },
  {
   "cell_type": "markdown",
   "metadata": {},
   "source": [
    "#### Defining some columns and empty lists for further usage"
   ]
  },
  {
   "cell_type": "code",
   "execution_count": null,
   "metadata": {},
   "outputs": [],
   "source": [
    "# Define a list of column names corresponding to numerical features\n",
    "NUMERICAL_FEATURES = [HUMIDITY_COL,\n",
    "                      PRESSURE_COL,\n",
    "                      TEMPERATURE_COL,\n",
    "                      WIND_DIRECTION_COL,\n",
    "                      WIND_SPEED_COL,\n",
    "                      LATITUDE_COL,\n",
    "                      LONGITUDE_COL]\n",
    "\n",
    "# Define an empty list for column names corresponding to categorical features\n",
    "CATEGORICAL_FEATURES = []\n",
    "\n",
    "# Define the column name corresponding to the target variable\n",
    "TARGET_VARIABLE_COL = WEATHER_CONDITION_COL\n",
    "\n",
    "# Define the column name for the predicted target variable\n",
    "PREDICTED_TARGET_VARIABLE_COL = f'predicted_{TARGET_VARIABLE_COL}'\n",
    "\n",
    "# Define the column name for the label column\n",
    "LABEL_COL = 'label'\n",
    "\n",
    "# Define the column name for the prediction column\n",
    "PREDICTION_COL = 'prediction'\n",
    "\n",
    "# Define the column name for the features column\n",
    "FEATURES_COL = 'features'\n",
    "\n",
    "# Define the column name for the scaled features column\n",
    "SCALED_FEATURES_COL = f'scaled_{FEATURES_COL}'"
   ]
  },
  {
   "cell_type": "markdown",
   "metadata": {},
   "source": [
    "#### Saving the model to a specific path"
   ]
  },
  {
   "cell_type": "code",
   "execution_count": null,
   "metadata": {},
   "outputs": [],
   "source": [
    "def save_pyspark_model(model, path: str, append_datetime: bool = True) -> None:\n",
    "    '''\n",
    "    Save a PySpark model to a specified path.\n",
    "    \n",
    "    Args:\n",
    "        - model: the PySpark model to be saved\n",
    "        - path: the file path to save the model\n",
    "        - append_datetime: whether to append current datetime to the path (True by default)\n",
    "    '''\n",
    "    \n",
    "    if append_datetime:\n",
    "        from datetime import datetime\n",
    "        path += '-' + datetime.now().strftime(\"%Y%d%m-%H%M%S\")\n",
    "    \n",
    "    model.write().overwrite().save(path)\n",
    "    print(path)"
   ]
  },
  {
   "cell_type": "markdown",
   "metadata": {},
   "source": [
    "#### Fitting a pipeline for encoding categorical features and scaling numerical features."
   ]
  },
  {
   "cell_type": "code",
   "execution_count": null,
   "metadata": {},
   "outputs": [],
   "source": [
    "def encoding_pipeline(dataframe: DataFrame,\n",
    "                      numerical_features: List[str],\n",
    "                      categorical_features: List[str],\n",
    "                      target_variable: str,\n",
    "                      with_std: bool = True,\n",
    "                      with_mean: bool = False) -> PipelineModel:\n",
    "    '''\n",
    "    Fit a pipeline for encoding categorical features and scaling numerical features.\n",
    "  \n",
    "    Args:\n",
    "        - dataframe: the input `DataFrame` to fit the pipeline\n",
    "        - numerical_features: the list of column names in `dataframe` corresponding to numerical features\n",
    "        - categorical_features: the list of column names in `dataframe` corresponding to categorical features\n",
    "        - target_variable: the column name in `dataframe` corresponding to the target variable\n",
    "        - with_std: whether to scale the data to unit standard deviation or not (True by default)\n",
    "        - with_mean: whether to center the data with mean before scaling (False by default)\n",
    "\n",
    "    Returns:\n",
    "        the encoding pipeline fitted with `dataframe`\n",
    "    '''\n",
    "\n",
    "    # Import necessary modules\n",
    "    from pyspark.ml import Pipeline\n",
    "    from pyspark.ml.feature import StringIndexer, OneHotEncoder, VectorAssembler, StandardScaler\n",
    "\n",
    "    # Indexing, i.e. transform to numerical values, the target column and rename it as the variable `LABEL_COL`\n",
    "    label_indexer = StringIndexer(inputCol=target_variable, outputCol=LABEL_COL)\n",
    "    \n",
    "    # Create a list of indexers, one for each categorical feature\n",
    "    indexers = [StringIndexer(inputCol=c, outputCol=f'{c}_indexed', handleInvalid='keep') for c in categorical_features]\n",
    "\n",
    "    # Create the one-hot encoder for the list of features just indexed (this encoder will keep any unseen label in the future)\n",
    "    encoder = OneHotEncoder(inputCols=[indexer.getOutputCol() for indexer in indexers], \n",
    "                            outputCols=[f'{indexer.getOutputCol()}_encoded' for indexer in indexers], \n",
    "                            handleInvalid='keep')\n",
    "    \n",
    "    # Assemble all the features (both one-hot-encoded categorical and numerical) into a single vector\n",
    "    features = encoder.getOutputCols() + numerical_features\n",
    "    assembler = VectorAssembler(inputCols=features, outputCol=FEATURES_COL)\n",
    "    \n",
    "    # Create a second feature column with the data scaled accordingly to `withStd` and `withMean`\n",
    "    scaler = StandardScaler(inputCol=assembler.getOutputCol(), outputCol=SCALED_FEATURES_COL, withStd=with_std, withMean=with_mean)\n",
    "    \n",
    "    # Define the stages of the pipeline\n",
    "    stages = [label_indexer] + indexers + [encoder] + [assembler] + [scaler]\n",
    "    \n",
    "    # Create the pipeline\n",
    "    pipeline = Pipeline(stages=stages)\n",
    "\n",
    "    # Fit the pipeline with the input dataframe\n",
    "    transformer = pipeline.fit(dataframe)\n",
    "\n",
    "    # Return the fitted pipeline\n",
    "    return transformer"
   ]
  },
  {
   "cell_type": "markdown",
   "metadata": {},
   "source": [
    "##### Loading the encoding pipeline if LOAD_ENCODING_PIPELINE is True, otherwise create a new encoding pipeline\n"
   ]
  },
  {
   "cell_type": "code",
   "execution_count": null,
   "metadata": {},
   "outputs": [],
   "source": [
    "data_encoder = PipelineModel.load(ENCODING_PIPELINE_PATH) if LOAD_ENCODING_PIPELINE \\\n",
    "               else encoding_pipeline(train_df, NUMERICAL_FEATURES, CATEGORICAL_FEATURES, TARGET_VARIABLE_COL)"
   ]
  },
  {
   "cell_type": "code",
   "execution_count": null,
   "metadata": {},
   "outputs": [
    {
     "name": "stdout",
     "output_type": "stream",
     "text": [
      "dbfs:/bigdata_proj/models/historical-hourly-weather/data_encoder-20243003-002638\n"
     ]
    }
   ],
   "source": [
    "# Check if SAVE_COMPUTATIONS is True and LOAD_ENCODING_PIPELINE is False\n",
    "if SAVE_COMPUTATIONS and not LOAD_ENCODING_PIPELINE:\n",
    "    # Save the data_encoder model to the ENCODING_PIPELINE_PATH\n",
    "    save_pyspark_model(data_encoder, ENCODING_PIPELINE_PATH)"
   ]
  },
  {
   "cell_type": "markdown",
   "metadata": {},
   "source": [
    "#### Applying the encoding pipeling to training and testing dataset"
   ]
  },
  {
   "cell_type": "code",
   "execution_count": null,
   "metadata": {},
   "outputs": [],
   "source": [
    "# Apply the encoding pipeline to the training dataset and store the result in encoded_train_df\n",
    "encoded_train_df = data_encoder.transform(train_df)\n",
    "\n",
    "# Apply the encoding pipeline to the testing dataset and store the result in encoded_test_df\n",
    "encoded_test_df = data_encoder.transform(test_df)"
   ]
  },
  {
   "cell_type": "markdown",
   "metadata": {},
   "source": [
    "#### Training a random forest model with the encoded training data"
   ]
  },
  {
   "cell_type": "code",
   "execution_count": null,
   "metadata": {},
   "outputs": [],
   "source": [
    "# Import the required libraries\n",
    "from pyspark.ml.classification import RandomForestClassifier, RandomForestClassificationModel\n",
    "\n",
    "# Train a random forest model with the encoded training data\n",
    "rnd_forest_model = RandomForestClassifier(featuresCol=FEATURES_COL, labelCol=LABEL_COL).fit(encoded_train_df)"
   ]
  },
  {
   "cell_type": "markdown",
   "metadata": {},
   "source": [
    "#### Applying the trained random forest model to the encoded testing data"
   ]
  },
  {
   "cell_type": "code",
   "execution_count": null,
   "metadata": {},
   "outputs": [],
   "source": [
    "# Apply the trained random forest model to the encoded testing data\n",
    "rnd_forest_predictions = rnd_forest_model.transform(encoded_test_df)"
   ]
  },
  {
   "cell_type": "markdown",
   "metadata": {},
   "source": [
    "#### Creating an IndexToString transformer to convert index predictions to their corresponding string labels"
   ]
  },
  {
   "cell_type": "code",
   "execution_count": null,
   "metadata": {},
   "outputs": [],
   "source": [
    "# Import the required libraries\n",
    "from pyspark.ml.feature import IndexToString\n",
    "\n",
    "# Create an IndexToString transformer to convert index predictions to their corresponding string labels\n",
    "predictions_idx_to_str = IndexToString(inputCol=PREDICTION_COL,\n",
    "                                       outputCol=PREDICTED_TARGET_VARIABLE_COL,\n",
    "                                       labels=data_encoder.stages[0].labels)"
   ]
  },
  {
   "cell_type": "code",
   "execution_count": null,
   "metadata": {},
   "outputs": [],
   "source": [
    "# Apply the IndexToString transformer to convert the indexed predictions to their corresponding string labels\n",
    "rnd_forest_predictions = predictions_idx_to_str.transform(rnd_forest_predictions)"
   ]
  },
  {
   "cell_type": "markdown",
   "metadata": {},
   "source": [
    "#### Evaluating the predictions made by a model by computing and printing metrics such as accuracy, precision, recall, and F1-score\n"
   ]
  },
  {
   "cell_type": "code",
   "execution_count": null,
   "metadata": {},
   "outputs": [],
   "source": [
    "def eval_predictions(predictions: DataFrame) -> None:\n",
    "    '''\n",
    "    Evaluates the predictions made by a model by computing and printing metrics such as accuracy, precision, recall, and F1-score\n",
    "    \n",
    "    Args:\n",
    "        predictions: a DataFrame that has at least a `LABEL_COL` and a `PREDICTION_COL`\n",
    "    '''\n",
    "    # Import the required libraries\n",
    "    from sklearn.metrics import precision_score, recall_score, accuracy_score\n",
    "\n",
    "    # Convert the labels and predictions columns from Spark DataFrame to NumPy arrays using Koalas\n",
    "    labels = predictions.select(LABEL_COL).to_koalas().to_numpy()\n",
    "    predictions = predictions.select(PREDICTION_COL).to_koalas().to_numpy()\n",
    "\n",
    "    # Compute the precision, recall, F1-score, and accuracy\n",
    "    precision = precision_score(labels, predictions, average='macro')\n",
    "    recall = recall_score(labels, predictions, average='macro')\n",
    "    f1_score = 2 * precision * recall / (precision + recall)\n",
    "    accuracy = accuracy_score(labels, predictions)    \n",
    "\n",
    "    # Print the metrics\n",
    "    print(f'Accuracy: {accuracy}')\n",
    "    print(f'Precision: {precision}')\n",
    "    print(f'Recall: {recall}')\n",
    "    print(f'F1-score: {f1_score}')"
   ]
  },
  {
   "cell_type": "markdown",
   "metadata": {},
   "source": [
    "#### Actually calling the above method"
   ]
  },
  {
   "cell_type": "code",
   "execution_count": null,
   "metadata": {},
   "outputs": [
    {
     "name": "stdout",
     "output_type": "stream",
     "text": [
      "Accuracy: 0.5099377939614625\n",
      "Precision: 0.48479909696635115\n",
      "Recall: 0.511295613908301\n",
      "F1-score: 0.49769494647340407\n"
     ]
    }
   ],
   "source": [
    "# Call the eval_predictions function and pass rnd_forest_predictions as an argument\n",
    "eval_predictions(rnd_forest_predictions)"
   ]
  },
  {
   "cell_type": "markdown",
   "metadata": {},
   "source": [
    "#### Plotting a confusion matrix"
   ]
  },
  {
   "cell_type": "code",
   "execution_count": null,
   "metadata": {},
   "outputs": [],
   "source": [
    "import matplotlib.pyplot as plt\n",
    "import numpy as np\n",
    "\n",
    "def plot_confusion_matrix(predictions_df: DataFrame,\n",
    "                          normalize: bool = False,\n",
    "                          title: str = None):\n",
    "    '''\n",
    "    Plots a Confusion Matrix computed on the given DataFrame\n",
    "    \n",
    "    Args:\n",
    "        - predictions_df: a DataFrame that has at least a TARGET_VARIABLE_COL and a PREDICTED_TARGET_VARIABLE_COL\n",
    "        - normalize: True to normalize the values in the Confusion Matrix, False otherwise\n",
    "        - title: optional title to append on top of the plotted Confusion Matrix\n",
    "    '''\n",
    "    \n",
    "    # Import required libraries\n",
    "    from sklearn.metrics import confusion_matrix\n",
    "    from sklearn.utils.multiclass import unique_labels\n",
    "    \n",
    "    # Convert the labels and predictions columns from Spark DataFrame to NumPy arrays using Koalas\n",
    "    labels = predictions_df.select(TARGET_VARIABLE_COL).to_koalas().to_numpy()\n",
    "    predictions = predictions_df.select(PREDICTED_TARGET_VARIABLE_COL).to_koalas().to_numpy()\n",
    "\n",
    "    # Set the title if not provided\n",
    "    if not title:\n",
    "        if normalize:\n",
    "            title = 'Normalized confusion matrix'\n",
    "        else:\n",
    "            title = 'Confusion matrix, without normalization'\n",
    "\n",
    "    # Compute the confusion matrix\n",
    "    cm = confusion_matrix(labels, predictions, labels=None)\n",
    "    \n",
    "    # Only use the labels that appear in the data\n",
    "    classes = unique_labels(labels, predictions)\n",
    "\n",
    "    # Normalize the confusion matrix if required\n",
    "    if normalize:\n",
    "        cm = cm.astype('float') / cm.sum(axis=1)[:, np.newaxis]\n",
    "\n",
    "    # Create the plot\n",
    "    fig, ax = plt.subplots()\n",
    "    im = ax.imshow(cm, interpolation='nearest', cmap=plt.cm.Blues)\n",
    "    ax.figure.colorbar(im, ax=ax)\n",
    "    \n",
    "    # Set the tick labels and axis labels\n",
    "    ax.set(xticks=np.arange(cm.shape[1]), yticks=np.arange(cm.shape[0]),\n",
    "           xticklabels=classes, yticklabels=classes,           \n",
    "           xlabel='Predicted label', ylabel='True label',\n",
    "           title=title)\n",
    "\n",
    "    # Set the y-axis limits\n",
    "    ax.set_ylim(len(classes) - 0.5, -0.5)\n",
    "\n",
    "    # Rotate the tick labels and set their alignment\n",
    "    plt.setp(ax.get_xticklabels(), rotation=45, ha='right', rotation_mode='anchor')\n",
    "\n",
    "    # Loop over data dimensions and create text annotations\n",
    "    fmt = '.2f' if normalize else 'd'\n",
    "    thresh = cm.max() / 2.\n",
    "    for i in range(cm.shape[0]):\n",
    "        for j in range(cm.shape[1]):\n",
    "            # Add the text annotations\n",
    "            ax.text(j, i, format(cm[i, j], fmt), ha='center', va='center',\n",
    "                    color='white' if cm[i, j] > thresh else 'black')\n",
    "\n",
    "    # Adjust layout and display the plot\n",
    "    fig.tight_layout()\n",
    "    plt.show()"
   ]
  },
  {
   "cell_type": "code",
   "execution_count": null,
   "metadata": {},
   "outputs": [
    {
     "data": {
      "image/png": "[encoded data removed]",
      "text/plain": [
       "<Figure size 640x480 with 2 Axes>"
      ]
     },
     "metadata": {},
     "output_type": "display_data"
    }
   ],
   "source": [
    "# Call the plot_confusion_matrix function and pass rnd_forest_predictions as an argument, with normalization enabled\n",
    "plot_confusion_matrix(rnd_forest_predictions, normalize=True)"
   ]
  },
  {
   "cell_type": "code",
   "execution_count": null,
   "metadata": {},
   "outputs": [
    {
     "name": "stdout",
     "output_type": "stream",
     "text": [
      "dbfs:/bigdata_proj/models/historical-hourly-weather/rnd_forest-20243003-003008\n"
     ]
    }
   ],
   "source": [
    "# Check if the flag SAVE_COMPUTATIONS is set to True and the flag LOAD_PRETRAINED_MODELS is set to False\n",
    "if SAVE_COMPUTATIONS and not LOAD_PRETRAINED_MODELS:\n",
    "    # Save the RandomForest model to the specified path\n",
    "    save_pyspark_model(rnd_forest_model, RANDOM_FOREST_MODEL_PATH)"
   ]
  },
  {
   "cell_type": "markdown",
   "metadata": {},
   "source": []
  },
  {
   "cell_type": "code",
   "execution_count": null,
   "metadata": {},
   "outputs": [],
   "source": [
    "def random_forest_pipeline(dataframe: DataFrame,\n",
    "                           numerical_features: List[str],\n",
    "                           categorical_features: List[str],\n",
    "                           target_variable: str,\n",
    "                           features_col: str,\n",
    "                           with_std: bool = True,\n",
    "                           with_mean: bool = False,\n",
    "                           k_fold: int = 5) -> CrossValidatorModel:\n",
    "  \n",
    "    # Import necessary libraries\n",
    "    from pyspark.ml.classification import RandomForestClassifier\n",
    "    from pyspark.ml.tuning import CrossValidator, ParamGridBuilder\n",
    "    from pyspark.ml.evaluation import MulticlassClassificationEvaluator\n",
    "    from pyspark.ml.feature import IndexToString\n",
    "    from pyspark.ml import Pipeline\n",
    "\n",
    "    # Perform feature encoding using the encoding_pipeline function\n",
    "    data_encoder = encoding_pipeline(dataframe,\n",
    "                                     numerical_features,\n",
    "                                     categorical_features,\n",
    "                                     target_variable,\n",
    "                                     with_std,\n",
    "                                     with_mean)\n",
    "  \n",
    "    # Create a RandomForestClassifier object\n",
    "    classifier = RandomForestClassifier(featuresCol=features_col, labelCol=LABEL_COL)\n",
    "\n",
    "    # Create an IndexToString transformer to convert prediction indices to string labels\n",
    "    predictions_idx_to_str = IndexToString(inputCol=PREDICTION_COL,\n",
    "                                           outputCol=PREDICTED_TARGET_VARIABLE_COL,\n",
    "                                           labels=data_encoder.stages[0].labels)\n",
    "\n",
    "    # Define the stages of the pipeline\n",
    "    stages = [data_encoder, classifier, predictions_idx_to_str]\n",
    "\n",
    "    # Create a pipeline with the defined stages\n",
    "    pipeline = Pipeline(stages=stages)\n",
    "\n",
    "    # Construct a grid of parameters to search over using a ParamGridBuilder\n",
    "    param_grid = ParamGridBuilder() \\\n",
    "        .addGrid(classifier.maxDepth, [3, 5, 8]) \\\n",
    "        .addGrid(classifier.numTrees, [10, 50, 100]) \\\n",
    "        .build()\n",
    "\n",
    "    # Create a MulticlassClassificationEvaluator for evaluating model performance\n",
    "    evaluator = MulticlassClassificationEvaluator(labelCol=LABEL_COL,\n",
    "                                                  predictionCol=PREDICTION_COL,\n",
    "                                                  metricName='accuracy')\n",
    "\n",
    "    # Create a CrossValidator for hyperparameter tuning\n",
    "    cross_val = CrossValidator(estimator=pipeline, \n",
    "                               estimatorParamMaps=param_grid,\n",
    "                               evaluator=evaluator,\n",
    "                               numFolds=k_fold,\n",
    "                               collectSubModels=True)\n",
    "\n",
    "    # Fit the CrossValidator to the data and obtain the best model\n",
    "    cv_model = cross_val.fit(dataframe)\n",
    "\n",
    "    return cv_model"
   ]
  },
  {
   "cell_type": "code",
   "execution_count": null,
   "metadata": {},
   "outputs": [],
   "source": [
    "# Load the pre-trained Random Forest Cross Validator model if LOAD_PRETRAINED_MODELS is True\n",
    "# Otherwise, create a new model by calling the random_forest_pipeline function with the appropriate arguments\n",
    "rnd_forest_cv_model = CrossValidatorModel.load(RANDOM_FOREST_CV_MODEL_PATH) if LOAD_PRETRAINED_MODELS \\\n",
    "                      else random_forest_pipeline(train_df,\n",
    "                                                  NUMERICAL_FEATURES,\n",
    "                                                  CATEGORICAL_FEATURES,\n",
    "                                                  TARGET_VARIABLE_COL,\n",
    "                                                  FEATURES_COL)"
   ]
  },
  {
   "cell_type": "code",
   "execution_count": null,
   "metadata": {},
   "outputs": [
    {
     "name": "stdout",
     "output_type": "stream",
     "text": [
      "Best model according to k-fold cross validation:\n",
      " - numTrees=[100]\n",
      " - maxDepth=[8]\n"
     ]
    }
   ],
   "source": [
    "# Get the best model from the Random Forest Cross Validator\n",
    "rnd_forest_cv_model_obj = rnd_forest_cv_model.bestModel.stages[-2]._java_obj\n",
    "\n",
    "# Print the parameters of the best model\n",
    "print('Best model according to k-fold cross validation:')\n",
    "print(f' - numTrees=[{rnd_forest_cv_model_obj.getNumTrees()}]')\n",
    "print(f' - maxDepth=[{rnd_forest_cv_model_obj.getMaxDepth()}]')"
   ]
  },
  {
   "cell_type": "code",
   "execution_count": null,
   "metadata": {},
   "outputs": [
    {
     "name": "stdout",
     "output_type": "stream",
     "text": [
      "dbfs:/bigdata_proj/models/historical-hourly-weather/rnd_forest_cv-20243003-004403\n"
     ]
    }
   ],
   "source": [
    "# Check if SAVE_COMPUTATIONS is True and LOAD_PRETRAINED_MODELS is False\n",
    "if SAVE_COMPUTATIONS and not LOAD_PRETRAINED_MODELS:\n",
    "    # Save the Random Forest Cross Validator model\n",
    "    save_pyspark_model(rnd_forest_cv_model, RANDOM_FOREST_CV_MODEL_PATH)"
   ]
  },
  {
   "cell_type": "code",
   "execution_count": null,
   "metadata": {},
   "outputs": [],
   "source": [
    "# Use the Random Forest Cross Validator model to make predictions on the test dataset\n",
    "rnd_forest_cv_predictions = rnd_forest_cv_model.transform(test_df)"
   ]
  },
  {
   "cell_type": "code",
   "execution_count": null,
   "metadata": {},
   "outputs": [
    {
     "name": "stdout",
     "output_type": "stream",
     "text": [
      "Accuracy: 0.5351995144894554\n",
      "Precision: 0.517572913464197\n",
      "Recall: 0.5364329012833086\n",
      "F1-score: 0.5268341705719438\n"
     ]
    }
   ],
   "source": [
    "# Evaluate the predictions from the Random Forest Cross Validation model\n",
    "eval_predictions(rnd_forest_cv_predictions)"
   ]
  },
  {
   "cell_type": "code",
   "execution_count": null,
   "metadata": {},
   "outputs": [
    {
     "data": {
      "image/png": "[encoded data removed]",
      "text/plain": [
       "<Figure size 640x480 with 2 Axes>"
      ]
     },
     "metadata": {},
     "output_type": "display_data"
    }
   ],
   "source": [
    "# Plot the confusion matrix for the random forest cross-validation predictions\n",
    "# Set the normalize parameter to True to normalize the values in the confusion matrix\n",
    "plot_confusion_matrix(rnd_forest_cv_predictions, normalize=True)"
   ]
  },
  {
   "cell_type": "code",
   "execution_count": null,
   "metadata": {},
   "outputs": [],
   "source": [
    "def logistic_regression_pipeline(dataframe: DataFrame,\n",
    "                                 numerical_features: List[str],\n",
    "                                 categorical_features: List[str],\n",
    "                                 target_variable: str,\n",
    "                                 features_col: str,\n",
    "                                 with_std: bool = True,\n",
    "                                 with_mean: bool = False,\n",
    "                                 k_fold: int = 5) -> CrossValidatorModel:\n",
    "\n",
    "    # Import necessary libraries\n",
    "    from pyspark.ml.classification import LogisticRegression\n",
    "    from pyspark.ml.tuning import CrossValidator, ParamGridBuilder\n",
    "    from pyspark.ml.evaluation import MulticlassClassificationEvaluator\n",
    "    from pyspark.ml.feature import IndexToString\n",
    "    from pyspark.ml import Pipeline\n",
    "\n",
    "    # Perform encoding pipeline\n",
    "    data_encoder = encoding_pipeline(dataframe,\n",
    "                                     numerical_features,\n",
    "                                     categorical_features,\n",
    "                                     target_variable,\n",
    "                                     with_std,\n",
    "                                     with_mean)\n",
    "\n",
    "    # Configure the logistic regression classifier\n",
    "    classifier = LogisticRegression(featuresCol=features_col, labelCol=LABEL_COL)\n",
    "\n",
    "    # Convert predicted indexes to target variable labels\n",
    "    predictions_idx_to_str = IndexToString(inputCol=PREDICTION_COL,\n",
    "                                           outputCol=PREDICTED_TARGET_VARIABLE_COL,\n",
    "                                           labels=data_encoder.stages[0].labels)\n",
    "\n",
    "    # Set the stages for the pipeline\n",
    "    stages = [data_encoder, classifier, predictions_idx_to_str]\n",
    "\n",
    "    # Create the pipeline\n",
    "    pipeline = Pipeline(stages=stages)\n",
    "\n",
    "    # Construct the parameter grid for the cross validation\n",
    "    param_grid = ParamGridBuilder() \\\n",
    "        .addGrid(classifier.maxIter, [10, 100, 1000]) \\\n",
    "        .addGrid(classifier.regParam, [0.0, 0.05, 0.1]) \\\n",
    "        .addGrid(classifier.elasticNetParam, [0.0, 0.5, 1.0]) \\\n",
    "        .build()\n",
    "\n",
    "    # Set the evaluator for the cross validation\n",
    "    evaluator = MulticlassClassificationEvaluator(labelCol=LABEL_COL,\n",
    "                                                  predictionCol=PREDICTION_COL,\n",
    "                                                  metricName='accuracy')\n",
    "\n",
    "    # Create the cross validator\n",
    "    cross_val = CrossValidator(estimator=pipeline,\n",
    "                               estimatorParamMaps=param_grid,\n",
    "                               evaluator=evaluator,\n",
    "                               numFolds=k_fold,\n",
    "                               collectSubModels=True)\n",
    "\n",
    "    # Fit the cross validator to the data\n",
    "    cv_model = cross_val.fit(dataframe)\n",
    "\n",
    "    return cv_model"
   ]
  },
  {
   "cell_type": "code",
   "execution_count": null,
   "metadata": {},
   "outputs": [],
   "source": [
    "# Load the logistic regression cross-validation model if LOAD_PRETRAINED_MODELS is True\n",
    "# Otherwise, train the model using logistic_regression_pipeline function\n",
    "log_reg_cv_model = CrossValidatorModel.load(LOGISTIC_REGRESSION_CROSS_VALIDATION_MODEL_PATH) if LOAD_PRETRAINED_MODELS \\\n",
    "                   else logistic_regression_pipeline(train_df,\n",
    "                                                     NUMERICAL_FEATURES,\n",
    "                                                     CATEGORICAL_FEATURES,\n",
    "                                                     TARGET_VARIABLE_COL,\n",
    "                                                     FEATURES_COL)"
   ]
  },
  {
   "cell_type": "code",
   "execution_count": null,
   "metadata": {},
   "outputs": [
    {
     "name": "stdout",
     "output_type": "stream",
     "text": [
      "Best model according to k-fold cross validation:\n",
      " - regParam=[0.0]\n",
      " - elasticNetParam=[0.0]\n",
      " - maxIter=[100]\n"
     ]
    }
   ],
   "source": [
    "# Retrieve the best model from the cross validation model\n",
    "log_reg_cv_best_model_obj = log_reg_cv_model.bestModel.stages[-2]._java_obj\n",
    "\n",
    "# Print the hyperparameters of the best model\n",
    "print('Best model according to k-fold cross validation:')\n",
    "print(f' - regParam=[{log_reg_cv_best_model_obj.getRegParam()}]')\n",
    "print(f' - elasticNetParam=[{log_reg_cv_best_model_obj.getElasticNetParam()}]')\n",
    "print(f' - maxIter=[{log_reg_cv_best_model_obj.getMaxIter()}]')"
   ]
  },
  {
   "cell_type": "code",
   "execution_count": null,
   "metadata": {},
   "outputs": [
    {
     "name": "stdout",
     "output_type": "stream",
     "text": [
      "dbfs:/bigdata_proj/models/historical-hourly-weather/log_reg_cv-20243003-012035\n"
     ]
    }
   ],
   "source": [
    "# Save the logistic regression cross-validation model if SAVE_COMPUTATIONS is True and LOAD_PRETRAINED_MODELS is False\n",
    "if SAVE_COMPUTATIONS and not LOAD_PRETRAINED_MODELS:\n",
    "    save_pyspark_model(log_reg_cv_model, LOGISTIC_REGRESSION_CV_MODEL_PATH)"
   ]
  },
  {
   "cell_type": "code",
   "execution_count": null,
   "metadata": {},
   "outputs": [],
   "source": [
    "# Use the logistic regression cross-validation model to make predictions on the test set\n",
    "log_reg_cv_predictions = log_reg_cv_model.transform(test_df)"
   ]
  },
  {
   "cell_type": "code",
   "execution_count": null,
   "metadata": {},
   "outputs": [
    {
     "name": "stdout",
     "output_type": "stream",
     "text": [
      "Accuracy: 0.48611743286299497\n",
      "Precision: 0.4573488743408243\n",
      "Recall: 0.48749542005050567\n",
      "F1-score: 0.4719412138696023\n"
     ]
    }
   ],
   "source": [
    "# Evaluate the predictions from logistic regression cross-validation model\n",
    "eval_predictions(log_reg_cv_predictions)"
   ]
  },
  {
   "cell_type": "code",
   "execution_count": null,
   "metadata": {},
   "outputs": [
    {
     "data": {
      "image/png": "[encoded data removed]",
      "text/plain": [
       "<Figure size 640x480 with 2 Axes>"
      ]
     },
     "metadata": {},
     "output_type": "display_data"
    }
   ],
   "source": [
    "# Task: Plot the confusion matrix for logistic regression cross-validation predictions\n",
    "# Parameters: \n",
    "# - log_reg_cv_predictions: The DataFrame containing the predictions made by logistic regression cross-validation model\n",
    "# - normalize=True: Normalize the values in the confusion matrix\n",
    "plot_confusion_matrix(log_reg_cv_predictions, normalize=True)"
   ]
  },
  {
   "cell_type": "code",
   "execution_count": null,
   "metadata": {},
   "outputs": [],
   "source": [
    "# Define the OpenWeatherMap API key\n",
    "API_KEY = '57fe401be548737b0d267e7abda86175'\n",
    "\n",
    "# Define the city names for weather forecasts\n",
    "CITY_NAMES = ['Vancouver']\n",
    "\n",
    "# Define the OpenWeatherMap model to use\n",
    "openweather_model = rnd_forest_cv_model\n",
    "\n",
    "# Define the column name for OpenWeatherMap forecasts\n",
    "OPENWEATHER_FORECAST_COL = 'openweather_forecast'"
   ]
  },
  {
   "cell_type": "code",
   "execution_count": null,
   "metadata": {},
   "outputs": [],
   "source": [
    "# Function to retrieve 5-days weather forecasts for a given city\n",
    "def get_5_days_forecasts_df(city_name: str, api_key: str) -> DataFrame:\n",
    "    import requests\n",
    "  \n",
    "    # Create a Spark Session\n",
    "    spark = SparkSession.builder \\\n",
    "        .appName(\"WeatherForecast\") \\\n",
    "        .getOrCreate()\n",
    "  \n",
    "    # API URL for retrieving weather forecasts\n",
    "    API_URL = f'http://api.openweathermap.org/data/2.5/forecast?q={city_name}&appid={api_key}'\n",
    "\n",
    "    # Send API request and retrieve JSON response\n",
    "    res = requests.get(API_URL).json()\n",
    "\n",
    "    # Extract coordinates for the city\n",
    "    coord = res['city']['coord']\n",
    "\n",
    "    # Extract latitude and longitude\n",
    "    latitude = float(coord['lat'])\n",
    "    longitude = float(coord['lon'])\n",
    "    \n",
    "    # Initialize an empty list to store forecast rows\n",
    "    forecasts = []\n",
    "\n",
    "    # Iterate through each forecast\n",
    "    for forecast in res['list']:\n",
    "        # Extract main weather parameters\n",
    "        main = forecast['main']\n",
    "        wind = forecast['wind']\n",
    "        weather = forecast['weather']\n",
    "\n",
    "        # Extract datetime for the forecast\n",
    "        datetime = forecast['dt_txt']\n",
    "        \n",
    "        # Convert main weather parameters to float\n",
    "        temperature = float(main['temp'])\n",
    "        pressure = float(main['pressure'])\n",
    "        humidity = float(main['humidity'])\n",
    "        wind_speed = float(wind['speed'])\n",
    "        wind_direction = float(wind['deg'])\n",
    "\n",
    "        # Extract weather condition\n",
    "        weather_condition = weather[0]['main']\n",
    "        \n",
    "        # Create a row object for the forecast\n",
    "        forecast_row = Row(datetime=datetime,\n",
    "                           humidity=humidity,\n",
    "                           pressure=pressure,\n",
    "                           temperature=temperature,\n",
    "                           wind_direction=wind_direction,\n",
    "                           wind_speed=wind_speed,\n",
    "                           weather_condition=weather_condition,\n",
    "                           city=city_name,\n",
    "                           latitude=latitude,\n",
    "                           longitude=longitude)\n",
    "\n",
    "        # Append forecast row to the list\n",
    "        forecasts.append(forecast_row)\n",
    "        \n",
    "    # Create a DataFrame from the list of forecast rows\n",
    "    return spark.createDataFrame(forecasts)"
   ]
  },
  {
   "cell_type": "code",
   "execution_count": null,
   "metadata": {},
   "outputs": [],
   "source": [
    "# Initialize an empty DataFrame\n",
    "openweather_forecasts_df = None\n",
    "\n",
    "# Iterate through each city name\n",
    "for city_name in CITY_NAMES:\n",
    "    # Check if the DataFrame is empty\n",
    "    if openweather_forecasts_df is None:\n",
    "        # If empty, retrieve the 5-days weather forecasts for the city\n",
    "        openweather_forecasts_df = get_5_days_forecasts_df(city_name, API_KEY)\n",
    "    else:\n",
    "        # If not empty, union the existing DataFrame with the new forecasts\n",
    "        openweather_forecasts_df = openweather_forecasts_df.union(get_5_days_forecasts_df(city_name, API_KEY))"
   ]
  },
  {
   "cell_type": "code",
   "execution_count": null,
   "metadata": {},
   "outputs": [],
   "source": [
    "# Collect the distinct weather conditions from the openweather_forecasts_df DataFrame\n",
    "weather_conditions = openweather_forecasts_df.select(TARGET_VARIABLE_COL).distinct().collect()\n",
    "\n",
    "# Extract the weather conditions from the collected data and create an array\n",
    "weather_conditions_array = [row[0] for row in weather_conditions]\n",
    "\n",
    "# Calculate the weather conditions aggregation dictionary using the weather_conditions_array\n",
    "weather_conditions_dict = get_weather_conditions_aggregation_dict(weather_conditions_array)"
   ]
  },
  {
   "cell_type": "code",
   "execution_count": null,
   "metadata": {},
   "outputs": [],
   "source": [
    "# Replace the weather conditions in openweather_forecasts_df using the weather_conditions_dict\n",
    "openweather_forecasts_df = openweather_forecasts_df.replace(weather_conditions_dict)"
   ]
  },
  {
   "cell_type": "code",
   "execution_count": null,
   "metadata": {},
   "outputs": [],
   "source": [
    "# Filter the openweather_forecasts_df DataFrame to keep only rows where the TARGET_VARIABLE_COL is in WEATHER_CONDITIONS\n",
    "openweather_forecasts_df = openweather_forecasts_df.filter(openweather_forecasts_df[TARGET_VARIABLE_COL].isin(unique_weather_conditions))"
   ]
  },
  {
   "cell_type": "code",
   "execution_count": null,
   "metadata": {},
   "outputs": [
    {
     "data": {
      "text/html": [
       "<div>\n",
       "<style scoped>\n",
       "    .dataframe tbody tr th:only-of-type {\n",
       "        vertical-align: middle;\n",
       "    }\n",
       "\n",
       "    .dataframe tbody tr th {\n",
       "        vertical-align: top;\n",
       "    }\n",
       "\n",
       "    .dataframe thead th {\n",
       "        text-align: right;\n",
       "    }\n",
       "</style>\n",
       "<table border=\"1\" class=\"dataframe\">\n",
       "  <thead>\n",
       "    <tr style=\"text-align: right;\">\n",
       "      <th></th>\n",
       "      <th>datetime</th>\n",
       "      <th>humidity</th>\n",
       "      <th>pressure</th>\n",
       "      <th>temperature</th>\n",
       "      <th>wind_direction</th>\n",
       "      <th>wind_speed</th>\n",
       "      <th>weather_condition</th>\n",
       "      <th>city</th>\n",
       "      <th>latitude</th>\n",
       "      <th>longitude</th>\n",
       "    </tr>\n",
       "  </thead>\n",
       "  <tbody>\n",
       "    <tr>\n",
       "      <th>0</th>\n",
       "      <td>2024-03-30 03:00:00</td>\n",
       "      <td>71.0</td>\n",
       "      <td>1014.0</td>\n",
       "      <td>283.76</td>\n",
       "      <td>293.0</td>\n",
       "      <td>7.08</td>\n",
       "      <td>cloudy</td>\n",
       "      <td>Vancouver</td>\n",
       "      <td>49.2497</td>\n",
       "      <td>-123.1193</td>\n",
       "    </tr>\n",
       "    <tr>\n",
       "      <th>1</th>\n",
       "      <td>2024-03-30 06:00:00</td>\n",
       "      <td>75.0</td>\n",
       "      <td>1014.0</td>\n",
       "      <td>282.88</td>\n",
       "      <td>325.0</td>\n",
       "      <td>2.65</td>\n",
       "      <td>cloudy</td>\n",
       "      <td>Vancouver</td>\n",
       "      <td>49.2497</td>\n",
       "      <td>-123.1193</td>\n",
       "    </tr>\n",
       "    <tr>\n",
       "      <th>2</th>\n",
       "      <td>2024-03-30 09:00:00</td>\n",
       "      <td>75.0</td>\n",
       "      <td>1014.0</td>\n",
       "      <td>281.55</td>\n",
       "      <td>59.0</td>\n",
       "      <td>1.34</td>\n",
       "      <td>sunny</td>\n",
       "      <td>Vancouver</td>\n",
       "      <td>49.2497</td>\n",
       "      <td>-123.1193</td>\n",
       "    </tr>\n",
       "    <tr>\n",
       "      <th>3</th>\n",
       "      <td>2024-03-30 12:00:00</td>\n",
       "      <td>76.0</td>\n",
       "      <td>1014.0</td>\n",
       "      <td>280.05</td>\n",
       "      <td>342.0</td>\n",
       "      <td>0.75</td>\n",
       "      <td>sunny</td>\n",
       "      <td>Vancouver</td>\n",
       "      <td>49.2497</td>\n",
       "      <td>-123.1193</td>\n",
       "    </tr>\n",
       "    <tr>\n",
       "      <th>4</th>\n",
       "      <td>2024-03-30 15:00:00</td>\n",
       "      <td>73.0</td>\n",
       "      <td>1013.0</td>\n",
       "      <td>280.15</td>\n",
       "      <td>138.0</td>\n",
       "      <td>0.65</td>\n",
       "      <td>cloudy</td>\n",
       "      <td>Vancouver</td>\n",
       "      <td>49.2497</td>\n",
       "      <td>-123.1193</td>\n",
       "    </tr>\n",
       "  </tbody>\n",
       "</table>\n",
       "</div>"
      ],
      "text/plain": [
       "              datetime  humidity  pressure  temperature  wind_direction  wind_speed weather_condition       city  latitude  longitude\n",
       "0  2024-03-30 03:00:00      71.0    1014.0       283.76           293.0        7.08            cloudy  Vancouver   49.2497  -123.1193\n",
       "1  2024-03-30 06:00:00      75.0    1014.0       282.88           325.0        2.65            cloudy  Vancouver   49.2497  -123.1193\n",
       "2  2024-03-30 09:00:00      75.0    1014.0       281.55            59.0        1.34             sunny  Vancouver   49.2497  -123.1193\n",
       "3  2024-03-30 12:00:00      76.0    1014.0       280.05           342.0        0.75             sunny  Vancouver   49.2497  -123.1193\n",
       "4  2024-03-30 15:00:00      73.0    1013.0       280.15           138.0        0.65            cloudy  Vancouver   49.2497  -123.1193"
      ]
     },
     "metadata": {},
     "output_type": "display_data"
    }
   ],
   "source": [
    "# Convert openweather_forecasts_df to a Koalas DataFrame and display the first 5 rows\n",
    "openweather_forecasts_df.to_koalas().head(5)"
   ]
  },
  {
   "cell_type": "code",
   "execution_count": null,
   "metadata": {},
   "outputs": [],
   "source": [
    "# Apply the trained machine learning model to make predictions on the openweather_forecasts_df dataset\n",
    "openweather_forecasts_predictions = openweather_model.transform(openweather_forecasts_df)"
   ]
  },
  {
   "cell_type": "code",
   "execution_count": null,
   "metadata": {},
   "outputs": [
    {
     "data": {
      "text/html": [
       "<div>\n",
       "<style scoped>\n",
       "    .dataframe tbody tr th:only-of-type {\n",
       "        vertical-align: middle;\n",
       "    }\n",
       "\n",
       "    .dataframe tbody tr th {\n",
       "        vertical-align: top;\n",
       "    }\n",
       "\n",
       "    .dataframe thead th {\n",
       "        text-align: right;\n",
       "    }\n",
       "</style>\n",
       "<table border=\"1\" class=\"dataframe\">\n",
       "  <thead>\n",
       "    <tr style=\"text-align: right;\">\n",
       "      <th></th>\n",
       "      <th>datetime</th>\n",
       "      <th>city</th>\n",
       "      <th>openweather_forecast</th>\n",
       "      <th>predicted_weather_condition</th>\n",
       "    </tr>\n",
       "  </thead>\n",
       "  <tbody>\n",
       "    <tr>\n",
       "      <th>0</th>\n",
       "      <td>2024-03-30 03:00:00</td>\n",
       "      <td>Vancouver</td>\n",
       "      <td>cloudy</td>\n",
       "      <td>rainy</td>\n",
       "    </tr>\n",
       "    <tr>\n",
       "      <th>1</th>\n",
       "      <td>2024-03-30 06:00:00</td>\n",
       "      <td>Vancouver</td>\n",
       "      <td>cloudy</td>\n",
       "      <td>rainy</td>\n",
       "    </tr>\n",
       "    <tr>\n",
       "      <th>2</th>\n",
       "      <td>2024-03-30 09:00:00</td>\n",
       "      <td>Vancouver</td>\n",
       "      <td>sunny</td>\n",
       "      <td>rainy</td>\n",
       "    </tr>\n",
       "    <tr>\n",
       "      <th>3</th>\n",
       "      <td>2024-03-30 12:00:00</td>\n",
       "      <td>Vancouver</td>\n",
       "      <td>sunny</td>\n",
       "      <td>rainy</td>\n",
       "    </tr>\n",
       "    <tr>\n",
       "      <th>4</th>\n",
       "      <td>2024-03-30 15:00:00</td>\n",
       "      <td>Vancouver</td>\n",
       "      <td>cloudy</td>\n",
       "      <td>rainy</td>\n",
       "    </tr>\n",
       "    <tr>\n",
       "      <th>5</th>\n",
       "      <td>2024-03-30 18:00:00</td>\n",
       "      <td>Vancouver</td>\n",
       "      <td>cloudy</td>\n",
       "      <td>rainy</td>\n",
       "    </tr>\n",
       "    <tr>\n",
       "      <th>6</th>\n",
       "      <td>2024-03-30 21:00:00</td>\n",
       "      <td>Vancouver</td>\n",
       "      <td>cloudy</td>\n",
       "      <td>rainy</td>\n",
       "    </tr>\n",
       "    <tr>\n",
       "      <th>7</th>\n",
       "      <td>2024-03-31 00:00:00</td>\n",
       "      <td>Vancouver</td>\n",
       "      <td>cloudy</td>\n",
       "      <td>rainy</td>\n",
       "    </tr>\n",
       "    <tr>\n",
       "      <th>8</th>\n",
       "      <td>2024-03-31 03:00:00</td>\n",
       "      <td>Vancouver</td>\n",
       "      <td>cloudy</td>\n",
       "      <td>rainy</td>\n",
       "    </tr>\n",
       "    <tr>\n",
       "      <th>9</th>\n",
       "      <td>2024-03-31 06:00:00</td>\n",
       "      <td>Vancouver</td>\n",
       "      <td>cloudy</td>\n",
       "      <td>rainy</td>\n",
       "    </tr>\n",
       "    <tr>\n",
       "      <th>10</th>\n",
       "      <td>2024-03-31 09:00:00</td>\n",
       "      <td>Vancouver</td>\n",
       "      <td>cloudy</td>\n",
       "      <td>rainy</td>\n",
       "    </tr>\n",
       "    <tr>\n",
       "      <th>11</th>\n",
       "      <td>2024-03-31 12:00:00</td>\n",
       "      <td>Vancouver</td>\n",
       "      <td>cloudy</td>\n",
       "      <td>rainy</td>\n",
       "    </tr>\n",
       "    <tr>\n",
       "      <th>12</th>\n",
       "      <td>2024-03-31 15:00:00</td>\n",
       "      <td>Vancouver</td>\n",
       "      <td>cloudy</td>\n",
       "      <td>rainy</td>\n",
       "    </tr>\n",
       "    <tr>\n",
       "      <th>13</th>\n",
       "      <td>2024-03-31 18:00:00</td>\n",
       "      <td>Vancouver</td>\n",
       "      <td>cloudy</td>\n",
       "      <td>rainy</td>\n",
       "    </tr>\n",
       "    <tr>\n",
       "      <th>14</th>\n",
       "      <td>2024-03-31 21:00:00</td>\n",
       "      <td>Vancouver</td>\n",
       "      <td>cloudy</td>\n",
       "      <td>rainy</td>\n",
       "    </tr>\n",
       "  </tbody>\n",
       "</table>\n",
       "</div>"
      ],
      "text/plain": [
       "               datetime       city openweather_forecast predicted_weather_condition\n",
       "0   2024-03-30 03:00:00  Vancouver               cloudy                       rainy\n",
       "1   2024-03-30 06:00:00  Vancouver               cloudy                       rainy\n",
       "2   2024-03-30 09:00:00  Vancouver                sunny                       rainy\n",
       "3   2024-03-30 12:00:00  Vancouver                sunny                       rainy\n",
       "4   2024-03-30 15:00:00  Vancouver               cloudy                       rainy\n",
       "5   2024-03-30 18:00:00  Vancouver               cloudy                       rainy\n",
       "6   2024-03-30 21:00:00  Vancouver               cloudy                       rainy\n",
       "7   2024-03-31 00:00:00  Vancouver               cloudy                       rainy\n",
       "8   2024-03-31 03:00:00  Vancouver               cloudy                       rainy\n",
       "9   2024-03-31 06:00:00  Vancouver               cloudy                       rainy\n",
       "10  2024-03-31 09:00:00  Vancouver               cloudy                       rainy\n",
       "11  2024-03-31 12:00:00  Vancouver               cloudy                       rainy\n",
       "12  2024-03-31 15:00:00  Vancouver               cloudy                       rainy\n",
       "13  2024-03-31 18:00:00  Vancouver               cloudy                       rainy\n",
       "14  2024-03-31 21:00:00  Vancouver               cloudy                       rainy"
      ]
     },
     "metadata": {},
     "output_type": "display_data"
    }
   ],
   "source": [
    "openweather_forecasts_predictions \\\n",
    "    .withColumn(OPENWEATHER_FORECAST_COL, col(TARGET_VARIABLE_COL)) \\\n",
    "    .select([DATETIME_COL, CITY_COL, OPENWEATHER_FORECAST_COL, PREDICTED_TARGET_VARIABLE_COL]) \\\n",
    "    .to_koalas().head(15)"
   ]
  },
  {
   "cell_type": "code",
   "execution_count": null,
   "metadata": {},
   "outputs": [
    {
     "data": {
      "image/png": "[encoded data removed]",
      "text/plain": [
       "<Figure size 640x480 with 2 Axes>"
      ]
     },
     "metadata": {},
     "output_type": "display_data"
    }
   ],
   "source": [
    "# Plot a confusion matrix for the openweather_forecasts_predictions dataframe\n",
    "plot_confusion_matrix(openweather_forecasts_predictions, normalize=True)"
   ]
  },
  {
   "cell_type": "code",
   "execution_count": null,
   "metadata": {},
   "outputs": [
    {
     "data": {
      "image/png": "[encoded data removed]",
      "text/plain": [
       "<Figure size 640x480 with 1 Axes>"
      ]
     },
     "metadata": {},
     "output_type": "display_data"
    },
    {
     "data": {
      "image/png": "[encoded data removed]",
      "text/plain": [
       "<Figure size 640x480 with 1 Axes>"
      ]
     },
     "metadata": {},
     "output_type": "display_data"
    }
   ],
   "source": [
    "# Generate a bar plot to compare the accuracies\n",
    "import matplotlib.pyplot as plt\n",
    "\n",
    "models = ['Model 1', 'Model 2']\n",
    "accuracies = [0.5099377939614625, 0.5351995144894554]\n",
    "\n",
    "plt.bar(models, accuracies)\n",
    "plt.xlabel('Model')\n",
    "plt.ylabel('Accuracy')\n",
    "plt.title('Comparison of Model Accuracies')\n",
    "plt.show()\n",
    "\n",
    "# Generate a pie chart to compare the accuracies\n",
    "labels = ['Model 1', 'Model 2']\n",
    "sizes = [0.85, 0.92]\n",
    "explode = (0.1, 0, )\n",
    "\n",
    "plt.pie(sizes, explode=explode, labels=labels, autopct='%1.1f%%', startangle=90)\n",
    "plt.axis('equal')\n",
    "plt.title('Comparison of Model Accuracies')\n",
    "plt.show()"
   ]
  }
 ],
 "metadata": {
  "application/vnd.databricks.v1+notebook": {
   "dashboards": [],
   "language": "python",
   "notebookMetadata": {
    "mostRecentlyExecutedCommandWithImplicitDF": {
     "commandId": 3405706733020154,
     "dataframes": [
      "_sqldf"
     ]
    },
    "pythonIndentUnit": 4
   },
   "notebookName": "bigdata_proj",
   "widgets": {}
  },
  "language_info": {
   "name": "python"
  }
 },
 "nbformat": 4,
 "nbformat_minor": 0
}
