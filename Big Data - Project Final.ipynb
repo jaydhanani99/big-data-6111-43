{
 "cells": [
  {
   "cell_type": "markdown",
   "metadata": {
    "application/vnd.databricks.v1+cell": {
     "cellMetadata": {},
     "inputWidgets": {},
     "nuid": "635bfd79-1af0-43d5-8f0f-cfde5947b619",
     "showTitle": false,
     "title": ""
    }
   },
   "source": [
    "# Weather forecasting with PySpark\n",
    "## Big Data Computing final project"
   ]
  },
  {
   "cell_type": "markdown",
   "metadata": {
    "application/vnd.databricks.v1+cell": {
     "cellMetadata": {},
     "inputWidgets": {},
     "nuid": "db823fb2-28db-411d-9845-5763ba99d8df",
     "showTitle": false,
     "title": ""
    }
   },
   "source": [
    "Setting up some Configuration Constants globally"
   ]
  },
  {
   "cell_type": "code",
   "execution_count": 0,
   "metadata": {
    "application/vnd.databricks.v1+cell": {
     "cellMetadata": {
      "byteLimit": 2048000,
      "rowLimit": 10000
     },
     "inputWidgets": {},
     "nuid": "d824a107-14d9-46a4-a679-892624fc6ccf",
     "showTitle": false,
     "title": ""
    }
   },
   "outputs": [],
   "source": [
    "#Configuration constants\n",
    "DATASET = 'dbfs:/bigdata_proj/datasets/historical-hourly-weather/'\n",
    "MODELS = 'dbfs:/bigdata_proj/models/historical-hourly-weather/'\n",
    "RANDOM_SEED = 42\n"
   ]
  },
  {
   "cell_type": "markdown",
   "metadata": {
    "application/vnd.databricks.v1+cell": {
     "cellMetadata": {},
     "inputWidgets": {},
     "nuid": "0102038c-dee6-4e7b-86e8-94c7ad698808",
     "showTitle": false,
     "title": ""
    }
   },
   "source": [
    "## Setting up the workflow options and databricks limitations\n",
    "\n",
    "This code snippet primarily establishes paths to data and model files and sets flags to control the overall workflow:\n",
    "\n",
    "- Path Management: Organizing where data, models, and the encoding pipeline will be stored.\n",
    "- Flexibility: Allowing the user to decide whether to load pre-existing elements or generate them during execution.\n",
    "- DataBricks Adaptation: Addresses a size limitation specific to the DataBricks environment."
   ]
  },
  {
   "cell_type": "code",
   "execution_count": 0,
   "metadata": {
    "application/vnd.databricks.v1+cell": {
     "cellMetadata": {
      "byteLimit": 2048000,
      "rowLimit": 10000
     },
     "inputWidgets": {},
     "nuid": "f8c1a1e1-fc13-4025-9201-d19e4f913505",
     "showTitle": false,
     "title": ""
    }
   },
   "outputs": [],
   "source": [
    "\n",
    "\n",
    "# Workflow Options\n",
    "RANDOM_FOREST_MODEL_PATH = f'{MODELS}rnd_forest'\n",
    "RANDOM_FOREST_CV_MODEL_PATH = f'{MODELS}rnd_forest_cv'  # Cross-validated model\n",
    "LOGISTIC_REGRESSION_CV_MODEL_PATH = f'{MODELS}log_reg_cv' \n",
    "SAMPLED_DATASET_PATH = f'{DATASET}aggregated_sampled_weather_measurements.csv'\n",
    "ENCODING_PIPELINE_PATH = f'{MODELS}data_encoder'\n",
    "\n",
    "SAVE_COMPUTATIONS = True  # Flag to save intermediate results\n",
    "LOAD_SAMPLED_DATASET = False  # Load pre-sampled dataset or generate from raw data\n",
    "LOAD_ENCODING_PIPELINE = False  # Load pre-built encoding pipeline or create from scratch\n",
    "LOAD_PRETRAINED_MODELS = False  # Load existing models or train new ones\n",
    "\n",
    "# DataBricks Limitation Workaround\n",
    "MAX_TRAIN_SIZE = 999_999  # Maximum training dataset size due to community edition limits"
   ]
  },
  {
   "cell_type": "markdown",
   "metadata": {
    "application/vnd.databricks.v1+cell": {
     "cellMetadata": {},
     "inputWidgets": {},
     "nuid": "17c90c5e-2532-4677-84c2-2e44e8d10542",
     "showTitle": false,
     "title": ""
    }
   },
   "source": [
    "#### Importing the required dependencies"
   ]
  },
  {
   "cell_type": "code",
   "execution_count": 0,
   "metadata": {
    "application/vnd.databricks.v1+cell": {
     "cellMetadata": {
      "byteLimit": 2048000,
      "rowLimit": 10000
     },
     "inputWidgets": {},
     "nuid": "938a93e4-9c8c-43ca-9e65-b029ca4640d9",
     "showTitle": false,
     "title": ""
    }
   },
   "outputs": [],
   "source": [
    "# Machine Learning Modules\n",
    "from pyspark.ml.pipeline import PipelineModel  # For loading trained ML pipelines\n",
    "from pyspark.ml.tuning import CrossValidatorModel  # For loading cross-validated models\n",
    "\n",
    "# PySpark Setup (consider clarifying if these settings are required for your project)\n",
    "from pyspark import SparkContext, SparkConf  # Initializing Spark\n",
    "from pyspark.sql import *  # PySpark SQL for data manipulation\n",
    "from pyspark.sql.types import *  # For defining data types\n",
    "from pyspark.sql.functions import *  # PySpark functions for data transformations\n",
    "\n",
    "from typing import *  # Optional, for type hints if desired\n",
    "\n",
    "import pyspark  # Main PySpark module\n",
    "import numpy as np  # For numerical operations\n",
    "import matplotlib.pyplot as plt  # For plotting and visualizations\n",
    "\n"
   ]
  },
  {
   "cell_type": "markdown",
   "metadata": {
    "application/vnd.databricks.v1+cell": {
     "cellMetadata": {},
     "inputWidgets": {},
     "nuid": "9a0e8a1d-73c4-4d3c-bf65-b91b38c24888",
     "showTitle": false,
     "title": ""
    }
   },
   "source": [
    "## Starting with Data Initialisation"
   ]
  },
  {
   "cell_type": "markdown",
   "metadata": {
    "application/vnd.databricks.v1+cell": {
     "cellMetadata": {},
     "inputWidgets": {},
     "nuid": "5fa886d8-fd67-4d05-95bd-5abb38590c32",
     "showTitle": false,
     "title": ""
    }
   },
   "source": [
    "### First we are downloading the dataset\n",
    "\n",
    "Our source is [kaggle.com/selfishgene/historical-hourly-weather-data](https://www.kaggle.com/selfishgene/historical-hourly-weather-data)"
   ]
  },
  {
   "cell_type": "code",
   "execution_count": 0,
   "metadata": {
    "application/vnd.databricks.v1+cell": {
     "cellMetadata": {
      "byteLimit": 2048000,
      "rowLimit": 10000
     },
     "inputWidgets": {},
     "nuid": "8a393132-3e69-43b9-8b1d-312ae68c81b1",
     "showTitle": false,
     "title": ""
    }
   },
   "outputs": [
    {
     "output_type": "stream",
     "name": "stderr",
     "output_type": "stream",
     "text": [
      "2024-04-03 21:57:49 URL:https://raw.githubusercontent.com/SouravGanesh/BigData_DataSet/main/dataset/historical-hourly-weather-dataset.zip [12655281/12655281] -> \"/tmp/dataset.zip\" [1]\n"
     ]
    },
    {
     "output_type": "stream",
     "name": "stdout",
     "output_type": "stream",
     "text": [
      "Archive:  /tmp/dataset.zip\n   creating: /tmp/dataset/aggregated_sampled_weather_measurements.csv/\n  inflating: /tmp/dataset/aggregated_sampled_weather_measurements.csv/._committed_7616641238230246128.crc  \n  inflating: /tmp/dataset/aggregated_sampled_weather_measurements.csv/.part-00000-tid-5785058191842647654-99694b27-5637-4d82-97fd-79413e3b2b1a-5515-1-c000.csv.crc  \n  inflating: /tmp/dataset/aggregated_sampled_weather_measurements.csv/.part-00006-tid-5785058191842647654-99694b27-5637-4d82-97fd-79413e3b2b1a-5521-1-c000.csv.crc  \n  inflating: /tmp/dataset/aggregated_sampled_weather_measurements.csv/.part-00002-tid-5785058191842647654-99694b27-5637-4d82-97fd-79413e3b2b1a-5517-1-c000.csv.crc  \n  inflating: /tmp/dataset/aggregated_sampled_weather_measurements.csv/.part-00004-tid-5785058191842647654-99694b27-5637-4d82-97fd-79413e3b2b1a-5519-1-c000.csv.crc  \n  inflating: /tmp/dataset/aggregated_sampled_weather_measurements.csv/part-00003-tid-5785058191842647654-99694b27-5637-4d82-97fd-79413e3b2b1a-5518-1-c000.csv  \n  inflating: /tmp/dataset/aggregated_sampled_weather_measurements.csv/_committed_7616641238230246128  \n  inflating: /tmp/dataset/aggregated_sampled_weather_measurements.csv/_committed_vacuum6920010656788597249  \n  inflating: /tmp/dataset/aggregated_sampled_weather_measurements.csv/part-00005-tid-5785058191842647654-99694b27-5637-4d82-97fd-79413e3b2b1a-5520-1-c000.csv  \n  inflating: /tmp/dataset/aggregated_sampled_weather_measurements.csv/part-00002-tid-5785058191842647654-99694b27-5637-4d82-97fd-79413e3b2b1a-5517-1-c000.csv  \n  inflating: /tmp/dataset/aggregated_sampled_weather_measurements.csv/_started_5785058191842647654  \n  inflating: /tmp/dataset/aggregated_sampled_weather_measurements.csv/part-00001-tid-5785058191842647654-99694b27-5637-4d82-97fd-79413e3b2b1a-5516-1-c000.csv  \n  inflating: /tmp/dataset/aggregated_sampled_weather_measurements.csv/_committed_777980178201020908  \n  inflating: /tmp/dataset/aggregated_sampled_weather_measurements.csv/_committed_5785058191842647654  \n  inflating: /tmp/dataset/aggregated_sampled_weather_measurements.csv/._committed_5785058191842647654.crc  \n  inflating: /tmp/dataset/aggregated_sampled_weather_measurements.csv/.part-00001-tid-5785058191842647654-99694b27-5637-4d82-97fd-79413e3b2b1a-5516-1-c000.csv.crc  \n  inflating: /tmp/dataset/aggregated_sampled_weather_measurements.csv/.part-00003-tid-5785058191842647654-99694b27-5637-4d82-97fd-79413e3b2b1a-5518-1-c000.csv.crc  \n  inflating: /tmp/dataset/aggregated_sampled_weather_measurements.csv/part-00007-tid-5785058191842647654-99694b27-5637-4d82-97fd-79413e3b2b1a-5522-1-c000.csv  \n  inflating: /tmp/dataset/aggregated_sampled_weather_measurements.csv/part-00006-tid-5785058191842647654-99694b27-5637-4d82-97fd-79413e3b2b1a-5521-1-c000.csv  \n  inflating: /tmp/dataset/aggregated_sampled_weather_measurements.csv/._started_5785058191842647654.crc  \n  inflating: /tmp/dataset/aggregated_sampled_weather_measurements.csv/._committed_777980178201020908.crc  \n  inflating: /tmp/dataset/aggregated_sampled_weather_measurements.csv/part-00000-tid-5785058191842647654-99694b27-5637-4d82-97fd-79413e3b2b1a-5515-1-c000.csv  \n  inflating: /tmp/dataset/aggregated_sampled_weather_measurements.csv/.part-00007-tid-5785058191842647654-99694b27-5637-4d82-97fd-79413e3b2b1a-5522-1-c000.csv.crc  \n  inflating: /tmp/dataset/aggregated_sampled_weather_measurements.csv/.part-00005-tid-5785058191842647654-99694b27-5637-4d82-97fd-79413e3b2b1a-5520-1-c000.csv.crc  \n  inflating: /tmp/dataset/aggregated_sampled_weather_measurements.csv/part-00004-tid-5785058191842647654-99694b27-5637-4d82-97fd-79413e3b2b1a-5519-1-c000.csv  \n  inflating: /tmp/dataset/aggregated_sampled_weather_measurements.csv/._committed_vacuum6920010656788597249.crc  \n  inflating: /tmp/dataset/city_attributes.csv  \n  inflating: /tmp/dataset/humidity.csv  \n  inflating: /tmp/dataset/pressure.csv  \n  inflating: /tmp/dataset/temperature.csv  \n  inflating: /tmp/dataset/weather_description.csv  \n  inflating: /tmp/dataset/wind_direction.csv  \n  inflating: /tmp/dataset/wind_speed.csv  \n"
     ]
    }
   ],
   "source": [
    "%sh\n",
    "# Download the dataset from GitHub and save it as dataset.zip in the /tmp directory\n",
    "wget --no-verbose https://github.com/SouravGanesh/BigData_DataSet/raw/main/dataset/historical-hourly-weather-dataset.zip -O /tmp/dataset.zip\n",
    "\n",
    "# Unzip the dataset.zip file and extract its contents into the /tmp/dataset directory\n",
    "unzip -u /tmp/dataset.zip -d /tmp/dataset"
   ]
  },
  {
   "cell_type": "markdown",
   "metadata": {
    "application/vnd.databricks.v1+cell": {
     "cellMetadata": {},
     "inputWidgets": {},
     "nuid": "4c1c2d96-1d3f-4979-86a9-79e8562cf57c",
     "showTitle": false,
     "title": ""
    }
   },
   "source": [
    "#### Now moving the dataset from the temporary location i.e Databricks local driver node's file system to DBFS"
   ]
  },
  {
   "cell_type": "code",
   "execution_count": 0,
   "metadata": {
    "application/vnd.databricks.v1+cell": {
     "cellMetadata": {
      "byteLimit": 2048000,
      "rowLimit": 10000
     },
     "inputWidgets": {},
     "nuid": "496ddd3c-677b-481a-a68e-ba2e115adde0",
     "showTitle": false,
     "title": ""
    }
   },
   "outputs": [],
   "source": [
    "# Move files from temporary location to dataset path\n",
    "for f in dbutils.fs.ls('file:/tmp/dataset'):\n",
    "    dbutils.fs.mv(f.path, f'{DATASET}{f.name}', recurse=True)"
   ]
  },
  {
   "cell_type": "markdown",
   "metadata": {
    "application/vnd.databricks.v1+cell": {
     "cellMetadata": {},
     "inputWidgets": {},
     "nuid": "fb747d75-7327-4838-96c4-c732c2a15a01",
     "showTitle": false,
     "title": ""
    }
   },
   "source": [
    "#### Listing all the directories to verify"
   ]
  },
  {
   "cell_type": "code",
   "execution_count": 0,
   "metadata": {
    "application/vnd.databricks.v1+cell": {
     "cellMetadata": {
      "byteLimit": 2048000,
      "rowLimit": 10000
     },
     "inputWidgets": {},
     "nuid": "255f718c-bc74-4d63-a7b4-41b36b1e3927",
     "showTitle": false,
     "title": ""
    }
   },
   "outputs": [
    {
     "output_type": "display_data",
     "data": {
      "text/html": [
       "<style scoped>\n",
       "  .table-result-container {\n",
       "    max-height: 300px;\n",
       "    overflow: auto;\n",
       "  }\n",
       "  table, th, td {\n",
       "    border: 1px solid black;\n",
       "    border-collapse: collapse;\n",
       "  }\n",
       "  th, td {\n",
       "    padding: 5px;\n",
       "  }\n",
       "  th {\n",
       "    text-align: left;\n",
       "  }\n",
       "</style><div class='table-result-container'><table class='table-result'><thead style='background-color: white'><tr><th>path</th><th>name</th><th>size</th><th>modificationTime</th></tr></thead><tbody><tr><td>dbfs:/bigdata_proj/datasets/historical-hourly-weather/aggregated_sampled_weather_measurements.csv/</td><td>aggregated_sampled_weather_measurements.csv/</td><td>0</td><td>1710607244000</td></tr><tr><td>dbfs:/bigdata_proj/datasets/historical-hourly-weather/city_attributes.csv</td><td>city_attributes.csv</td><td>1614</td><td>1712181475000</td></tr><tr><td>dbfs:/bigdata_proj/datasets/historical-hourly-weather/humidity.csv</td><td>humidity.csv</td><td>9075077</td><td>1712181474000</td></tr><tr><td>dbfs:/bigdata_proj/datasets/historical-hourly-weather/pressure.csv</td><td>pressure.csv</td><td>12155911</td><td>1712181475000</td></tr><tr><td>dbfs:/bigdata_proj/datasets/historical-hourly-weather/temperature.csv</td><td>temperature.csv</td><td>13971171</td><td>1712181475000</td></tr><tr><td>dbfs:/bigdata_proj/datasets/historical-hourly-weather/weather_description.csv</td><td>weather_description.csv</td><td>21858089</td><td>1712181474000</td></tr><tr><td>dbfs:/bigdata_proj/datasets/historical-hourly-weather/wind_direction.csv</td><td>wind_direction.csv</td><td>10171003</td><td>1712181473000</td></tr><tr><td>dbfs:/bigdata_proj/datasets/historical-hourly-weather/wind_speed.csv</td><td>wind_speed.csv</td><td>7457531</td><td>1712181473000</td></tr></tbody></table></div>"
      ]
     },
     "metadata": {
      "application/vnd.databricks.v1+output": {
       "addedWidgets": {},
       "aggData": [],
       "aggError": "",
       "aggOverflow": false,
       "aggSchema": [],
       "aggSeriesLimitReached": false,
       "aggType": "",
       "arguments": {},
       "columnCustomDisplayInfos": {},
       "data": [
        [
         "dbfs:/bigdata_proj/datasets/historical-hourly-weather/aggregated_sampled_weather_measurements.csv/",
         "aggregated_sampled_weather_measurements.csv/",
         0,
         1710607244000
        ],
        [
         "dbfs:/bigdata_proj/datasets/historical-hourly-weather/city_attributes.csv",
         "city_attributes.csv",
         1614,
         1712181475000
        ],
        [
         "dbfs:/bigdata_proj/datasets/historical-hourly-weather/humidity.csv",
         "humidity.csv",
         9075077,
         1712181474000
        ],
        [
         "dbfs:/bigdata_proj/datasets/historical-hourly-weather/pressure.csv",
         "pressure.csv",
         12155911,
         1712181475000
        ],
        [
         "dbfs:/bigdata_proj/datasets/historical-hourly-weather/temperature.csv",
         "temperature.csv",
         13971171,
         1712181475000
        ],
        [
         "dbfs:/bigdata_proj/datasets/historical-hourly-weather/weather_description.csv",
         "weather_description.csv",
         21858089,
         1712181474000
        ],
        [
         "dbfs:/bigdata_proj/datasets/historical-hourly-weather/wind_direction.csv",
         "wind_direction.csv",
         10171003,
         1712181473000
        ],
        [
         "dbfs:/bigdata_proj/datasets/historical-hourly-weather/wind_speed.csv",
         "wind_speed.csv",
         7457531,
         1712181473000
        ]
       ],
       "datasetInfos": [],
       "dbfsResultPath": null,
       "isJsonSchema": true,
       "metadata": {
        "isDbfsCommandResult": false
       },
       "overflow": false,
       "plotOptions": {
        "customPlotOptions": {},
        "displayType": "table",
        "pivotAggregation": null,
        "pivotColumns": null,
        "xColumns": null,
        "yColumns": null
       },
       "removedWidgets": [],
       "schema": [
        {
         "metadata": "{}",
         "name": "path",
         "type": "\"string\""
        },
        {
         "metadata": "{}",
         "name": "name",
         "type": "\"string\""
        },
        {
         "metadata": "{}",
         "name": "size",
         "type": "\"long\""
        },
        {
         "metadata": "{}",
         "name": "modificationTime",
         "type": "\"long\""
        }
       ],
       "type": "table"
      }
     },
     "output_type": "display_data"
    }
   ],
   "source": [
    "%fs ls /bigdata_proj/datasets/historical-hourly-weather"
   ]
  },
  {
   "cell_type": "markdown",
   "metadata": {
    "application/vnd.databricks.v1+cell": {
     "cellMetadata": {},
     "inputWidgets": {},
     "nuid": "741342ef-a1a8-4d5f-8f88-bb7c60393538",
     "showTitle": false,
     "title": ""
    }
   },
   "source": [
    "### Taking the use of Spark here by loading the data set for processing"
   ]
  },
  {
   "cell_type": "markdown",
   "metadata": {
    "application/vnd.databricks.v1+cell": {
     "cellMetadata": {},
     "inputWidgets": {},
     "nuid": "f99bd7cf-9ffc-4716-bf40-b5fdaf5afc4f",
     "showTitle": false,
     "title": ""
    }
   },
   "source": [
    "### Dataset shape and schema is as follows\n",
    "Dataset Overview\n",
    "\n",
    "The raw dataset, obtained from Kaggle, consists of seven CSV files. Let's break down their contents and structure:\n",
    "\n",
    "- city_attributes.csv\n",
    "\n",
    "Provides geographic details about various cities included in the weather measurements.\n",
    "- weather_description.csv\n",
    "\n",
    "Offers text-based descriptions of weather conditions.\n",
    "Structure:\n",
    "Columns: Represent different cities.\n",
    "Rows: Indicate specific datetimes for weather condition observations.\n",
    "- Other 5 csv files\n",
    "\n",
    "Contain measurements for these metrics: humidity, pressure, temperature, wind direction, wind speed.\n",
    "Share a similar structure to 'weather_description.csv'\n",
    "Dataset Size\n",
    "\n",
    "Approximately 45,000 hourly weather records per file (excluding 'city_attributes.csv').\n",
    "With 36 cities, the total dataset approaches 1.5 million records."
   ]
  },
  {
   "cell_type": "code",
   "execution_count": 0,
   "metadata": {
    "application/vnd.databricks.v1+cell": {
     "cellMetadata": {
      "byteLimit": 2048000,
      "rowLimit": 10000
     },
     "inputWidgets": {},
     "nuid": "dc817099-5157-41a0-8a62-8329412f9efc",
     "showTitle": false,
     "title": ""
    }
   },
   "outputs": [],
   "source": [
    "# Import the necessary module\n",
    "from pyspark.sql import SparkSession\n",
    "\n",
    "# Create or get the SparkSession\n",
    "spark = SparkSession.builder.getOrCreate()\n",
    "\n",
    "# Read the CSV files into DataFrames\n",
    "temperature_df = spark.read.csv(f'{DATASET}temperature.csv', inferSchema=True, header=True)\n",
    "wind_speed_df = spark.read.csv(f'{DATASET}wind_speed.csv',inferSchema=True, header=True)\n",
    "weather_conditions_df = spark.read.csv(f'{DATASET}weather_description.csv', inferSchema=True, header=True)\n",
    "humidity_df = spark.read.csv(f'{DATASET}humidity.csv',inferSchema=True, header=True)\n",
    "city_attributes_df = spark.read.csv(f'{DATASET}city_attributes.csv', inferSchema=True, header=True)\n",
    "wind_direction_df = spark.read.csv(f'{DATASET}wind_direction.csv', inferSchema=True, header=True)\n",
    "pressure_df = spark.read.csv(f'{DATASET}pressure.csv', inferSchema=True, header=True)\n"
   ]
  },
  {
   "cell_type": "markdown",
   "metadata": {
    "application/vnd.databricks.v1+cell": {
     "cellMetadata": {},
     "inputWidgets": {},
     "nuid": "33d42f69-3c7a-4b93-9268-ee18985a4b97",
     "showTitle": false,
     "title": ""
    }
   },
   "source": [
    "\n",
    "#Data Preprocessing"
   ]
  },
  {
   "cell_type": "markdown",
   "metadata": {
    "application/vnd.databricks.v1+cell": {
     "cellMetadata": {},
     "inputWidgets": {},
     "nuid": "05c0a534-c35f-4ff6-8623-e4fa1ef79e88",
     "showTitle": false,
     "title": ""
    }
   },
   "source": [
    "#### These are the columns names we'll we working with"
   ]
  },
  {
   "cell_type": "code",
   "execution_count": 0,
   "metadata": {
    "application/vnd.databricks.v1+cell": {
     "cellMetadata": {
      "byteLimit": 2048000,
      "rowLimit": 10000
     },
     "inputWidgets": {},
     "nuid": "7e02d060-9465-4b67-9ed7-c816a7ddfd40",
     "showTitle": false,
     "title": ""
    }
   },
   "outputs": [],
   "source": [
    "# Define column names\n",
    "DATETIME_C = 'datetime'\n",
    "HUMIDITY_C = 'humidity'\n",
    "PRESSURE_C = 'pressure'\n",
    "TEMPERATURE_C = 'temperature'\n",
    "WIND_DIRECTION_C = 'wind_direction'\n",
    "WIND_SPEED_C = 'wind_speed'\n",
    "LATITUDE_C = 'latitude'\n",
    "LONGITUDE_C = 'longitude'\n",
    "CITY_C = 'city'\n",
    "COUNTRY_C = 'country'\n",
    "WEATHER_CONDITION_C = 'weather_condition'"
   ]
  },
  {
   "cell_type": "markdown",
   "metadata": {
    "application/vnd.databricks.v1+cell": {
     "cellMetadata": {},
     "inputWidgets": {},
     "nuid": "e2f39852-b4e0-4cc6-9db1-a114aa6a710e",
     "showTitle": false,
     "title": ""
    }
   },
   "source": [
    "#### Filtering a DataFrame based on a specific city column and rename the column"
   ]
  },
  {
   "cell_type": "code",
   "execution_count": 0,
   "metadata": {
    "application/vnd.databricks.v1+cell": {
     "cellMetadata": {
      "byteLimit": 2048000,
      "rowLimit": 10000
     },
     "inputWidgets": {},
     "nuid": "dcbfdb2b-a2a2-4a81-a265-1b47f8d13a23",
     "showTitle": false,
     "title": ""
    }
   },
   "outputs": [],
   "source": [
    "from pyspark.sql import DataFrame\n",
    "from pyspark.sql.functions import col\n",
    "\n",
    "'''\n",
    "    Filter a DataFrame based on a specific city column and rename the column.\n",
    "\n",
    "    Args:\n",
    "        - dataframe: Original DataFrame with a datetime column and city columns\n",
    "        - city_name: Name of the city to filter on\n",
    "        - new_column_name: New name to give to the city column after renaming\n",
    "\n",
    "    Returns:\n",
    "        A new DataFrame with the datetime column and a single column containing\n",
    "        the measurements related to the specified city and renamed as new_column_name.\n",
    "'''\n",
    "\n",
    "def filter_by_citycolumn(df: DataFrame, city: str, new_column: str) -> DataFrame:\n",
    "    return df.withColumn(new_column, col(city)) \\\n",
    "                    .select([DATETIME_C, new_column])"
   ]
  },
  {
   "cell_type": "markdown",
   "metadata": {
    "application/vnd.databricks.v1+cell": {
     "cellMetadata": {},
     "inputWidgets": {},
     "nuid": "c3b1d973-a92d-495d-9b8c-3337659c1f84",
     "showTitle": false,
     "title": ""
    }
   },
   "source": [
    "#### We are joining the dataframes here over the column specified by the column name\n",
    "- Set the initial DataFrame for the join operation\n",
    "- Iterate through the remaining DataFrames and join them to the initial DataFrame\n",
    "- Return the final joined DataFrame"
   ]
  },
  {
   "cell_type": "code",
   "execution_count": 0,
   "metadata": {
    "application/vnd.databricks.v1+cell": {
     "cellMetadata": {
      "byteLimit": 2048000,
      "rowLimit": 10000
     },
     "inputWidgets": {},
     "nuid": "b1c2fad3-28c9-4a1c-b473-adf548d699ca",
     "showTitle": false,
     "title": ""
    }
   },
   "outputs": [],
   "source": [
    "'''\n",
    "    Args:\n",
    "        - dataframes: a list of DataFrames to be joined\n",
    "        - column_name: the column over which the records should be joined\n",
    "        \n",
    "    Returns:\n",
    "        A new DataFrame resulting from joining all the DataFrames\n",
    "        over the column specified by column_name\n",
    "'''\n",
    "def join_dataframes(df: List[DataFrame], column: str) -> DataFrame:\n",
    "\n",
    "    # Set the initial DataFrame for the join operation\n",
    "    joined_df = df[0]\n",
    "\n",
    "    # Iterate through the remaining DataFrames and join them to the initial DataFrame\n",
    "    for df1 in df[1:]:\n",
    "        joined_df = joined_df.join(df1, [column])\n",
    "\n",
    "    # Return the final joined DataFrame\n",
    "    return joined_df"
   ]
  },
  {
   "cell_type": "code",
   "execution_count": 0,
   "metadata": {
    "application/vnd.databricks.v1+cell": {
     "cellMetadata": {
      "byteLimit": 2048000,
      "rowLimit": 10000
     },
     "inputWidgets": {},
     "nuid": "d148ad6b-cea1-4012-b821-e23a0741d47b",
     "showTitle": false,
     "title": ""
    }
   },
   "outputs": [],
   "source": [
    "from pyspark.sql import Row\n",
    "\n",
    "# Initialize the weather_measurements_df variable to store the final DataFrame\n",
    "weather_measurements_df = None\n",
    "\n",
    "# Collect the rows from city_attributes_df as a list\n",
    "city_attributes = city_attributes_df.collect()\n",
    "\n",
    "# Iterate over each row in city_attributes\n",
    "for row in city_attributes:\n",
    "    # Get the values from the row\n",
    "    latitude = row.Latitude\n",
    "    longitude = row.Longitude\n",
    "    city = row.City\n",
    "    country = row.Country\n",
    "\n",
    "    # Create a list of DataFrames for each type of measurement in the city\n",
    "    df = [\n",
    "        filter_by_citycolumn(humidity_df, city, HUMIDITY_C),\n",
    "        filter_by_citycolumn(pressure_df, city, PRESSURE_C),\n",
    "        filter_by_citycolumn(temperature_df, city, TEMPERATURE_C),\n",
    "        filter_by_citycolumn(wind_direction_df, city, WIND_DIRECTION_C),\n",
    "        filter_by_citycolumn(wind_speed_df, city, WIND_SPEED_C),\n",
    "        filter_by_citycolumn(weather_conditions_df, city, WEATHER_CONDITION_C)\n",
    "    ]\n",
    "\n",
    "    # Join the DataFrames based on the DATETIME_C column and add additional columns\n",
    "    joined_df = join_dataframes(df, DATETIME_C) \\\n",
    "        .withColumn(CITY_C, lit(city)) \\\n",
    "        .withColumn(COUNTRY_C, lit(country)) \\\n",
    "        .withColumn(LATITUDE_C, lit(latitude)) \\\n",
    "        .withColumn(LONGITUDE_C, lit(longitude))\n",
    "\n",
    "    # Union the joined DataFrame with the previous weather_measurements_df\n",
    "    if weather_measurements_df is not None:\n",
    "        weather_measurements_df = weather_measurements_df.union(joined_df)\n",
    "    else:\n",
    "        weather_measurements_df = joined_df"
   ]
  },
  {
   "cell_type": "markdown",
   "metadata": {
    "application/vnd.databricks.v1+cell": {
     "cellMetadata": {},
     "inputWidgets": {},
     "nuid": "67c60d79-7a6c-4f27-a443-b8809fc23a06",
     "showTitle": false,
     "title": ""
    }
   },
   "source": [
    "#### Showing the firse five rows to verify whats going on and Printing the count of missing values in each column"
   ]
  },
  {
   "cell_type": "code",
   "execution_count": 0,
   "metadata": {
    "application/vnd.databricks.v1+cell": {
     "cellMetadata": {
      "byteLimit": 2048000,
      "rowLimit": 10000
     },
     "inputWidgets": {},
     "nuid": "90c88bac-e866-4be5-9c3b-faf964e5c6be",
     "showTitle": false,
     "title": ""
    }
   },
   "outputs": [
    {
     "output_type": "stream",
     "name": "stdout",
     "output_type": "stream",
     "text": [
      "+-------------------+--------+--------+-------------+--------------+----------+-----------------+---------+-------+--------+-----------+\n|           datetime|humidity|pressure|  temperature|wind_direction|wind_speed|weather_condition|     city|country|latitude|  longitude|\n+-------------------+--------+--------+-------------+--------------+----------+-----------------+---------+-------+--------+-----------+\n|2012-10-01 12:00:00|    NULL|    NULL|         NULL|          NULL|      NULL|             NULL|Vancouver| Canada|49.24966|-123.119339|\n|2012-10-01 13:00:00|    76.0|    NULL|       284.63|           0.0|       0.0|             mist|Vancouver| Canada|49.24966|-123.119339|\n|2012-10-01 14:00:00|    76.0|    NULL| 284.62904131|           6.0|       0.0|    broken clouds|Vancouver| Canada|49.24966|-123.119339|\n|2012-10-01 15:00:00|    76.0|    NULL|284.626997923|          20.0|       0.0|    broken clouds|Vancouver| Canada|49.24966|-123.119339|\n|2012-10-01 16:00:00|    77.0|    NULL|284.624954535|          34.0|       0.0|    broken clouds|Vancouver| Canada|49.24966|-123.119339|\n+-------------------+--------+--------+-------------+--------------+----------+-----------------+---------+-------+--------+-----------+\nonly showing top 5 rows\n\nCount for missing values for column `datetime` is 0\nCount for missing values for column `humidity` is 28651\nCount for missing values for column `pressure` is 16680\nCount for missing values for column `temperature` is 8030\nCount for missing values for column `wind_direction` is 7975\nCount for missing values for column `wind_speed` is 7993\nCount for missing values for column `weather_condition` is 7955\nCount for missing values for column `city` is 0\nCount for missing values for column `country` is 0\nCount for missing values for column `latitude` is 0\nCount for missing values for column `longitude` is 0\n"
     ]
    }
   ],
   "source": [
    "# Show the first 5 rows of the weather_measurements_df DataFrame\n",
    "weather_measurements_df.show(5)\n",
    "\n",
    "# Iterate over each column in weather_measurements_df\n",
    "for c in weather_measurements_df.columns:\n",
    "    # Print the count of missing values in the column\n",
    "    print(f'Count for missing values for column `{c}` is {weather_measurements_df.where(col(c).isNull()).count()}')"
   ]
  },
  {
   "cell_type": "markdown",
   "metadata": {
    "application/vnd.databricks.v1+cell": {
     "cellMetadata": {},
     "inputWidgets": {},
     "nuid": "5ab23b41-34b2-4af7-aa29-698e3d4fc705",
     "showTitle": false,
     "title": ""
    }
   },
   "source": [
    "#### Replacing the empty null values with the mean of value of each group of weather conditions."
   ]
  },
  {
   "cell_type": "code",
   "execution_count": 0,
   "metadata": {
    "application/vnd.databricks.v1+cell": {
     "cellMetadata": {
      "byteLimit": 2048000,
      "rowLimit": 10000
     },
     "inputWidgets": {},
     "nuid": "2095d493-d27d-4a59-aed0-df461f42f60c",
     "showTitle": false,
     "title": ""
    }
   },
   "outputs": [
    {
     "output_type": "execute_result",
     "data": {
      "text/plain": [
       "DataFrame[weather_condition: string, datetime: timestamp, humidity: double, pressure: double, temperature: double, wind_direction: double, wind_speed: double, city: string, country: string, latitude: double, longitude: double]"
      ]
     },
     "execution_count": 12,
     "metadata": {},
     "output_type": "execute_result"
    }
   ],
   "source": [
    "weather_measurements_df = weather_measurements_df.dropna(subset=['weather_condition'])\n",
    "\n",
    "import pyspark.sql.functions as F\n",
    "from pyspark.sql.window import Window\n",
    "\n",
    "# Define a window partitioned by 'weather_condition' for calculating mean\n",
    "windowSpec = Window.partitionBy('weather_condition')\n",
    "\n",
    "# Define the columns you want to replace missing values for\n",
    "columns_to_fill = ['humidity', 'pressure', 'temperature', 'wind_direction', 'wind_speed']\n",
    "\n",
    "# Calculate the mean for each group of 'weather_condition' for all columns at once\n",
    "mean_df = weather_measurements_df.select('weather_condition', *[\n",
    "    F.mean(col).over(windowSpec).alias(col + '_mean') for col in columns_to_fill]).distinct()\n",
    "\n",
    "# Join the mean_df with the original DataFrame on 'weather_condition' column\n",
    "weather_measurements_df = weather_measurements_df.join(mean_df, on='weather_condition', how='left')\n",
    "\n",
    "# Fill null values in the original DataFrame using the calculated mean for each group\n",
    "for col in columns_to_fill:\n",
    "    weather_measurements_df = weather_measurements_df.withColumn(col, F.when(weather_measurements_df[col].isNull(), weather_measurements_df[col + '_mean']).otherwise(weather_measurements_df[col]))\n",
    "\n",
    "# Drop the columns containing mean values\n",
    "weather_measurements_df = weather_measurements_df.drop(*[col + '_mean' for col in columns_to_fill])\n",
    "\n",
    "weather_measurements_df.persist()"
   ]
  },
  {
   "cell_type": "markdown",
   "metadata": {
    "application/vnd.databricks.v1+cell": {
     "cellMetadata": {},
     "inputWidgets": {},
     "nuid": "757a0882-cfd3-4c7b-b730-7ec1f26f6626",
     "showTitle": false,
     "title": ""
    }
   },
   "source": [
    "###Printing the count of missing values in each column after replacing"
   ]
  },
  {
   "cell_type": "code",
   "execution_count": 0,
   "metadata": {
    "application/vnd.databricks.v1+cell": {
     "cellMetadata": {
      "byteLimit": 2048000,
      "rowLimit": 10000
     },
     "inputWidgets": {},
     "nuid": "cfcc784a-5b5b-44c2-a345-6a8d32cdb610",
     "showTitle": false,
     "title": ""
    }
   },
   "outputs": [
    {
     "output_type": "stream",
     "name": "stdout",
     "output_type": "stream",
     "text": [
      "Missing values of column `weather_condition` count: 0\nMissing values of column `datetime` count: 0\nMissing values of column `humidity` count: 0\nMissing values of column `pressure` count: 0\nMissing values of column `temperature` count: 0\nMissing values of column `wind_direction` count: 0\nMissing values of column `wind_speed` count: 0\nMissing values of column `city` count: 0\nMissing values of column `country` count: 0\nMissing values of column `latitude` count: 0\nMissing values of column `longitude` count: 0\n"
     ]
    }
   ],
   "source": [
    "from pyspark.sql.functions import col\n",
    "\n",
    "for c in weather_measurements_df.columns:\n",
    "    print(f'Missing values of column `{c}` count: {weather_measurements_df.where(col(c).isNull()).count()}')"
   ]
  },
  {
   "cell_type": "markdown",
   "metadata": {
    "application/vnd.databricks.v1+cell": {
     "cellMetadata": {},
     "inputWidgets": {},
     "nuid": "4d0e0933-54f8-4d52-859f-13b0714ea7cf",
     "showTitle": false,
     "title": ""
    }
   },
   "source": [
    "#### Grouping the dataframe by the WEATHER_CONDITION_C column and then counting the number \n",
    "- Group the filtered_weather_measurements_df DataFrame by the WEATHER_CONDITION_C column\n",
    "- and count the number of occurrences for each distinct weather condition\n",
    "- Show the result without truncating the output\n"
   ]
  },
  {
   "cell_type": "code",
   "execution_count": 0,
   "metadata": {
    "application/vnd.databricks.v1+cell": {
     "cellMetadata": {
      "byteLimit": 2048000,
      "rowLimit": 10000
     },
     "inputWidgets": {},
     "nuid": "73d32019-1a36-4795-815c-698b6d82cdca",
     "showTitle": false,
     "title": ""
    }
   },
   "outputs": [],
   "source": [
    "filtered_weather_measurements_df = weather_measurements_df\n",
    "filtered_weather_measurements_df.persist()\n",
    "\n",
    "all_condition = filtered_weather_measurements_df.groupBy(WEATHER_CONDITION_C).count().collect()"
   ]
  },
  {
   "cell_type": "markdown",
   "metadata": {
    "application/vnd.databricks.v1+cell": {
     "cellMetadata": {},
     "inputWidgets": {},
     "nuid": "9a81776f-42dd-4aac-868b-9a40e594b173",
     "showTitle": false,
     "title": ""
    }
   },
   "source": [
    "#### Defining a function that takes an iterable collection of string weather conditions and returns a dictionary and the function aggregates the weather conditions into specific categories"
   ]
  },
  {
   "cell_type": "code",
   "execution_count": 0,
   "metadata": {
    "application/vnd.databricks.v1+cell": {
     "cellMetadata": {
      "byteLimit": 2048000,
      "rowLimit": 10000
     },
     "inputWidgets": {},
     "nuid": "0d795b4d-6e91-4c93-a930-ba34bfb88790",
     "showTitle": false,
     "title": ""
    }
   },
   "outputs": [],
   "source": [
    "def get_weather_conditions_aggregation_dict(weather_conditions: Iterable[str]) -> Dict[str, str]:\n",
    "    '''\n",
    "    Args:\n",
    "        - weather_conditions: an iterable collection of string weather conditions to be aggregated\n",
    "\n",
    "    Returns:\n",
    "        a dictionary that goes from the original weather condition name to one among the following:\n",
    "            - rainy\n",
    "            - snowy\n",
    "            - cloudy\n",
    "            - sunny\n",
    "    '''\n",
    "    \n",
    "    weather_conditions_dict = dict()\n",
    "  \n",
    "    for weather_condition in weather_conditions:\n",
    "  \n",
    "        weather_condition_lowered = weather_condition.lower()\n",
    "\n",
    "        if any(key in weather_condition_lowered for key in ['drizzle', 'rain']):\n",
    "            weather_conditions_dict[weather_condition] = 'rainy'\n",
    "        elif any(key in weather_condition_lowered for key in ['sleet', 'snow']):\n",
    "            weather_conditions_dict[weather_condition] = 'snowy'\n",
    "        elif 'overcast clouds' in weather_condition_lowered:\n",
    "            weather_conditions_dict[weather_condition] = 'cloudy'\n",
    "        elif any(key in weather_condition_lowered for key in ['clear']):\n",
    "            weather_conditions_dict[weather_condition] = 'sunny'\n",
    "            \n",
    "    return weather_conditions_dict"
   ]
  },
  {
   "cell_type": "markdown",
   "metadata": {
    "application/vnd.databricks.v1+cell": {
     "cellMetadata": {},
     "inputWidgets": {},
     "nuid": "511f79ce-471c-408c-9fd1-23bb6078d362",
     "showTitle": false,
     "title": ""
    }
   },
   "source": [
    "%md\n",
    "#### Retrieving all distinct weather conditions from the filtered_weather_measurements_df DataFrame\n",
    "- Select the WEATHER_CONDITION_C column from the DataFrame\n",
    "- Apply the distinct() function to get the unique values\n",
    "- Convert the result to an RDD\n",
    "- Collect the values as a list\n",
    "\n"
   ]
  },
  {
   "cell_type": "code",
   "execution_count": 0,
   "metadata": {
    "application/vnd.databricks.v1+cell": {
     "cellMetadata": {
      "byteLimit": 2048000,
      "rowLimit": 10000
     },
     "inputWidgets": {},
     "nuid": "e2ae5293-9303-468c-8792-b50785a879df",
     "showTitle": false,
     "title": ""
    }
   },
   "outputs": [],
   "source": [
    "weather_conditions_all = filtered_weather_measurements_df \\\n",
    "    .select(WEATHER_CONDITION_C).distinct() \\\n",
    "    .rdd.map(lambda row: row[0]) \\\n",
    "    .collect()"
   ]
  },
  {
   "cell_type": "code",
   "execution_count": 0,
   "metadata": {
    "application/vnd.databricks.v1+cell": {
     "cellMetadata": {
      "byteLimit": 2048000,
      "rowLimit": 10000
     },
     "inputWidgets": {},
     "nuid": "f19f9698-8add-49fb-8c14-9a51fdf71568",
     "showTitle": false,
     "title": ""
    }
   },
   "outputs": [],
   "source": [
    "# Create a dictionary that aggregates weather conditions into specific categories\n",
    "# Call the function aggregation_weather_dict() with the input of all weather conditions\n",
    "# Store the resulting dictionary in the variable weather_conditions_dict\n",
    "weather_conditions_dict = get_weather_conditions_aggregation_dict(weather_conditions_all)"
   ]
  },
  {
   "cell_type": "code",
   "execution_count": 0,
   "metadata": {
    "application/vnd.databricks.v1+cell": {
     "cellMetadata": {
      "byteLimit": 2048000,
      "rowLimit": 10000
     },
     "inputWidgets": {},
     "nuid": "c4ae7683-0b2e-4220-afce-505164fc9a00",
     "showTitle": false,
     "title": ""
    }
   },
   "outputs": [
    {
     "output_type": "execute_result",
     "data": {
      "text/plain": [
       "DataFrame[weather_condition: string, datetime: timestamp, humidity: double, pressure: double, temperature: double, wind_direction: double, wind_speed: double, city: string, country: string, latitude: double, longitude: double]"
      ]
     },
     "execution_count": 29,
     "metadata": {},
     "output_type": "execute_result"
    }
   ],
   "source": [
    "# Replace the weather conditions in the filtered_weather_measurements_df DataFrame using the weather_conditions_dict\n",
    "# Store the result in the weather_aggregated_df DataFrame\n",
    "weather_aggregated_df = filtered_weather_measurements_df.replace(weather_conditions_dict)\n",
    "\n",
    "# Persist the weather_aggregated_df DataFrame in memory for faster access\n",
    "weather_aggregated_df.persist()"
   ]
  },
  {
   "cell_type": "markdown",
   "metadata": {
    "application/vnd.databricks.v1+cell": {
     "cellMetadata": {},
     "inputWidgets": {},
     "nuid": "e9d3f7ef-f802-4fb3-baf9-176df1c165b8",
     "showTitle": false,
     "title": ""
    }
   },
   "source": [
    "#### Getting the unique set of weather conditions and filtering  to include only rows where the weather condition is in the unique set of weather conditions "
   ]
  },
  {
   "cell_type": "code",
   "execution_count": 0,
   "metadata": {
    "application/vnd.databricks.v1+cell": {
     "cellMetadata": {
      "byteLimit": 2048000,
      "rowLimit": 10000
     },
     "inputWidgets": {},
     "nuid": "931878cc-ccf0-4982-ad26-0e74c53e2fd3",
     "showTitle": false,
     "title": ""
    }
   },
   "outputs": [],
   "source": [
    "# Get the unique set of weather conditions from the existing dictionary\n",
    "unique_weather_conditions = set(weather_conditions_dict.values())\n",
    "\n",
    "# Filter the weather_aggregated_df DataFrame to include only rows where the weather condition is in the unique set of weather conditions\n",
    "filtered_weather_measurements_aggregated_df = weather_aggregated_df \\\n",
    "    .filter(weather_aggregated_df[WEATHER_CONDITION_C].isin(unique_weather_conditions))"
   ]
  },
  {
   "cell_type": "markdown",
   "metadata": {
    "application/vnd.databricks.v1+cell": {
     "cellMetadata": {},
     "inputWidgets": {},
     "nuid": "19277f97-455a-4858-a0c4-816217c814ea",
     "showTitle": false,
     "title": ""
    }
   },
   "source": [
    "#### Grouping the resulting dataframe by the WEATHER_CONDITION_C column and then counting the number of occurences for distinct weather condition"
   ]
  },
  {
   "cell_type": "code",
   "execution_count": 0,
   "metadata": {
    "application/vnd.databricks.v1+cell": {
     "cellMetadata": {
      "byteLimit": 2048000,
      "rowLimit": 10000
     },
     "inputWidgets": {},
     "nuid": "c5598e85-576d-4120-8bba-2f0e8466a211",
     "showTitle": false,
     "title": ""
    }
   },
   "outputs": [
    {
     "output_type": "stream",
     "name": "stdout",
     "output_type": "stream",
     "text": [
      "+-----------------+------+\n|weather_condition| count|\n+-----------------+------+\n|            rainy|207834|\n|            snowy| 21850|\n|           cloudy|137604|\n|            sunny|651226|\n+-----------------+------+\n\n"
     ]
    }
   ],
   "source": [
    "# Group the filtered_weather_measurements_aggregated_df DataFrame by the values in the WEATHER_CONDITION_C column\n",
    "# Count the number of occurrences for each unique value in the WEATHER_CONDITION_C column\n",
    "# Show the results\n",
    "filtered_weather_measurements_aggregated_df.groupBy(WEATHER_CONDITION_C).count().show()"
   ]
  },
  {
   "cell_type": "markdown",
   "metadata": {
    "application/vnd.databricks.v1+cell": {
     "cellMetadata": {},
     "inputWidgets": {},
     "nuid": "a8549613-c589-4aa8-b7b8-efdf7f95ac58",
     "showTitle": false,
     "title": ""
    }
   },
   "source": [
    "#### Verifying how data loooks"
   ]
  },
  {
   "cell_type": "code",
   "execution_count": 0,
   "metadata": {
    "application/vnd.databricks.v1+cell": {
     "cellMetadata": {
      "byteLimit": 2048000,
      "rowLimit": 10000
     },
     "inputWidgets": {},
     "nuid": "4264d24b-195b-472f-8d0e-1602537cace0",
     "showTitle": false,
     "title": ""
    }
   },
   "outputs": [
    {
     "output_type": "stream",
     "name": "stdout",
     "output_type": "stream",
     "text": [
      "+-----------------+-------------------+--------+--------+-----------+--------------+----------+-------------+-------------+---------+-----------+\n|weather_condition|           datetime|humidity|pressure|temperature|wind_direction|wind_speed|         city|      country| latitude|  longitude|\n+-----------------+-------------------+--------+--------+-----------+--------------+----------+-------------+-------------+---------+-----------+\n|            rainy|2017-01-20 21:00:00|    93.0|   987.0|     279.06|         270.0|       4.0|    Vancouver|       Canada| 49.24966|-123.119339|\n|            rainy|2017-03-29 04:00:00|    87.0|  1019.0|     281.13|         190.0|       4.0|    Vancouver|       Canada| 49.24966|-123.119339|\n|            rainy|2017-04-02 03:00:00|    93.0|  1023.0|     281.46|         200.0|       4.0|    Vancouver|       Canada| 49.24966|-123.119339|\n|            rainy|2016-12-03 17:00:00|   100.0|  1029.0|     280.29|         219.0|       1.0|     Portland|United States|45.523449|-122.676208|\n|            rainy|2012-12-27 12:00:00|    76.0|  1013.0|     281.37|         280.0|       5.0|San Francisco|United States|37.774929|-122.419418|\n+-----------------+-------------------+--------+--------+-----------+--------------+----------+-------------+-------------+---------+-----------+\nonly showing top 5 rows\n\n"
     ]
    }
   ],
   "source": [
    "# Show the first 5 rows of the filtered_weather_measurements_aggregated_df DataFrame\n",
    "filtered_weather_measurements_aggregated_df.show(5)"
   ]
  },
  {
   "cell_type": "markdown",
   "metadata": {
    "application/vnd.databricks.v1+cell": {
     "cellMetadata": {},
     "inputWidgets": {},
     "nuid": "9a7cac2f-f8a1-403f-a592-24ae13dcf569",
     "showTitle": false,
     "title": ""
    }
   },
   "source": [
    "## Counts the occurrences of a specific weather condition \n",
    "Defining a function that counts the occurrences of a specific weather condition in a DataFrame by doing two steps\n",
    "- Filter the DataFrame to only include rows where the WEATHER_CONDITION_C is equal to class_name\n",
    "- Count the number of rows in the filtered DataFrame and return the count\n"
   ]
  },
  {
   "cell_type": "code",
   "execution_count": 0,
   "metadata": {
    "application/vnd.databricks.v1+cell": {
     "cellMetadata": {
      "byteLimit": 2048000,
      "rowLimit": 10000
     },
     "inputWidgets": {},
     "nuid": "7d29d04c-c45e-4379-b379-bbd0adbea412",
     "showTitle": false,
     "title": ""
    }
   },
   "outputs": [],
   "source": [
    "'''\n",
    "    Args:\n",
    "        - dataframe: a `DataFrame` which contains a column `WEATHER_CONDITION_C`\n",
    "        - class_name: the class name to count the occurrences of\n",
    "        \n",
    "    Returns:\n",
    "        the total number of `class_name` occurrences inside `dataframe`\n",
    "'''\n",
    "\n",
    "# Define a function that counts the occurrences of a specific weather condition in a DataFrame\n",
    "def weather_condition_occurrences_count(df: DataFrame, class_name: str) -> int:\n",
    "\n",
    "    # Filter the DataFrame to only include rows where the WEATHER_CONDITION_C is equal to class_name\n",
    "    # Count the number of rows in the filtered DataFrame and return the count\n",
    "    return df.filter(df[WEATHER_CONDITION_C] == class_name).count()"
   ]
  },
  {
   "cell_type": "markdown",
   "metadata": {
    "application/vnd.databricks.v1+cell": {
     "cellMetadata": {},
     "inputWidgets": {},
     "nuid": "fc027f30-ffbc-4599-a26b-d302d6f6e7b9",
     "showTitle": false,
     "title": ""
    }
   },
   "source": [
    "#### Calculating the fraction to sample for each weather condition to match the occurrences of the minority class\n"
   ]
  },
  {
   "cell_type": "code",
   "execution_count": 0,
   "metadata": {
    "application/vnd.databricks.v1+cell": {
     "cellMetadata": {
      "byteLimit": 2048000,
      "rowLimit": 10000
     },
     "inputWidgets": {},
     "nuid": "1caa96c5-6477-43f2-a8e8-3b9c3722dc95",
     "showTitle": false,
     "title": ""
    }
   },
   "outputs": [],
   "source": [
    "def get_undersampling_fracs(dataframe: DataFrame) -> Dict[str, float]:\n",
    "    '''\n",
    "    Args:\n",
    "        - dataframe: a `DataFrame` of weather measurements which contains a column `WEATHER_CONDITION_C`\n",
    "        \n",
    "    Returns:\n",
    "        a dictionary that goes from a weather condition to its fraction\n",
    "        that should be sampled in order to match the occurrences of the minority class\n",
    "    '''\n",
    "\n",
    "    # Count the occurrences of each weather condition in the DataFrame\n",
    "    rainy_cnt = weather_condition_occurrences_count(dataframe, 'rainy')\n",
    "    snowy_cnt = weather_condition_occurrences_count(dataframe, 'snowy')\n",
    "    sunny_cnt = weather_condition_occurrences_count(dataframe, 'sunny')\n",
    "    cloudy_cnt = weather_condition_occurrences_count(dataframe, 'cloudy')\n",
    "\n",
    "    # Find the count of the minority class\n",
    "    minority_class_cnt = np.min(\n",
    "        [rainy_cnt, snowy_cnt, sunny_cnt, cloudy_cnt]\n",
    "    )\n",
    "\n",
    "    # Calculate the fraction to sample for each weather condition to match the occurrences of the minority class\n",
    "    return {\n",
    "        'rainy': minority_class_cnt / rainy_cnt if rainy_cnt != 0 else 0,\n",
    "        'snowy': minority_class_cnt / snowy_cnt if snowy_cnt != 0 else 0,\n",
    "        'sunny': minority_class_cnt / sunny_cnt if sunny_cnt != 0 else 0,\n",
    "        'cloudy': minority_class_cnt / cloudy_cnt if cloudy_cnt != 0 else 0\n",
    "    }"
   ]
  },
  {
   "cell_type": "markdown",
   "metadata": {
    "application/vnd.databricks.v1+cell": {
     "cellMetadata": {},
     "inputWidgets": {},
     "nuid": "f2652d14-9b6f-48fc-86ff-c251c974e217",
     "showTitle": false,
     "title": ""
    }
   },
   "source": [
    "#### Sampling the weather measurements DataFrame using the given fractions for undersampling and the random seed and then persisting the data and Persisting the sampled DataFrame in memory for faster access\n",
    " "
   ]
  },
  {
   "cell_type": "code",
   "execution_count": 0,
   "metadata": {
    "application/vnd.databricks.v1+cell": {
     "cellMetadata": {
      "byteLimit": 2048000,
      "rowLimit": 10000
     },
     "inputWidgets": {},
     "nuid": "2c2b7295-12cd-4b13-95e0-6e408f6a368f",
     "showTitle": false,
     "title": ""
    }
   },
   "outputs": [
    {
     "output_type": "execute_result",
     "data": {
      "text/plain": [
       "DataFrame[weather_condition: string, datetime: timestamp, humidity: double, pressure: double, temperature: double, wind_direction: double, wind_speed: double, city: string, country: string, latitude: double, longitude: double]"
      ]
     },
     "execution_count": 46,
     "metadata": {},
     "output_type": "execute_result"
    }
   ],
   "source": [
    "# Sample the weather measurements DataFrame using the given fractions for undersampling and the random seed\n",
    "sampled_weather_measurements_df = weather_aggregated_df.sampleBy(WEATHER_CONDITION_C,\n",
    "                                                                               fractions=get_undersampling_fracs(weather_aggregated_df),\n",
    "                                                                               seed=RANDOM_SEED)\n",
    "\n",
    "sampled_weather_measurements_df.persist()"
   ]
  },
  {
   "cell_type": "markdown",
   "metadata": {
    "application/vnd.databricks.v1+cell": {
     "cellMetadata": {},
     "inputWidgets": {},
     "nuid": "00f1afba-6398-40fe-9ed8-95a76287cb3a",
     "showTitle": false,
     "title": ""
    }
   },
   "source": [
    "#### This code block checks if the LOAD_SAMPLED_DATASET flag is set to True. If it is, it loads a DataFrame called sampled_weather_measurements_df by reading a CSV file from the specified path using the spark.read.csv() method."
   ]
  },
  {
   "cell_type": "code",
   "execution_count": 0,
   "metadata": {
    "application/vnd.databricks.v1+cell": {
     "cellMetadata": {
      "byteLimit": 2048000,
      "rowLimit": 10000
     },
     "inputWidgets": {},
     "nuid": "76345497-5746-4fb8-9ac2-9c30894ff944",
     "showTitle": false,
     "title": ""
    }
   },
   "outputs": [],
   "source": [
    "# If the flag LOAD_SAMPLED_DATASET is True, load the sampled weather measurements DataFrame from the given path\n",
    "if LOAD_SAMPLED_DATASET:\n",
    "    sampled_weather_measurements_df = spark.read.csv(SAMPLED_DATASET_PATH, header=True, inferSchema=True)\n",
    "    \n",
    "# If the flag SAVE_COMPUTATIONS is True and the sampled DataFrame was not loaded, save the sampled weather measurements DataFrame to the given path\n",
    "if SAVE_COMPUTATIONS and not LOAD_SAMPLED_DATASET:\n",
    "    sampled_weather_measurements_df.write.csv(SAMPLED_DATASET_PATH,\n",
    "                                              mode='overwrite',\n",
    "                                              header=True)"
   ]
  },
  {
   "cell_type": "markdown",
   "metadata": {
    "application/vnd.databricks.v1+cell": {
     "cellMetadata": {},
     "inputWidgets": {},
     "nuid": "05499424-60c4-4997-91b5-dc2616bf5d87",
     "showTitle": false,
     "title": ""
    }
   },
   "source": [
    "#### Grouping the sampled weather_measurements_df DataFrame by WEATHER_CONDITION_C and count the occurrences of each weather condition\n"
   ]
  },
  {
   "cell_type": "code",
   "execution_count": 0,
   "metadata": {
    "application/vnd.databricks.v1+cell": {
     "cellMetadata": {
      "byteLimit": 2048000,
      "rowLimit": 10000
     },
     "inputWidgets": {},
     "nuid": "4ddbf0a5-f3da-49e7-b024-b19d01ea7388",
     "showTitle": false,
     "title": ""
    }
   },
   "outputs": [
    {
     "output_type": "stream",
     "name": "stdout",
     "output_type": "stream",
     "text": [
      "+-----------------+-----+\n|weather_condition|count|\n+-----------------+-----+\n|            rainy|21715|\n|            snowy|21850|\n|           cloudy|21962|\n|            sunny|22115|\n+-----------------+-----+\n\n"
     ]
    }
   ],
   "source": [
    "# Group the sampled weather_measurements_df DataFrame by WEATHER_CONDITION_C and count the occurrences of each weather condition\n",
    "sampled_weather_measurements_df.groupBy(WEATHER_CONDITION_C).count().show()"
   ]
  },
  {
   "cell_type": "code",
   "execution_count": 0,
   "metadata": {
    "application/vnd.databricks.v1+cell": {
     "cellMetadata": {
      "byteLimit": 2048000,
      "rowLimit": 10000
     },
     "inputWidgets": {},
     "nuid": "2cb0ed11-ecc7-4ffe-96f4-e105702bdea0",
     "showTitle": false,
     "title": ""
    }
   },
   "outputs": [
    {
     "output_type": "execute_result",
     "data": {
      "text/html": [
       "<div>\n",
       "<style scoped>\n",
       "    .dataframe tbody tr th:only-of-type {\n",
       "        vertical-align: middle;\n",
       "    }\n",
       "\n",
       "    .dataframe tbody tr th {\n",
       "        vertical-align: top;\n",
       "    }\n",
       "\n",
       "    .dataframe thead th {\n",
       "        text-align: right;\n",
       "    }\n",
       "</style>\n",
       "<table border=\"1\" class=\"dataframe\">\n",
       "  <thead>\n",
       "    <tr style=\"text-align: right;\">\n",
       "      <th></th>\n",
       "      <th>0</th>\n",
       "      <th>1</th>\n",
       "      <th>2</th>\n",
       "      <th>3</th>\n",
       "      <th>4</th>\n",
       "    </tr>\n",
       "  </thead>\n",
       "  <tbody>\n",
       "    <tr>\n",
       "      <th>summary</th>\n",
       "      <td>count</td>\n",
       "      <td>mean</td>\n",
       "      <td>stddev</td>\n",
       "      <td>min</td>\n",
       "      <td>max</td>\n",
       "    </tr>\n",
       "    <tr>\n",
       "      <th>weather_condition</th>\n",
       "      <td>87642</td>\n",
       "      <td>None</td>\n",
       "      <td>None</td>\n",
       "      <td>cloudy</td>\n",
       "      <td>sunny</td>\n",
       "    </tr>\n",
       "    <tr>\n",
       "      <th>humidity</th>\n",
       "      <td>87642</td>\n",
       "      <td>73.5739628509672</td>\n",
       "      <td>19.82248946340055</td>\n",
       "      <td>5.0</td>\n",
       "      <td>100.0</td>\n",
       "    </tr>\n",
       "    <tr>\n",
       "      <th>pressure</th>\n",
       "      <td>87642</td>\n",
       "      <td>1017.8492878606585</td>\n",
       "      <td>14.680257154209388</td>\n",
       "      <td>801.0</td>\n",
       "      <td>1100.0</td>\n",
       "    </tr>\n",
       "    <tr>\n",
       "      <th>temperature</th>\n",
       "      <td>87642</td>\n",
       "      <td>282.83451822931784</td>\n",
       "      <td>11.853851860030542</td>\n",
       "      <td>243.41</td>\n",
       "      <td>318.31</td>\n",
       "    </tr>\n",
       "    <tr>\n",
       "      <th>wind_direction</th>\n",
       "      <td>87642</td>\n",
       "      <td>188.8438648136738</td>\n",
       "      <td>105.50286068358574</td>\n",
       "      <td>0.0</td>\n",
       "      <td>360.0</td>\n",
       "    </tr>\n",
       "    <tr>\n",
       "      <th>wind_speed</th>\n",
       "      <td>87642</td>\n",
       "      <td>3.299221955307275</td>\n",
       "      <td>2.363539131379375</td>\n",
       "      <td>0.0</td>\n",
       "      <td>41.0</td>\n",
       "    </tr>\n",
       "    <tr>\n",
       "      <th>city</th>\n",
       "      <td>87642</td>\n",
       "      <td>None</td>\n",
       "      <td>None</td>\n",
       "      <td>Albuquerque</td>\n",
       "      <td>Vancouver</td>\n",
       "    </tr>\n",
       "    <tr>\n",
       "      <th>country</th>\n",
       "      <td>87642</td>\n",
       "      <td>None</td>\n",
       "      <td>None</td>\n",
       "      <td>Canada</td>\n",
       "      <td>United States</td>\n",
       "    </tr>\n",
       "    <tr>\n",
       "      <th>latitude</th>\n",
       "      <td>87642</td>\n",
       "      <td>38.84948841671135</td>\n",
       "      <td>5.691274646610233</td>\n",
       "      <td>25.774269</td>\n",
       "      <td>49.24966</td>\n",
       "    </tr>\n",
       "    <tr>\n",
       "      <th>longitude</th>\n",
       "      <td>87642</td>\n",
       "      <td>-79.03260495498114</td>\n",
       "      <td>41.61898295757504</td>\n",
       "      <td>-123.119339</td>\n",
       "      <td>35.216331</td>\n",
       "    </tr>\n",
       "  </tbody>\n",
       "</table>\n",
       "</div>"
      ],
      "text/plain": [
       "                       0                   1                   2            3              4\n",
       "summary            count                mean              stddev          min            max\n",
       "weather_condition  87642                None                None       cloudy          sunny\n",
       "humidity           87642    73.5739628509672   19.82248946340055          5.0          100.0\n",
       "pressure           87642  1017.8492878606585  14.680257154209388        801.0         1100.0\n",
       "temperature        87642  282.83451822931784  11.853851860030542       243.41         318.31\n",
       "wind_direction     87642   188.8438648136738  105.50286068358574          0.0          360.0\n",
       "wind_speed         87642   3.299221955307275   2.363539131379375          0.0           41.0\n",
       "city               87642                None                None  Albuquerque      Vancouver\n",
       "country            87642                None                None       Canada  United States\n",
       "latitude           87642   38.84948841671135   5.691274646610233    25.774269       49.24966\n",
       "longitude          87642  -79.03260495498114   41.61898295757504  -123.119339      35.216331"
      ]
     },
     "execution_count": 49,
     "metadata": {},
     "output_type": "execute_result"
    }
   ],
   "source": [
    "# Calculate the summary statistics for the sampled_weather_measurements_df DataFrame\n",
    "sampled_weather_measurements_df.describe().to_koalas().transpose()"
   ]
  },
  {
   "cell_type": "code",
   "execution_count": 0,
   "metadata": {
    "application/vnd.databricks.v1+cell": {
     "cellMetadata": {
      "byteLimit": 2048000,
      "rowLimit": 10000
     },
     "inputWidgets": {},
     "nuid": "cf703a87-7080-4680-bc97-da9d432bbe75",
     "showTitle": false,
     "title": ""
    }
   },
   "outputs": [
    {
     "output_type": "display_data",
     "data": {
      "image/png": "[encoded data removed]",
      "text/plain": [
       "<Figure size 1000x600 with 1 Axes>"
      ]
     },
     "metadata": {},
     "output_type": "display_data"
    }
   ],
   "source": [
    "import matplotlib.pyplot as plt\n",
    "import pandas as pd\n",
    "\n",
    "# Collecting counts for filtered DataFrame\n",
    "filtered_weather_counts = filtered_weather_measurements_aggregated_df.groupBy(WEATHER_CONDITION_C).count().toPandas()\n",
    "\n",
    "# Collecting counts for sampled DataFrame\n",
    "sampled_weather_counts = sampled_weather_measurements_df.groupBy(WEATHER_CONDITION_C).count().toPandas()\n",
    "\n",
    "# Plotting the bar graph\n",
    "plt.figure(figsize=(10, 6))\n",
    "\n",
    "plt.bar(filtered_weather_counts[WEATHER_CONDITION_C], filtered_weather_counts['count'], color='blue', label='Filtered Weather Measurements')\n",
    "plt.bar(sampled_weather_counts[WEATHER_CONDITION_C], sampled_weather_counts['count'], color='orange', label='Sampled Weather Measurements')\n",
    "\n",
    "plt.xlabel('Weather Condition')\n",
    "plt.ylabel('Count')\n",
    "plt.title('Comparison of Weather Condition Counts')\n",
    "plt.xticks(rotation=45)\n",
    "plt.legend()\n",
    "plt.tight_layout()\n",
    "plt.show()\n"
   ]
  },
  {
   "cell_type": "code",
   "execution_count": 0,
   "metadata": {
    "application/vnd.databricks.v1+cell": {
     "cellMetadata": {
      "byteLimit": 2048000,
      "rowLimit": 10000
     },
     "inputWidgets": {},
     "nuid": "92a989d2-c84c-46c6-8cfb-f0d07511bfc5",
     "showTitle": false,
     "title": ""
    }
   },
   "outputs": [
    {
     "output_type": "display_data",
     "data": {
      "image/png": "[encoded data removed]",
      "text/plain": [
       "<Figure size 1000x600 with 1 Axes>"
      ]
     },
     "metadata": {},
     "output_type": "display_data"
    }
   ],
   "source": [
    "# sampled_weather_measurements_df.groupBy(\"country\").count().show()\n",
    "country_counts = sampled_weather_measurements_df.groupBy(\"country\").count().toPandas()\n",
    "\n",
    "# Plotting the bar graph\n",
    "plt.figure(figsize=(10, 6))\n",
    "plt.bar(country_counts[\"country\"], country_counts['count'], color='blue')\n",
    "plt.xlabel('Country')\n",
    "plt.ylabel('Count')\n",
    "plt.title('Country Counts')\n",
    "plt.xticks(rotation=45)\n",
    "plt.tight_layout()\n",
    "plt.show()"
   ]
  },
  {
   "cell_type": "code",
   "execution_count": 0,
   "metadata": {
    "application/vnd.databricks.v1+cell": {
     "cellMetadata": {
      "byteLimit": 2048000,
      "rowLimit": 10000
     },
     "inputWidgets": {},
     "nuid": "ddea92ce-5870-48b4-a9db-87eb9ba326db",
     "showTitle": false,
     "title": ""
    }
   },
   "outputs": [
    {
     "output_type": "display_data",
     "data": {
      "image/png": "[encoded data removed]",
      "text/plain": [
       "<Figure size 1000x600 with 1 Axes>"
      ]
     },
     "metadata": {},
     "output_type": "display_data"
    }
   ],
   "source": [
    "# sampled_weather_measurements_df.groupBy(\"city\").count().show(30)\n",
    "city_counts = sampled_weather_measurements_df.groupBy(\"city\").count().toPandas()\n",
    "\n",
    "# Select the first 30 rows\n",
    "first_30_countries = city_counts.head(30)\n",
    "\n",
    "# Plotting the bar graph\n",
    "plt.figure(figsize=(10, 6))\n",
    "plt.bar(first_30_countries[\"city\"], first_30_countries['count'], color='blue')\n",
    "plt.xlabel('city')\n",
    "plt.ylabel('Count')\n",
    "plt.title('city Counts')\n",
    "plt.xticks(rotation=45)\n",
    "plt.tight_layout()\n",
    "plt.show()"
   ]
  },
  {
   "cell_type": "markdown",
   "metadata": {
    "application/vnd.databricks.v1+cell": {
     "cellMetadata": {},
     "inputWidgets": {},
     "nuid": "8269418a-1c50-40a9-b666-5b3f9b3851b3",
     "showTitle": false,
     "title": ""
    }
   },
   "source": [
    "### finding corelation between all columns with column 'weather_condition' for feature extraction"
   ]
  },
  {
   "cell_type": "code",
   "execution_count": 0,
   "metadata": {
    "application/vnd.databricks.v1+cell": {
     "cellMetadata": {
      "byteLimit": 2048000,
      "rowLimit": 10000
     },
     "inputWidgets": {},
     "nuid": "1ada6cc5-be61-4734-9b44-1ba6393d7e75",
     "showTitle": false,
     "title": ""
    }
   },
   "outputs": [
    {
     "output_type": "stream",
     "name": "stdout",
     "output_type": "stream",
     "text": [
      "humidity          0.230902\nwind_speed        0.074042\nwind_direction    0.066886\ntemperature       0.027611\npressure          0.025262\ndtype: float64\n                importance\ntemperature       0.415956\nhumidity          0.178655\nwind_direction    0.177800\npressure          0.158422\nwind_speed        0.069168\nIndex(['humidity', 'temperature', 'wind_direction'], dtype='object')\nIndex(['humidity', 'pressure', 'temperature', 'wind_direction', 'wind_speed'], dtype='object')\n"
     ]
    }
   ],
   "source": [
    "import pandas as pd\n",
    "from sklearn.model_selection import train_test_split\n",
    "from sklearn.ensemble import RandomForestClassifier\n",
    "from sklearn.feature_selection import SelectFromModel\n",
    "from sklearn.linear_model import Lasso\n",
    "from sklearn.preprocessing import LabelEncoder\n",
    "\n",
    "# Assuming you have a PySpark DataFrame named 'sampled_weather_measurements_df'\n",
    "\n",
    "# Convert PySpark DataFrame to pandas DataFrame\n",
    "data = sampled_weather_measurements_df.select([\"humidity\", \"pressure\", \"temperature\", \"wind_direction\", \"wind_speed\", \"weather_condition\"]).toPandas()\n",
    "\n",
    "# Convert the target variable to numeric values\n",
    "label_encoder = LabelEncoder()\n",
    "data['weather_condition'] = label_encoder.fit_transform(data['weather_condition'])\n",
    "\n",
    "# Split data into features and target variable\n",
    "X = data.drop('weather_condition', axis=1)\n",
    "y = data['weather_condition']\n",
    "\n",
    "# Split data into training and testing sets\n",
    "X_train, X_test, y_train, y_test = train_test_split(X, y, test_size=0.2, random_state=42)\n",
    "\n",
    "# 1. Correlation Analysis\n",
    "correlation_matrix = X_train.corrwith(y_train)\n",
    "correlation_with_target = correlation_matrix.abs().sort_values(ascending=False)\n",
    "print(correlation_with_target)\n",
    "\n",
    "# 2. Feature Importance (Random Forest)\n",
    "rf = RandomForestClassifier()\n",
    "rf.fit(X_train, y_train)\n",
    "feature_importance = pd.DataFrame(rf.feature_importances_, index=X_train.columns, columns=['importance'])\n",
    "feature_importance_sorted = feature_importance.sort_values(by='importance', ascending=False)\n",
    "print(feature_importance_sorted)\n",
    "\n",
    "# 3. Recursive Feature Elimination (RFE)\n",
    "from sklearn.feature_selection import RFE\n",
    "\n",
    "rfe = RFE(estimator=rf, n_features_to_select=3)\n",
    "rfe.fit(X_train, y_train)\n",
    "selected_features_rfe = X_train.columns[rfe.support_]\n",
    "print(selected_features_rfe)\n",
    "\n",
    "# 4. Lasso Regression\n",
    "lasso = Lasso(alpha=0.01)\n",
    "lasso.fit(X_train, y_train)\n",
    "model = SelectFromModel(lasso, prefit=True)\n",
    "selected_features_lasso = X_train.columns[model.get_support()]\n",
    "print(selected_features_lasso)"
   ]
  },
  {
   "cell_type": "markdown",
   "metadata": {
    "application/vnd.databricks.v1+cell": {
     "cellMetadata": {},
     "inputWidgets": {},
     "nuid": "d93e08e7-c46e-48bb-905c-0cab2a8da4cc",
     "showTitle": false,
     "title": ""
    }
   },
   "source": [
    "##removing unwanted columns"
   ]
  },
  {
   "cell_type": "code",
   "execution_count": 0,
   "metadata": {
    "application/vnd.databricks.v1+cell": {
     "cellMetadata": {
      "byteLimit": 2048000,
      "rowLimit": 10000
     },
     "inputWidgets": {},
     "nuid": "97a4ada7-12f9-48f4-af0e-d557efaae9da",
     "showTitle": false,
     "title": ""
    }
   },
   "outputs": [],
   "source": [
    "sampled_weather_measurements_new_df = sampled_weather_measurements_df.drop('datetime', 'latitude', 'longitude', 'wind_speed')"
   ]
  },
  {
   "cell_type": "markdown",
   "metadata": {
    "application/vnd.databricks.v1+cell": {
     "cellMetadata": {},
     "inputWidgets": {},
     "nuid": "a552dd6f-3bea-471b-a64a-782e4d555a56",
     "showTitle": false,
     "title": ""
    }
   },
   "source": [
    "#### Splitting the dataset into test and train data\n",
    "- Split the sampled_weather_measurements_df dataframe into train_df and test_df dataframes\n",
    "- using a 80% - 20% ratio and specifying the random seed\n",
    "- persit the outcomes to improve performance"
   ]
  },
  {
   "cell_type": "code",
   "execution_count": 0,
   "metadata": {
    "application/vnd.databricks.v1+cell": {
     "cellMetadata": {
      "byteLimit": 2048000,
      "rowLimit": 10000
     },
     "inputWidgets": {},
     "nuid": "6f044a61-47d4-4910-b894-74797f3f4109",
     "showTitle": false,
     "title": ""
    }
   },
   "outputs": [
    {
     "output_type": "execute_result",
     "data": {
      "text/plain": [
       "DataFrame[weather_condition: string, datetime: timestamp, humidity: double, pressure: double, temperature: double, wind_direction: double, wind_speed: double, city: string, country: string, latitude: double, longitude: double]"
      ]
     },
     "execution_count": 59,
     "metadata": {},
     "output_type": "execute_result"
    }
   ],
   "source": [
    "\n",
    "\n",
    "train_df, test_df = sampled_weather_measurements_df.randomSplit([0.8, 0.2], seed=RANDOM_SEED)\n",
    "\n",
    "# Persist the train_df and test_df dataframes in memory\n",
    "# to improve performance for subsequent operations\n",
    "\n",
    "train_df.persist()\n",
    "test_df.persist()"
   ]
  },
  {
   "cell_type": "markdown",
   "metadata": {
    "application/vnd.databricks.v1+cell": {
     "cellMetadata": {},
     "inputWidgets": {},
     "nuid": "615cbbd3-2d38-4100-b505-7fb0fc3e808d",
     "showTitle": false,
     "title": ""
    }
   },
   "source": [
    "#### Applying a limit to the training dataframe in order to prevent an Internal Server Error in DataBricks\n"
   ]
  },
  {
   "cell_type": "code",
   "execution_count": 0,
   "metadata": {
    "application/vnd.databricks.v1+cell": {
     "cellMetadata": {
      "byteLimit": 2048000,
      "rowLimit": 10000
     },
     "inputWidgets": {},
     "nuid": "4da58e40-dbe4-43f3-951f-eaf7803d5550",
     "showTitle": false,
     "title": ""
    }
   },
   "outputs": [],
   "source": [
    "# Apply a limit to the training dataframe in order to prevent an Internal Server Error in DataBricks\n",
    "train_df = train_df.limit(MAX_TRAIN_SIZE)"
   ]
  },
  {
   "cell_type": "code",
   "execution_count": 0,
   "metadata": {
    "application/vnd.databricks.v1+cell": {
     "cellMetadata": {
      "byteLimit": 2048000,
      "rowLimit": 10000
     },
     "inputWidgets": {},
     "nuid": "2f982d74-e2e2-4c59-9fd4-f84e5f4fc75c",
     "showTitle": false,
     "title": ""
    }
   },
   "outputs": [
    {
     "output_type": "stream",
     "name": "stdout",
     "output_type": "stream",
     "text": [
      "Train set size:  70037 instances\nTest set size:   17605 instances\n"
     ]
    }
   ],
   "source": [
    "# Print the size of the train_df dataframe\n",
    "print(f'Train set size:  {train_df.count()} instances')\n",
    "\n",
    "# Print the size of the test_df dataframe\n",
    "print(f'Test set size:   {test_df.count()} instances')"
   ]
  },
  {
   "cell_type": "markdown",
   "metadata": {
    "application/vnd.databricks.v1+cell": {
     "cellMetadata": {},
     "inputWidgets": {},
     "nuid": "a3b02810-dde1-4873-8f6d-8eaa68aaa8e7",
     "showTitle": false,
     "title": ""
    }
   },
   "source": [
    "# Machine learning pipeline"
   ]
  },
  {
   "cell_type": "markdown",
   "metadata": {
    "application/vnd.databricks.v1+cell": {
     "cellMetadata": {},
     "inputWidgets": {},
     "nuid": "bed13934-aa82-485d-bd6d-24dad6a351e5",
     "showTitle": false,
     "title": ""
    }
   },
   "source": [
    "#### Defining some columns and empty lists for further usage"
   ]
  },
  {
   "cell_type": "code",
   "execution_count": 0,
   "metadata": {
    "application/vnd.databricks.v1+cell": {
     "cellMetadata": {
      "byteLimit": 2048000,
      "rowLimit": 10000
     },
     "inputWidgets": {},
     "nuid": "7dde94a1-c832-4408-ba04-e008041edba3",
     "showTitle": false,
     "title": ""
    }
   },
   "outputs": [],
   "source": [
    "# Define a list of column names corresponding to numerical features\n",
    "NUMERICAL_FEATURES = [HUMIDITY_C,\n",
    "                      PRESSURE_C,\n",
    "                      TEMPERATURE_C,\n",
    "                      WIND_DIRECTION_C,\n",
    "                      WIND_SPEED_C,\n",
    "                      LATITUDE_C,\n",
    "                      LONGITUDE_C]\n",
    "\n",
    "# Define an empty list for column names corresponding to categorical features\n",
    "CATEGORICAL_FEATURES = []\n",
    "\n",
    "# Define the column name corresponding to the target variable\n",
    "TARGET_VARIABLE_COL = WEATHER_CONDITION_C\n",
    "\n",
    "# Define the column name for the predicted target variable\n",
    "PREDICTED_TARGET_VARIABLE_COL = f'predicted_{TARGET_VARIABLE_COL}'\n",
    "\n",
    "# Define the column name for the label column\n",
    "LABEL_COL = 'label'\n",
    "\n",
    "# Define the column name for the prediction column\n",
    "PREDICTION_COL = 'prediction'\n",
    "\n",
    "# Define the column name for the features column\n",
    "FEATURES_COL = 'features'\n",
    "\n",
    "# Define the column name for the scaled features column\n",
    "SCALED_FEATURES_COL = f'scaled_{FEATURES_COL}'"
   ]
  },
  {
   "cell_type": "markdown",
   "metadata": {
    "application/vnd.databricks.v1+cell": {
     "cellMetadata": {},
     "inputWidgets": {},
     "nuid": "6e6755e0-f533-44e3-bfaf-f70993fe01f1",
     "showTitle": false,
     "title": ""
    }
   },
   "source": [
    "#### Saving the model to a specific path"
   ]
  },
  {
   "cell_type": "code",
   "execution_count": 0,
   "metadata": {
    "application/vnd.databricks.v1+cell": {
     "cellMetadata": {
      "byteLimit": 2048000,
      "rowLimit": 10000
     },
     "inputWidgets": {},
     "nuid": "25b4d4fb-1395-4a19-a267-e202fafebcf9",
     "showTitle": false,
     "title": ""
    }
   },
   "outputs": [],
   "source": [
    "'''\n",
    "    Save a PySpark model to a specified path.\n",
    "    \n",
    "    Args:\n",
    "        - model: the PySpark model to be saved\n",
    "        - path: the file path to save the model\n",
    "        - append_datetime: whether to append current datetime to the path (True by default)\n",
    "'''\n",
    "\n",
    "def save_pyspark_model(model, path: str, append_datetime: bool = True) -> None:\n",
    "\n",
    "    \n",
    "    if append_datetime:\n",
    "        from datetime import datetime\n",
    "        path += '-' + datetime.now().strftime(\"%Y%d%m-%H%M%S\")\n",
    "    \n",
    "    model.write().overwrite().save(path)\n",
    "    print(path)"
   ]
  },
  {
   "cell_type": "markdown",
   "metadata": {
    "application/vnd.databricks.v1+cell": {
     "cellMetadata": {},
     "inputWidgets": {},
     "nuid": "b3e273e5-2181-4cf8-9260-f4ac01c500ce",
     "showTitle": false,
     "title": ""
    }
   },
   "source": [
    "#### Fitting a pipeline for encoding categorical features and scaling numerical features.\n",
    "- This code defines variables for column names that are important for a machine learning task and creates a pipeline to prepare data for a machine learning model.\n",
    "- The focus is on encoding categorical features (non-numeric data) and scaling numerical features."
   ]
  },
  {
   "cell_type": "code",
   "execution_count": 0,
   "metadata": {
    "application/vnd.databricks.v1+cell": {
     "cellMetadata": {
      "byteLimit": 2048000,
      "rowLimit": 10000
     },
     "inputWidgets": {},
     "nuid": "9c2f6b40-c77f-43c2-a51f-54b67107a6f1",
     "showTitle": false,
     "title": ""
    }
   },
   "outputs": [],
   "source": [
    "'''\n",
    "    Fit a pipeline for encoding categorical features and scaling numerical features.\n",
    "  \n",
    "    Args:\n",
    "        - dataframe: the input `DataFrame` to fit the pipeline\n",
    "        - numerical_features: the list of column names in `dataframe` corresponding to numerical features\n",
    "        - categorical_features: the list of column names in `dataframe` corresponding to categorical features\n",
    "        - target_variable: the column name in `dataframe` corresponding to the target variable\n",
    "        - with_std: whether to scale the data to unit standard deviation or not (True by default)\n",
    "        - with_mean: whether to center the data with mean before scaling (False by default)\n",
    "\n",
    "    Returns:\n",
    "        the encoding pipeline fitted with `dataframe`\n",
    "'''\n",
    "\n",
    "def encoding_pipeline(dataframe: DataFrame,\n",
    "                      numerical_features: List[str],\n",
    "                      categorical_features: List[str],\n",
    "                      target_variable: str,\n",
    "                      with_std: bool = True,\n",
    "                      with_mean: bool = False) -> PipelineModel:\n",
    "\n",
    "    # Import necessary modules\n",
    "    from pyspark.ml import Pipeline\n",
    "    from pyspark.ml.feature import StringIndexer, OneHotEncoder, VectorAssembler, StandardScaler\n",
    "\n",
    "    # Indexing, i.e. transform to numerical values, the target column and rename it as the variable `LABEL_COL`\n",
    "    label_indexer = StringIndexer(inputCol=target_variable, outputCol=LABEL_COL)\n",
    "    \n",
    "    # Create a list of indexers, one for each categorical feature\n",
    "    indexers = [StringIndexer(inputCol=c, outputCol=f'{c}_indexed', handleInvalid='keep') for c in categorical_features]\n",
    "\n",
    "    # Create the one-hot encoder for the list of features just indexed (this encoder will keep any unseen label in the future)\n",
    "    encoder = OneHotEncoder(inputCols=[indexer.getOutputCol() for indexer in indexers], \n",
    "                            outputCols=[f'{indexer.getOutputCol()}_encoded' for indexer in indexers], \n",
    "                            handleInvalid='keep')\n",
    "    \n",
    "    # Assemble all the features (both one-hot-encoded categorical and numerical) into a single vector\n",
    "    features = encoder.getOutputCols() + numerical_features\n",
    "    assembler = VectorAssembler(inputCols=features, outputCol=FEATURES_COL)\n",
    "    \n",
    "    # Create a second feature column with the data scaled accordingly to `withStd` and `withMean`\n",
    "    scaler = StandardScaler(inputCol=assembler.getOutputCol(), outputCol=SCALED_FEATURES_COL, withStd=with_std, withMean=with_mean)\n",
    "    \n",
    "    # Define the stages of the pipeline\n",
    "    stages = [label_indexer] + indexers + [encoder] + [assembler] + [scaler]\n",
    "    \n",
    "    # Create the pipeline\n",
    "    pipeline = Pipeline(stages=stages)\n",
    "\n",
    "    # Fit the pipeline with the input dataframe\n",
    "    transformer = pipeline.fit(dataframe)\n",
    "\n",
    "    # Return the fitted pipeline\n",
    "    return transformer"
   ]
  },
  {
   "cell_type": "markdown",
   "metadata": {
    "application/vnd.databricks.v1+cell": {
     "cellMetadata": {},
     "inputWidgets": {},
     "nuid": "6b2fac6a-9384-4534-99ae-d8288dab720f",
     "showTitle": false,
     "title": ""
    }
   },
   "source": [
    "##### Loading the encoding pipeline if LOAD_ENCODING_PIPELINE is True, otherwise create a new encoding pipeline\n"
   ]
  },
  {
   "cell_type": "code",
   "execution_count": 0,
   "metadata": {
    "application/vnd.databricks.v1+cell": {
     "cellMetadata": {
      "byteLimit": 2048000,
      "rowLimit": 10000
     },
     "inputWidgets": {},
     "nuid": "361d0446-bd6e-491e-ac04-a5676eb60c28",
     "showTitle": false,
     "title": ""
    }
   },
   "outputs": [],
   "source": [
    "data_encoder = PipelineModel.load(ENCODING_PIPELINE_PATH) if LOAD_ENCODING_PIPELINE \\\n",
    "               else encoding_pipeline(train_df, NUMERICAL_FEATURES, CATEGORICAL_FEATURES, TARGET_VARIABLE_COL)"
   ]
  },
  {
   "cell_type": "code",
   "execution_count": 0,
   "metadata": {
    "application/vnd.databricks.v1+cell": {
     "cellMetadata": {
      "byteLimit": 2048000,
      "rowLimit": 10000
     },
     "inputWidgets": {},
     "nuid": "de190366-03b6-4c3d-8057-a9b4e3de7713",
     "showTitle": false,
     "title": ""
    }
   },
   "outputs": [
    {
     "output_type": "stream",
     "name": "stdout",
     "output_type": "stream",
     "text": [
      "dbfs:/bigdata_proj/models/historical-hourly-weather/data_encoder-20240304-223406\n"
     ]
    }
   ],
   "source": [
    "# Check if SAVE_COMPUTATIONS is True and LOAD_ENCODING_PIPELINE is False\n",
    "if SAVE_COMPUTATIONS and not LOAD_ENCODING_PIPELINE:\n",
    "    # Save the data_encoder model to the ENCODING_PIPELINE_PATH\n",
    "    save_pyspark_model(data_encoder, ENCODING_PIPELINE_PATH)"
   ]
  },
  {
   "cell_type": "markdown",
   "metadata": {
    "application/vnd.databricks.v1+cell": {
     "cellMetadata": {},
     "inputWidgets": {},
     "nuid": "b5d69669-7a7c-451c-947c-3f01206e70d7",
     "showTitle": false,
     "title": ""
    }
   },
   "source": [
    "#### Applying the encoding pipeling to training and testing dataset"
   ]
  },
  {
   "cell_type": "code",
   "execution_count": 0,
   "metadata": {
    "application/vnd.databricks.v1+cell": {
     "cellMetadata": {
      "byteLimit": 2048000,
      "rowLimit": 10000
     },
     "inputWidgets": {},
     "nuid": "13d1b635-9134-4112-b163-348c38bbf44b",
     "showTitle": false,
     "title": ""
    }
   },
   "outputs": [],
   "source": [
    "# Apply the encoding pipeline to the training dataset and store the result in encoded_train_df\n",
    "encoded_train_df = data_encoder.transform(train_df)\n",
    "\n",
    "# Apply the encoding pipeline to the testing dataset and store the result in encoded_test_df\n",
    "encoded_test_df = data_encoder.transform(test_df)"
   ]
  },
  {
   "cell_type": "markdown",
   "metadata": {
    "application/vnd.databricks.v1+cell": {
     "cellMetadata": {},
     "inputWidgets": {},
     "nuid": "5831a141-91d3-4776-b9c2-9602fae2255f",
     "showTitle": false,
     "title": ""
    }
   },
   "source": [
    "###A simple Random Forest model\n",
    "#####Note that training a Machine Learning model could take up to several hours, so this simple Random Forest model, among with all the others in the Notebook, is going to be loaded from the filesystem"
   ]
  },
  {
   "cell_type": "markdown",
   "metadata": {
    "application/vnd.databricks.v1+cell": {
     "cellMetadata": {},
     "inputWidgets": {},
     "nuid": "a627f3c7-4eba-47d9-b5bf-a1c5001839b3",
     "showTitle": false,
     "title": ""
    }
   },
   "source": [
    "#### Training a random forest model with the encoded training data"
   ]
  },
  {
   "cell_type": "code",
   "execution_count": 0,
   "metadata": {
    "application/vnd.databricks.v1+cell": {
     "cellMetadata": {
      "byteLimit": 2048000,
      "rowLimit": 10000
     },
     "inputWidgets": {},
     "nuid": "0cbae845-949b-45e0-91a1-633a2816be48",
     "showTitle": false,
     "title": ""
    }
   },
   "outputs": [],
   "source": [
    "# Import the required libraries\n",
    "from pyspark.ml.classification import RandomForestClassifier, RandomForestClassificationModel\n",
    "\n",
    "# Train a random forest model with the encoded training data\n",
    "rnd_forest_model = RandomForestClassifier(featuresCol=FEATURES_COL, labelCol=LABEL_COL).fit(encoded_train_df)"
   ]
  },
  {
   "cell_type": "markdown",
   "metadata": {
    "application/vnd.databricks.v1+cell": {
     "cellMetadata": {},
     "inputWidgets": {},
     "nuid": "27d5752c-8a82-4781-8bd0-11310f6a30dc",
     "showTitle": false,
     "title": ""
    }
   },
   "source": [
    "#### Applying the trained random forest model to the encoded testing data"
   ]
  },
  {
   "cell_type": "code",
   "execution_count": 0,
   "metadata": {
    "application/vnd.databricks.v1+cell": {
     "cellMetadata": {
      "byteLimit": 2048000,
      "rowLimit": 10000
     },
     "inputWidgets": {},
     "nuid": "8827e586-3650-4768-ab0a-ec16242a4261",
     "showTitle": false,
     "title": ""
    }
   },
   "outputs": [],
   "source": [
    "# Apply the trained random forest model to the encoded testing data\n",
    "rnd_forest_predictions = rnd_forest_model.transform(encoded_test_df)"
   ]
  },
  {
   "cell_type": "markdown",
   "metadata": {
    "application/vnd.databricks.v1+cell": {
     "cellMetadata": {},
     "inputWidgets": {},
     "nuid": "8c48c3dd-5e4e-40a0-91e9-796e36637c3b",
     "showTitle": false,
     "title": ""
    }
   },
   "source": [
    "#### Creating an IndexToString transformer to convert index predictions to their corresponding string labels"
   ]
  },
  {
   "cell_type": "code",
   "execution_count": 0,
   "metadata": {
    "application/vnd.databricks.v1+cell": {
     "cellMetadata": {
      "byteLimit": 2048000,
      "rowLimit": 10000
     },
     "inputWidgets": {},
     "nuid": "d8dedb2a-62dd-4f8e-954b-0b4e23baa813",
     "showTitle": false,
     "title": ""
    }
   },
   "outputs": [],
   "source": [
    "# Import the required libraries\n",
    "from pyspark.ml.feature import IndexToString\n",
    "\n",
    "# Create an IndexToString transformer to convert index predictions to their corresponding string labels\n",
    "predictions_idx_to_str = IndexToString(inputCol=PREDICTION_COL,\n",
    "                                       outputCol=PREDICTED_TARGET_VARIABLE_COL,\n",
    "                                       labels=data_encoder.stages[0].labels)"
   ]
  },
  {
   "cell_type": "code",
   "execution_count": 0,
   "metadata": {
    "application/vnd.databricks.v1+cell": {
     "cellMetadata": {
      "byteLimit": 2048000,
      "rowLimit": 10000
     },
     "inputWidgets": {},
     "nuid": "71681d58-ec98-42b7-902e-df0a4751aa6a",
     "showTitle": false,
     "title": ""
    }
   },
   "outputs": [],
   "source": [
    "# Apply the IndexToString transformer to convert the indexed predictions to their corresponding string labels\n",
    "rnd_forest_predictions = predictions_idx_to_str.transform(rnd_forest_predictions)"
   ]
  },
  {
   "cell_type": "markdown",
   "metadata": {
    "application/vnd.databricks.v1+cell": {
     "cellMetadata": {},
     "inputWidgets": {},
     "nuid": "ad570b7e-857c-44a2-9216-334d25f5f9bc",
     "showTitle": false,
     "title": ""
    }
   },
   "source": [
    "#### Evaluating the predictions \n",
    "Evaluating the predictions made by a model by computing and printing metrics such as accuracy, precision, recall, and F1-score\n"
   ]
  },
  {
   "cell_type": "code",
   "execution_count": 0,
   "metadata": {
    "application/vnd.databricks.v1+cell": {
     "cellMetadata": {
      "byteLimit": 2048000,
      "rowLimit": 10000
     },
     "inputWidgets": {},
     "nuid": "2886c0df-582f-4dac-b8bf-64bc9ccb23e3",
     "showTitle": false,
     "title": ""
    }
   },
   "outputs": [],
   "source": [
    "def eval_predictions(predictions: DataFrame) -> None:\n",
    "    '''\n",
    "    Evaluates the predictions made by a model by computing and printing metrics such as accuracy, precision, recall, and F1-score\n",
    "    \n",
    "    Args:\n",
    "        predictions: a DataFrame that has at least a `LABEL_COL` and a `PREDICTION_COL`\n",
    "    '''\n",
    "    # Import the required libraries\n",
    "    from sklearn.metrics import precision_score, recall_score, accuracy_score\n",
    "\n",
    "    # Convert the labels and predictions columns from Spark DataFrame to NumPy arrays using Koalas\n",
    "    labels = predictions.select(LABEL_COL).to_koalas().to_numpy()\n",
    "    predictions = predictions.select(PREDICTION_COL).to_koalas().to_numpy()\n",
    "\n",
    "    # Compute the precision, recall, F1-score, and accuracy\n",
    "    precision = precision_score(labels, predictions, average='macro')\n",
    "    recall = recall_score(labels, predictions, average='macro')\n",
    "    f1_score = 2 * precision * recall / (precision + recall)\n",
    "    accuracy = accuracy_score(labels, predictions)    \n",
    "\n",
    "    # Print the metrics\n",
    "    print(f'Accuracy: {accuracy}')\n",
    "    print(f'Precision: {precision}')\n",
    "    print(f'Recall: {recall}')\n",
    "    print(f'F1-score: {f1_score}')\n",
    "    return accuracy, precision,recall,f1_score"
   ]
  },
  {
   "cell_type": "markdown",
   "metadata": {
    "application/vnd.databricks.v1+cell": {
     "cellMetadata": {},
     "inputWidgets": {},
     "nuid": "1f3a65fb-408c-42bf-a921-d151d55cac68",
     "showTitle": false,
     "title": ""
    }
   },
   "source": [
    "#### Actually calling the above method"
   ]
  },
  {
   "cell_type": "code",
   "execution_count": 0,
   "metadata": {
    "application/vnd.databricks.v1+cell": {
     "cellMetadata": {
      "byteLimit": 2048000,
      "rowLimit": 10000
     },
     "inputWidgets": {},
     "nuid": "46a77ea7-2c2f-457b-be21-eb1c69c80842",
     "showTitle": false,
     "title": ""
    }
   },
   "outputs": [
    {
     "output_type": "stream",
     "name": "stdout",
     "output_type": "stream",
     "text": [
      "Accuracy: 0.6072138596989491\nPrecision: 0.5883268664078302\nRecall: 0.6077078120491228\nF1-score: 0.5978603115683608\n"
     ]
    }
   ],
   "source": [
    "# Call the eval_predictions function and pass rnd_forest_predictions as an argument\n",
    "rnd_accuracy, rnd_precision,rnd_recall,rnd_f1_score = eval_predictions(rnd_forest_predictions)"
   ]
  },
  {
   "cell_type": "markdown",
   "metadata": {
    "application/vnd.databricks.v1+cell": {
     "cellMetadata": {},
     "inputWidgets": {},
     "nuid": "51747d51-2d3e-4d9a-89eb-c30bca8b16cf",
     "showTitle": false,
     "title": ""
    }
   },
   "source": [
    "#### Plotting a confusion matrix\n",
    "Creates a Visual Confusion Matrix:  It takes predictions and true values, then generates a color-coded grid. This grid helps you see how well your machine learning model is classifying different categories.\n",
    "\n",
    "Calculates the Confusion Matrix: It figures out how often your model predicts each category correctly and where it makes mistakes  (true vs. predicted).\n",
    "\n",
    "Makes it Readable: Adds labels, adjusts colors, and optionally normalizes the values to make the confusion matrix easier to understand."
   ]
  },
  {
   "cell_type": "code",
   "execution_count": 0,
   "metadata": {
    "application/vnd.databricks.v1+cell": {
     "cellMetadata": {
      "byteLimit": 2048000,
      "rowLimit": 10000
     },
     "inputWidgets": {},
     "nuid": "a5e49b8f-9150-4220-932e-536c5d23acd3",
     "showTitle": false,
     "title": ""
    }
   },
   "outputs": [],
   "source": [
    "import matplotlib.pyplot as plt\n",
    "import numpy as np\n",
    "\n",
    "def plot_confusion_matrix(predictions_df: DataFrame,\n",
    "                          normalize: bool = False,\n",
    "                          title: str = None):\n",
    "    '''\n",
    "    Plots a Confusion Matrix computed on the given DataFrame\n",
    "    \n",
    "    Args:\n",
    "        - predictions_df: a DataFrame that has at least a TARGET_VARIABLE_COL and a PREDICTED_TARGET_VARIABLE_COL\n",
    "        - normalize: True to normalize the values in the Confusion Matrix, False otherwise\n",
    "        - title: optional title to append on top of the plotted Confusion Matrix\n",
    "    '''\n",
    "    \n",
    "    # Import required libraries\n",
    "    from sklearn.metrics import confusion_matrix\n",
    "    from sklearn.utils.multiclass import unique_labels\n",
    "    \n",
    "    # Convert the labels and predictions columns from Spark DataFrame to NumPy arrays using Koalas\n",
    "    labels = predictions_df.select(TARGET_VARIABLE_COL).to_koalas().to_numpy()\n",
    "    predictions = predictions_df.select(PREDICTED_TARGET_VARIABLE_COL).to_koalas().to_numpy()\n",
    "\n",
    "    # Set the title if not provided\n",
    "    if not title:\n",
    "        if normalize:\n",
    "            title = 'Normalized confusion matrix'\n",
    "        else:\n",
    "            title = 'Confusion matrix, without normalization'\n",
    "\n",
    "    # Compute the confusion matrix\n",
    "    cm = confusion_matrix(labels, predictions, labels=None)\n",
    "    \n",
    "    # Only use the labels that appear in the data\n",
    "    classes = unique_labels(labels, predictions)\n",
    "\n",
    "    # Normalize the confusion matrix if required\n",
    "    if normalize:\n",
    "        cm = cm.astype('float') / cm.sum(axis=1)[:, np.newaxis]\n",
    "\n",
    "    # Create the plot\n",
    "    fig, ax = plt.subplots()\n",
    "    im = ax.imshow(cm, interpolation='nearest', cmap=plt.cm.Blues)\n",
    "    ax.figure.colorbar(im, ax=ax)\n",
    "    \n",
    "    # Set the tick labels and axis labels\n",
    "    ax.set(xticks=np.arange(cm.shape[1]), yticks=np.arange(cm.shape[0]),\n",
    "           xticklabels=classes, yticklabels=classes,           \n",
    "           xlabel='Predicted label', ylabel='True label',\n",
    "           title=title)\n",
    "\n",
    "    # Set the y-axis limits\n",
    "    ax.set_ylim(len(classes) - 0.5, -0.5)\n",
    "\n",
    "    # Rotate the tick labels and set their alignment\n",
    "    plt.setp(ax.get_xticklabels(), rotation=45, ha='right', rotation_mode='anchor')\n",
    "\n",
    "    # Loop over data dimensions and create text annotations\n",
    "    fmt = '.2f' if normalize else 'd'\n",
    "    thresh = cm.max() / 2.\n",
    "    for i in range(cm.shape[0]):\n",
    "        for j in range(cm.shape[1]):\n",
    "            # Add the text annotations\n",
    "            ax.text(j, i, format(cm[i, j], fmt), ha='center', va='center',\n",
    "                    color='white' if cm[i, j] > thresh else 'black')\n",
    "\n",
    "    # Adjust layout and display the plot\n",
    "    fig.tight_layout()\n",
    "    plt.show()"
   ]
  },
  {
   "cell_type": "code",
   "execution_count": 0,
   "metadata": {
    "application/vnd.databricks.v1+cell": {
     "cellMetadata": {
      "byteLimit": 2048000,
      "rowLimit": 10000
     },
     "inputWidgets": {},
     "nuid": "8ba96fff-01f1-49ea-b29d-4970f404fd2c",
     "showTitle": false,
     "title": ""
    }
   },
   "outputs": [
    {
     "output_type": "display_data",
     "data": {
      "image/png": "[encoded data removed]",
      "text/plain": [
       "<Figure size 640x480 with 2 Axes>"
      ]
     },
     "metadata": {},
     "output_type": "display_data"
    }
   ],
   "source": [
    "# Call the plot_confusion_matrix function and pass rnd_forest_predictions as an argument, with normalization enabled\n",
    "plot_confusion_matrix(rnd_forest_predictions, normalize=True)"
   ]
  },
  {
   "cell_type": "code",
   "execution_count": 0,
   "metadata": {
    "application/vnd.databricks.v1+cell": {
     "cellMetadata": {
      "byteLimit": 2048000,
      "rowLimit": 10000
     },
     "inputWidgets": {},
     "nuid": "b00086c8-63a7-4f89-9522-5f080103ad7e",
     "showTitle": false,
     "title": ""
    }
   },
   "outputs": [
    {
     "output_type": "stream",
     "name": "stdout",
     "output_type": "stream",
     "text": [
      "dbfs:/bigdata_proj/models/historical-hourly-weather/rnd_forest-20240304-223724\n"
     ]
    }
   ],
   "source": [
    "# Check if the flag SAVE_COMPUTATIONS is set to True and the flag LOAD_PRETRAINED_MODELS is set to False\n",
    "if SAVE_COMPUTATIONS and not LOAD_PRETRAINED_MODELS:\n",
    "    # Save the RandomForest model to the specified path\n",
    "    save_pyspark_model(rnd_forest_model, RANDOM_FOREST_MODEL_PATH)"
   ]
  },
  {
   "cell_type": "markdown",
   "metadata": {
    "application/vnd.databricks.v1+cell": {
     "cellMetadata": {
      "byteLimit": 2048000,
      "rowLimit": 10000
     },
     "inputWidgets": {},
     "nuid": "e450d2a8-1252-4390-8981-dd6d94b191d5",
     "showTitle": false,
     "title": ""
    }
   },
   "source": [
    "## Hyperparameter Tuning\n",
    "\n",
    "In this section, we construct a pipeline that encapsulates all the steps performed thus far:\n",
    "\n",
    "- The data encoding pipeline defined previously.\n",
    "- An instance of a Machine Learning model.\n",
    "- An IndexToString transformer that converts numerical predictions into their corresponding label versions.\n",
    "\n",
    "Additionally, we incorporate a K-Fold Cross Validation step to fine-tune certain hyperparameters and obtain a more accurate estimate of the model's generalization performance.\n",
    "\n",
    "### Random Forest Model\n",
    "\n",
    "For the Random Forest model, it has been observed that even without configuring any hyperparameters, satisfactory results can still be achieved in predicting certain classes.\n",
    "\n",
    "Let's explore whether tuning the max depth of the trees (`maxDepth`) and the number of trees (`numTrees`) can lead to improved overall performance.\n"
   ]
  },
  {
   "cell_type": "markdown",
   "metadata": {
    "application/vnd.databricks.v1+cell": {
     "cellMetadata": {},
     "inputWidgets": {},
     "nuid": "80e48a0d-d92e-411e-8b98-504711a72ed7",
     "showTitle": false,
     "title": ""
    }
   },
   "source": [
    "- The code prepares the data by converting text-like features (e.g., \"cloudy\") into numbers and adjusting numerical features to improve the model's performance.\n",
    "- It builds a Random Forest Classifier, a machine learning model that uses a collection of decision trees to make predictions.\n",
    "- It searches for the best settings (like the number of trees and their depth) for the Random Forest model using a technique called cross-validation.\n",
    "- It sets up a system to measure how accurate the model is in its predictions.\n"
   ]
  },
  {
   "cell_type": "code",
   "execution_count": 0,
   "metadata": {
    "application/vnd.databricks.v1+cell": {
     "cellMetadata": {
      "byteLimit": 2048000,
      "rowLimit": 10000
     },
     "inputWidgets": {},
     "nuid": "07c485be-c1d8-42b5-a117-0001401bc823",
     "showTitle": false,
     "title": ""
    }
   },
   "outputs": [],
   "source": [
    "def random_forest_pipeline(dataframe: DataFrame,\n",
    "                           numerical_features: List[str],\n",
    "                           categorical_features: List[str],\n",
    "                           target_variable: str,\n",
    "                           features_col: str,\n",
    "                           with_std: bool = True,\n",
    "                           with_mean: bool = False,\n",
    "                           k_fold: int = 5) -> CrossValidatorModel:\n",
    "  \n",
    "    # Import necessary libraries\n",
    "    from pyspark.ml.classification import RandomForestClassifier\n",
    "    from pyspark.ml.tuning import CrossValidator, ParamGridBuilder\n",
    "    from pyspark.ml.evaluation import MulticlassClassificationEvaluator\n",
    "    from pyspark.ml.feature import IndexToString\n",
    "    from pyspark.ml import Pipeline\n",
    "\n",
    "    # Perform feature encoding using the encoding_pipeline function\n",
    "    data_encoder = encoding_pipeline(dataframe,\n",
    "                                     numerical_features,\n",
    "                                     categorical_features,\n",
    "                                     target_variable,\n",
    "                                     with_std,\n",
    "                                     with_mean)\n",
    "  \n",
    "    # Create a RandomForestClassifier object\n",
    "    classifier = RandomForestClassifier(featuresCol=features_col, labelCol=LABEL_COL)\n",
    "\n",
    "    # Create an IndexToString transformer to convert prediction indices to string labels\n",
    "    predictions_idx_to_str = IndexToString(inputCol=PREDICTION_COL,\n",
    "                                           outputCol=PREDICTED_TARGET_VARIABLE_COL,\n",
    "                                           labels=data_encoder.stages[0].labels)\n",
    "\n",
    "    # Define the stages of the pipeline\n",
    "    stages = [data_encoder, classifier, predictions_idx_to_str]\n",
    "\n",
    "    # Create a pipeline with the defined stages\n",
    "    pipeline = Pipeline(stages=stages)\n",
    "\n",
    "    # Construct a grid of parameters to search over using a ParamGridBuilder\n",
    "    param_grid = ParamGridBuilder() \\\n",
    "        .addGrid(classifier.maxDepth, [3, 5, 8]) \\\n",
    "        .addGrid(classifier.numTrees, [10, 50, 100]) \\\n",
    "        .build()\n",
    "\n",
    "    # Create a MulticlassClassificationEvaluator for evaluating model performance\n",
    "    evaluator = MulticlassClassificationEvaluator(labelCol=LABEL_COL,\n",
    "                                                  predictionCol=PREDICTION_COL,\n",
    "                                                  metricName='accuracy')\n",
    "\n",
    "    # Create a CrossValidator for hyperparameter tuning\n",
    "    cross_val = CrossValidator(estimator=pipeline, \n",
    "                               estimatorParamMaps=param_grid,\n",
    "                               evaluator=evaluator,\n",
    "                               numFolds=k_fold,\n",
    "                               collectSubModels=True)\n",
    "\n",
    "    # Fit the CrossValidator to the data and obtain the best model\n",
    "    cv_model = cross_val.fit(dataframe)\n",
    "\n",
    "    return cv_model"
   ]
  },
  {
   "cell_type": "code",
   "execution_count": 0,
   "metadata": {
    "application/vnd.databricks.v1+cell": {
     "cellMetadata": {
      "byteLimit": 2048000,
      "rowLimit": 10000
     },
     "inputWidgets": {},
     "nuid": "fa39b489-8faa-4d5f-a3c1-42b56b664592",
     "showTitle": false,
     "title": ""
    }
   },
   "outputs": [],
   "source": [
    "# Load the pre-trained Random Forest Cross Validator model if LOAD_PRETRAINED_MODELS is True\n",
    "# Otherwise, create a new model by calling the random_forest_pipeline function with the appropriate arguments\n",
    "rnd_forest_cv_model = CrossValidatorModel.load(RANDOM_FOREST_CV_MODEL_PATH) if LOAD_PRETRAINED_MODELS \\\n",
    "                      else random_forest_pipeline(train_df,\n",
    "                                                  NUMERICAL_FEATURES,\n",
    "                                                  CATEGORICAL_FEATURES,\n",
    "                                                  TARGET_VARIABLE_COL,\n",
    "                                                  FEATURES_COL)"
   ]
  },
  {
   "cell_type": "code",
   "execution_count": 0,
   "metadata": {
    "application/vnd.databricks.v1+cell": {
     "cellMetadata": {
      "byteLimit": 2048000,
      "rowLimit": 10000
     },
     "inputWidgets": {},
     "nuid": "17bd29a6-1187-44fc-ac64-5dd1403d3ed2",
     "showTitle": false,
     "title": ""
    }
   },
   "outputs": [
    {
     "output_type": "stream",
     "name": "stdout",
     "output_type": "stream",
     "text": [
      "Best model according to k-fold cross validation:\n - numTrees=[50]\n - maxDepth=[8]\n"
     ]
    }
   ],
   "source": [
    "# Get the best model from the Random Forest Cross Validator\n",
    "rnd_forest_cv_model_obj = rnd_forest_cv_model.bestModel.stages[-2]._java_obj\n",
    "\n",
    "# Print the parameters of the best model\n",
    "print('Best model according to k-fold cross validation:')\n",
    "print(f' - numTrees=[{rnd_forest_cv_model_obj.getNumTrees()}]')\n",
    "print(f' - maxDepth=[{rnd_forest_cv_model_obj.getMaxDepth()}]')"
   ]
  },
  {
   "cell_type": "code",
   "execution_count": 0,
   "metadata": {
    "application/vnd.databricks.v1+cell": {
     "cellMetadata": {
      "byteLimit": 2048000,
      "rowLimit": 10000
     },
     "inputWidgets": {},
     "nuid": "f4729786-6866-4491-82e2-5a5c3011a080",
     "showTitle": false,
     "title": ""
    }
   },
   "outputs": [
    {
     "output_type": "stream",
     "name": "stdout",
     "output_type": "stream",
     "text": [
      "dbfs:/bigdata_proj/models/historical-hourly-weather/rnd_forest_cv-20240304-225204\n"
     ]
    }
   ],
   "source": [
    "# Check if SAVE_COMPUTATIONS is True and LOAD_PRETRAINED_MODELS is False\n",
    "if SAVE_COMPUTATIONS and not LOAD_PRETRAINED_MODELS:\n",
    "    # Save the Random Forest Cross Validator model\n",
    "    save_pyspark_model(rnd_forest_cv_model, RANDOM_FOREST_CV_MODEL_PATH)"
   ]
  },
  {
   "cell_type": "code",
   "execution_count": 0,
   "metadata": {
    "application/vnd.databricks.v1+cell": {
     "cellMetadata": {
      "byteLimit": 2048000,
      "rowLimit": 10000
     },
     "inputWidgets": {},
     "nuid": "090de313-c7e6-4f7e-af35-72c53358eef6",
     "showTitle": false,
     "title": ""
    }
   },
   "outputs": [],
   "source": [
    "# Use the Random Forest Cross Validator model to make predictions on the test dataset\n",
    "rnd_forest_cv_predictions = rnd_forest_cv_model.transform(test_df)"
   ]
  },
  {
   "cell_type": "markdown",
   "metadata": {
    "application/vnd.databricks.v1+cell": {
     "cellMetadata": {},
     "inputWidgets": {},
     "nuid": "9450845e-176f-4a9d-95e1-0785005d794d",
     "showTitle": false,
     "title": ""
    }
   },
   "source": [
    "#### Evaluating Predictions"
   ]
  },
  {
   "cell_type": "code",
   "execution_count": 0,
   "metadata": {
    "application/vnd.databricks.v1+cell": {
     "cellMetadata": {
      "byteLimit": 2048000,
      "rowLimit": 10000
     },
     "inputWidgets": {},
     "nuid": "bd7737a4-9606-4e63-a141-fbc461170380",
     "showTitle": false,
     "title": ""
    }
   },
   "outputs": [
    {
     "output_type": "stream",
     "name": "stdout",
     "output_type": "stream",
     "text": [
      "Accuracy: 0.6285714285714286\nPrecision: 0.6156062688854103\nRecall: 0.6289670900370682\nF1-score: 0.6222149635030891\n"
     ]
    }
   ],
   "source": [
    "# Evaluate the predictions from the Random Forest Cross Validation model\n",
    "rnd_cv_accuracy, rnd_cv_precision,rnd_cv_recall,rnd_cv_f1_score=eval_predictions(rnd_forest_cv_predictions)"
   ]
  },
  {
   "cell_type": "code",
   "execution_count": 0,
   "metadata": {
    "application/vnd.databricks.v1+cell": {
     "cellMetadata": {
      "byteLimit": 2048000,
      "rowLimit": 10000
     },
     "inputWidgets": {},
     "nuid": "06517ad1-88bb-414e-9aaa-05778e0b4893",
     "showTitle": false,
     "title": ""
    }
   },
   "outputs": [
    {
     "output_type": "display_data",
     "data": {
      "image/png": "[encoded data removed]",
      "text/plain": [
       "<Figure size 640x480 with 2 Axes>"
      ]
     },
     "metadata": {},
     "output_type": "display_data"
    }
   ],
   "source": [
    "# Plot the confusion matrix for the random forest cross-validation predictions\n",
    "# Set the normalize parameter to True to normalize the values in the confusion matrix\n",
    "plot_confusion_matrix(rnd_forest_cv_predictions, normalize=True)"
   ]
  },
  {
   "cell_type": "markdown",
   "metadata": {
    "application/vnd.databricks.v1+cell": {
     "cellMetadata": {},
     "inputWidgets": {},
     "nuid": "74f10aea-4555-4462-ad9a-9519268167a3",
     "showTitle": false,
     "title": ""
    }
   },
   "source": [
    "#### Logistic Regression\n",
    "- The code gets the data ready for the machine learning model.  It converts text-based features into numbers and scales numerical features for better performance.\n",
    "- The code builds a Logistic Regression classifier. This model is used to predict a category (like whether it will rain or not) based on the given data\n",
    "-  It uses cross-validation to find the best settings (hyperparameters) for the Logistic Regression model. This means trying different combinations of settings to find the ones that make the most accurate predictions.\n",
    "- It sets up a way to measure the accuracy of the model's predictions.\n",
    "- It prepares to convert the model's output (which will be in numerical form) back into the original labels for easier understanding."
   ]
  },
  {
   "cell_type": "code",
   "execution_count": 0,
   "metadata": {
    "application/vnd.databricks.v1+cell": {
     "cellMetadata": {
      "byteLimit": 2048000,
      "rowLimit": 10000
     },
     "inputWidgets": {},
     "nuid": "eddea636-40e9-4ec9-9158-cdcc107b8db1",
     "showTitle": false,
     "title": ""
    }
   },
   "outputs": [],
   "source": [
    "def logistic_regression_pipeline(dataframe: DataFrame,\n",
    "                                 numerical_features: List[str],\n",
    "                                 categorical_features: List[str],\n",
    "                                 target_variable: str,\n",
    "                                 features_col: str,\n",
    "                                 with_std: bool = True,\n",
    "                                 with_mean: bool = False,\n",
    "                                 k_fold: int = 5) -> CrossValidatorModel:\n",
    "\n",
    "    # Import necessary libraries\n",
    "    from pyspark.ml.classification import LogisticRegression\n",
    "    from pyspark.ml.tuning import CrossValidator, ParamGridBuilder\n",
    "    from pyspark.ml.evaluation import MulticlassClassificationEvaluator\n",
    "    from pyspark.ml.feature import IndexToString\n",
    "    from pyspark.ml import Pipeline\n",
    "\n",
    "    # Perform encoding pipeline\n",
    "    data_encoder = encoding_pipeline(dataframe,\n",
    "                                     numerical_features,\n",
    "                                     categorical_features,\n",
    "                                     target_variable,\n",
    "                                     with_std,\n",
    "                                     with_mean)\n",
    "\n",
    "    # Configure the logistic regression classifier\n",
    "    classifier = LogisticRegression(featuresCol=features_col, labelCol=LABEL_COL)\n",
    "\n",
    "    # Convert predicted indexes to target variable labels\n",
    "    predictions_idx_to_str = IndexToString(inputCol=PREDICTION_COL,\n",
    "                                           outputCol=PREDICTED_TARGET_VARIABLE_COL,\n",
    "                                           labels=data_encoder.stages[0].labels)\n",
    "\n",
    "    # Set the stages for the pipeline\n",
    "    stages = [data_encoder, classifier, predictions_idx_to_str]\n",
    "\n",
    "    # Create the pipeline\n",
    "    pipeline = Pipeline(stages=stages)\n",
    "\n",
    "    # Construct the parameter grid for the cross validation\n",
    "    param_grid = ParamGridBuilder() \\\n",
    "        .addGrid(classifier.maxIter, [10, 100, 1000]) \\\n",
    "        .addGrid(classifier.regParam, [0.0, 0.05, 0.1]) \\\n",
    "        .addGrid(classifier.elasticNetParam, [0.0, 0.5, 1.0]) \\\n",
    "        .build()\n",
    "\n",
    "    # Set the evaluator for the cross validation\n",
    "    evaluator = MulticlassClassificationEvaluator(labelCol=LABEL_COL,\n",
    "                                                  predictionCol=PREDICTION_COL,\n",
    "                                                  metricName='accuracy')\n",
    "\n",
    "    # Create the cross validator\n",
    "    cross_val = CrossValidator(estimator=pipeline,\n",
    "                               estimatorParamMaps=param_grid,\n",
    "                               evaluator=evaluator,\n",
    "                               numFolds=k_fold,\n",
    "                               collectSubModels=True)\n",
    "\n",
    "    # Fit the cross validator to the data\n",
    "    cv_model = cross_val.fit(dataframe)\n",
    "\n",
    "    return cv_model"
   ]
  },
  {
   "cell_type": "code",
   "execution_count": 0,
   "metadata": {
    "application/vnd.databricks.v1+cell": {
     "cellMetadata": {
      "byteLimit": 2048000,
      "rowLimit": 10000
     },
     "inputWidgets": {},
     "nuid": "3fd71d09-d1fa-4e68-a35f-49585e7d5d2f",
     "showTitle": false,
     "title": ""
    }
   },
   "outputs": [],
   "source": [
    "# Load the logistic regression cross-validation model if LOAD_PRETRAINED_MODELS is True\n",
    "# Otherwise, train the model using logistic_regression_pipeline function\n",
    "log_reg_cv_model = CrossValidatorModel.load(LOGISTIC_REGRESSION_CROSS_VALIDATION_MODEL_PATH) if LOAD_PRETRAINED_MODELS \\\n",
    "                   else logistic_regression_pipeline(train_df,\n",
    "                                                     NUMERICAL_FEATURES,\n",
    "                                                     CATEGORICAL_FEATURES,\n",
    "                                                     TARGET_VARIABLE_COL,\n",
    "                                                     FEATURES_COL)"
   ]
  },
  {
   "cell_type": "code",
   "execution_count": 0,
   "metadata": {
    "application/vnd.databricks.v1+cell": {
     "cellMetadata": {
      "byteLimit": 2048000,
      "rowLimit": 10000
     },
     "inputWidgets": {},
     "nuid": "8abf9c91-016f-4367-87b7-076da88e6485",
     "showTitle": false,
     "title": ""
    }
   },
   "outputs": [
    {
     "output_type": "stream",
     "name": "stdout",
     "output_type": "stream",
     "text": [
      "Best model according to k-fold cross validation:\n - regParam=[0.0]\n - elasticNetParam=[0.0]\n - maxIter=[100]\n"
     ]
    }
   ],
   "source": [
    "# Retrieve the best model from the cross validation model\n",
    "log_reg_cv_best_model_obj = log_reg_cv_model.bestModel.stages[-2]._java_obj\n",
    "\n",
    "# Print the hyperparameters of the best model\n",
    "print('Best model according to k-fold cross validation:')\n",
    "print(f' - regParam=[{log_reg_cv_best_model_obj.getRegParam()}]')\n",
    "print(f' - elasticNetParam=[{log_reg_cv_best_model_obj.getElasticNetParam()}]')\n",
    "print(f' - maxIter=[{log_reg_cv_best_model_obj.getMaxIter()}]')"
   ]
  },
  {
   "cell_type": "code",
   "execution_count": 0,
   "metadata": {
    "application/vnd.databricks.v1+cell": {
     "cellMetadata": {
      "byteLimit": 2048000,
      "rowLimit": 10000
     },
     "inputWidgets": {},
     "nuid": "801e0158-1ac2-4cfd-8b48-2434f01e1bbd",
     "showTitle": false,
     "title": ""
    }
   },
   "outputs": [
    {
     "output_type": "stream",
     "name": "stdout",
     "output_type": "stream",
     "text": [
      "dbfs:/bigdata_proj/models/historical-hourly-weather/log_reg_cv-20240304-231845\n"
     ]
    }
   ],
   "source": [
    "# Save the logistic regression cross-validation model if SAVE_COMPUTATIONS is True and LOAD_PRETRAINED_MODELS is False\n",
    "if SAVE_COMPUTATIONS and not LOAD_PRETRAINED_MODELS:\n",
    "    save_pyspark_model(log_reg_cv_model, LOGISTIC_REGRESSION_CV_MODEL_PATH)"
   ]
  },
  {
   "cell_type": "code",
   "execution_count": 0,
   "metadata": {
    "application/vnd.databricks.v1+cell": {
     "cellMetadata": {
      "byteLimit": 2048000,
      "rowLimit": 10000
     },
     "inputWidgets": {},
     "nuid": "5076f36d-5520-4f60-b757-ae0ce3a3c599",
     "showTitle": false,
     "title": ""
    }
   },
   "outputs": [],
   "source": [
    "# Use the logistic regression cross-validation model to make predictions on the test set\n",
    "log_reg_cv_predictions = log_reg_cv_model.transform(test_df)"
   ]
  },
  {
   "cell_type": "code",
   "execution_count": 0,
   "metadata": {
    "application/vnd.databricks.v1+cell": {
     "cellMetadata": {
      "byteLimit": 2048000,
      "rowLimit": 10000
     },
     "inputWidgets": {},
     "nuid": "dbfc6326-668e-43d8-aacc-80266d12e207",
     "showTitle": false,
     "title": ""
    }
   },
   "outputs": [
    {
     "output_type": "stream",
     "name": "stdout",
     "output_type": "stream",
     "text": [
      "Accuracy: 0.5908548707753479\nPrecision: 0.5693179847445088\nRecall: 0.5914257875218797\nF1-score: 0.5801613508904814\n"
     ]
    }
   ],
   "source": [
    "# Evaluate the predictions from logistic regression cross-validation model\n",
    "log_reg_cv_accuracy, log_reg_cv_precision,log_reg_cv_recall,log_reg_cv_f1_score=eval_predictions(log_reg_cv_predictions)"
   ]
  },
  {
   "cell_type": "code",
   "execution_count": 0,
   "metadata": {
    "application/vnd.databricks.v1+cell": {
     "cellMetadata": {
      "byteLimit": 2048000,
      "rowLimit": 10000
     },
     "inputWidgets": {},
     "nuid": "0929b855-3ae1-4a1c-92c0-21d524e736de",
     "showTitle": false,
     "title": ""
    }
   },
   "outputs": [
    {
     "output_type": "display_data",
     "data": {
      "image/png": "[encoded data removed]",
      "text/plain": [
       "<Figure size 640x480 with 2 Axes>"
      ]
     },
     "metadata": {},
     "output_type": "display_data"
    }
   ],
   "source": [
    "# Task: Plot the confusion matrix for logistic regression cross-validation predictions\n",
    "# Parameters: \n",
    "# - log_reg_cv_predictions: The DataFrame containing the predictions made by logistic regression cross-validation model\n",
    "# - normalize=True: Normalize the values in the confusion matrix\n",
    "plot_confusion_matrix(log_reg_cv_predictions, normalize=True)"
   ]
  },
  {
   "cell_type": "markdown",
   "metadata": {
    "application/vnd.databricks.v1+cell": {
     "cellMetadata": {},
     "inputWidgets": {},
     "nuid": "09563f6b-e070-4e5d-9817-479298a9ef2f",
     "showTitle": false,
     "title": ""
    }
   },
   "source": [
    "## Comparison with OpenWeather Forecasts\n",
    "\n",
    "In the subsequent analysis, we conduct a comparison with forecasts from OpenWeather, obtained via their free APIs.\n",
    "\n",
    "It's important to note that the weather measurements values we obtain are forecasts, whereas our model is trained on real measured values. Therefore, it's highly probable that we won't achieve the same level of performance as observed on the test set.\n"
   ]
  },
  {
   "cell_type": "markdown",
   "metadata": {
    "application/vnd.databricks.v1+cell": {
     "cellMetadata": {},
     "inputWidgets": {},
     "nuid": "cff4c5e5-d421-4995-b3db-2a33979b9770",
     "showTitle": false,
     "title": ""
    }
   },
   "source": [
    "\n",
    "We retreive the 5-days weather forcases for a given city from from the API provided by open Weather, and consume it to compare our predictions with the the retreived data"
   ]
  },
  {
   "cell_type": "code",
   "execution_count": 0,
   "metadata": {
    "application/vnd.databricks.v1+cell": {
     "cellMetadata": {
      "byteLimit": 2048000,
      "rowLimit": 10000
     },
     "inputWidgets": {},
     "nuid": "72b7ba72-db47-44cc-a2fb-0af7f55d571b",
     "showTitle": false,
     "title": ""
    }
   },
   "outputs": [],
   "source": [
    "# Define the OpenWeatherMap API key\n",
    "API_KEY = '57fe401be548737b0d267e7abda86175'\n",
    "\n",
    "# Define the city names for weather forecasts\n",
    "CITY_NAMES = ['Toronto']\n",
    "\n",
    "# Define the OpenWeatherMap model to use\n",
    "openweather_model = rnd_forest_cv_model\n",
    "\n",
    "# Define the column name for OpenWeatherMap forecasts\n",
    "OPENWEATHER_FORECAST_COL = 'openweather_forecast'"
   ]
  },
  {
   "cell_type": "code",
   "execution_count": 0,
   "metadata": {
    "application/vnd.databricks.v1+cell": {
     "cellMetadata": {
      "byteLimit": 2048000,
      "rowLimit": 10000
     },
     "inputWidgets": {},
     "nuid": "c870641a-9cf7-42ec-8c76-093e0d713f9d",
     "showTitle": false,
     "title": ""
    }
   },
   "outputs": [],
   "source": [
    "# Function to retrieve 5-days weather forecasts for a given city\n",
    "def get_5_days_forecasts_df(city_name: str, api_key: str) -> DataFrame:\n",
    "    import requests\n",
    "  \n",
    "    # Create a Spark Session\n",
    "    spark = SparkSession.builder \\\n",
    "        .appName(\"WeatherForecast\") \\\n",
    "        .getOrCreate()\n",
    "  \n",
    "    # API URL for retrieving weather forecasts\n",
    "    API_URL = f'http://api.openweathermap.org/data/2.5/forecast?q={city_name}&appid={api_key}'\n",
    "\n",
    "    # Send API request and retrieve JSON response\n",
    "    res = requests.get(API_URL).json()\n",
    "\n",
    "    # Extract coordinates for the city\n",
    "    coord = res['city']['coord']\n",
    "\n",
    "    # Extract latitude and longitude\n",
    "    latitude = float(coord['lat'])\n",
    "    longitude = float(coord['lon'])\n",
    "    \n",
    "    # Initialize an empty list to store forecast rows\n",
    "    forecasts = []\n",
    "\n",
    "    # Iterate through each forecast\n",
    "    for forecast in res['list']:\n",
    "        # Extract main weather parameters\n",
    "        main = forecast['main']\n",
    "        wind = forecast['wind']\n",
    "        weather = forecast['weather']\n",
    "\n",
    "        # Extract datetime for the forecast\n",
    "        datetime = forecast['dt_txt']\n",
    "        \n",
    "        # Convert main weather parameters to float\n",
    "        temperature = float(main['temp'])\n",
    "        pressure = float(main['pressure'])\n",
    "        humidity = float(main['humidity'])\n",
    "        wind_speed = float(wind['speed'])\n",
    "        wind_direction = float(wind['deg'])\n",
    "\n",
    "        # Extract weather condition\n",
    "        weather_condition = weather[0]['main']\n",
    "        \n",
    "        # Create a row object for the forecast\n",
    "        forecast_row = Row(datetime=datetime,\n",
    "                           humidity=humidity,\n",
    "                           pressure=pressure,\n",
    "                           temperature=temperature,\n",
    "                           wind_direction=wind_direction,\n",
    "                           wind_speed=wind_speed,\n",
    "                           weather_condition=weather_condition,\n",
    "                           city=city_name,\n",
    "                           latitude=latitude,\n",
    "                           longitude=longitude)\n",
    "\n",
    "        # Append forecast row to the list\n",
    "        forecasts.append(forecast_row)\n",
    "        \n",
    "    # Create a DataFrame from the list of forecast rows\n",
    "    return spark.createDataFrame(forecasts)"
   ]
  },
  {
   "cell_type": "code",
   "execution_count": 0,
   "metadata": {
    "application/vnd.databricks.v1+cell": {
     "cellMetadata": {
      "byteLimit": 2048000,
      "rowLimit": 10000
     },
     "inputWidgets": {},
     "nuid": "af90e67b-13a9-472b-be50-f04d401bff02",
     "showTitle": false,
     "title": ""
    }
   },
   "outputs": [],
   "source": [
    "# Initialize an empty DataFrame\n",
    "openweather_forecasts_df = None\n",
    "\n",
    "# Iterate through each city name\n",
    "for city_name in CITY_NAMES:\n",
    "    # Check if the DataFrame is empty\n",
    "    if openweather_forecasts_df is None:\n",
    "        # If empty, retrieve the 5-days weather forecasts for the city\n",
    "        openweather_forecasts_df = get_5_days_forecasts_df(city_name, API_KEY)\n",
    "    else:\n",
    "        # If not empty, union the existing DataFrame with the new forecasts\n",
    "        openweather_forecasts_df = openweather_forecasts_df.union(get_5_days_forecasts_df(city_name, API_KEY))"
   ]
  },
  {
   "cell_type": "code",
   "execution_count": 0,
   "metadata": {
    "application/vnd.databricks.v1+cell": {
     "cellMetadata": {
      "byteLimit": 2048000,
      "rowLimit": 10000
     },
     "inputWidgets": {},
     "nuid": "f71f72c2-5037-4079-b329-edd95633014e",
     "showTitle": false,
     "title": ""
    }
   },
   "outputs": [],
   "source": [
    "# Collect the distinct weather conditions from the openweather_forecasts_df DataFrame\n",
    "weather_conditions = openweather_forecasts_df.select(TARGET_VARIABLE_COL).distinct().collect()\n",
    "\n",
    "# Extract the weather conditions from the collected data and create an array\n",
    "weather_conditions_array = [row[0] for row in weather_conditions]\n",
    "\n",
    "# Calculate the weather conditions aggregation dictionary using the weather_conditions_array\n",
    "weather_conditions_dict = get_weather_conditions_aggregation_dict(weather_conditions_array)"
   ]
  },
  {
   "cell_type": "code",
   "execution_count": 0,
   "metadata": {
    "application/vnd.databricks.v1+cell": {
     "cellMetadata": {
      "byteLimit": 2048000,
      "rowLimit": 10000
     },
     "inputWidgets": {},
     "nuid": "b5c457e4-d972-43cf-b6ec-d8684695c464",
     "showTitle": false,
     "title": ""
    }
   },
   "outputs": [],
   "source": [
    "# Replace the weather conditions in openweather_forecasts_df using the weather_conditions_dict\n",
    "openweather_forecasts_df = openweather_forecasts_df.replace(weather_conditions_dict)"
   ]
  },
  {
   "cell_type": "code",
   "execution_count": 0,
   "metadata": {
    "application/vnd.databricks.v1+cell": {
     "cellMetadata": {
      "byteLimit": 2048000,
      "rowLimit": 10000
     },
     "inputWidgets": {},
     "nuid": "0cc4df1e-0ad3-4f0c-b78b-6f91a83a8390",
     "showTitle": false,
     "title": ""
    }
   },
   "outputs": [],
   "source": [
    "# Filter the openweather_forecasts_df DataFrame to keep only rows where the TARGET_VARIABLE_COL is in WEATHER_CONDITIONS\n",
    "openweather_forecasts_df = openweather_forecasts_df.filter(openweather_forecasts_df[TARGET_VARIABLE_COL].isin(unique_weather_conditions))"
   ]
  },
  {
   "cell_type": "code",
   "execution_count": 0,
   "metadata": {
    "application/vnd.databricks.v1+cell": {
     "cellMetadata": {
      "byteLimit": 2048000,
      "rowLimit": 10000
     },
     "inputWidgets": {},
     "nuid": "d61e7b35-1018-4cd8-b561-06a291596493",
     "showTitle": false,
     "title": ""
    }
   },
   "outputs": [
    {
     "output_type": "execute_result",
     "data": {
      "text/html": [
       "<div>\n",
       "<style scoped>\n",
       "    .dataframe tbody tr th:only-of-type {\n",
       "        vertical-align: middle;\n",
       "    }\n",
       "\n",
       "    .dataframe tbody tr th {\n",
       "        vertical-align: top;\n",
       "    }\n",
       "\n",
       "    .dataframe thead th {\n",
       "        text-align: right;\n",
       "    }\n",
       "</style>\n",
       "<table border=\"1\" class=\"dataframe\">\n",
       "  <thead>\n",
       "    <tr style=\"text-align: right;\">\n",
       "      <th></th>\n",
       "      <th>datetime</th>\n",
       "      <th>humidity</th>\n",
       "      <th>pressure</th>\n",
       "      <th>temperature</th>\n",
       "      <th>wind_direction</th>\n",
       "      <th>wind_speed</th>\n",
       "      <th>weather_condition</th>\n",
       "      <th>city</th>\n",
       "      <th>latitude</th>\n",
       "      <th>longitude</th>\n",
       "    </tr>\n",
       "  </thead>\n",
       "  <tbody>\n",
       "    <tr>\n",
       "      <th>0</th>\n",
       "      <td>2024-04-04 00:00:00</td>\n",
       "      <td>94.0</td>\n",
       "      <td>995.0</td>\n",
       "      <td>276.43</td>\n",
       "      <td>90.0</td>\n",
       "      <td>7.19</td>\n",
       "      <td>rainy</td>\n",
       "      <td>Toronto</td>\n",
       "      <td>43.7001</td>\n",
       "      <td>-79.4163</td>\n",
       "    </tr>\n",
       "    <tr>\n",
       "      <th>1</th>\n",
       "      <td>2024-04-04 03:00:00</td>\n",
       "      <td>96.0</td>\n",
       "      <td>995.0</td>\n",
       "      <td>275.70</td>\n",
       "      <td>89.0</td>\n",
       "      <td>5.78</td>\n",
       "      <td>rainy</td>\n",
       "      <td>Toronto</td>\n",
       "      <td>43.7001</td>\n",
       "      <td>-79.4163</td>\n",
       "    </tr>\n",
       "    <tr>\n",
       "      <th>2</th>\n",
       "      <td>2024-04-04 06:00:00</td>\n",
       "      <td>97.0</td>\n",
       "      <td>994.0</td>\n",
       "      <td>275.31</td>\n",
       "      <td>123.0</td>\n",
       "      <td>4.42</td>\n",
       "      <td>rainy</td>\n",
       "      <td>Toronto</td>\n",
       "      <td>43.7001</td>\n",
       "      <td>-79.4163</td>\n",
       "    </tr>\n",
       "    <tr>\n",
       "      <th>3</th>\n",
       "      <td>2024-04-04 09:00:00</td>\n",
       "      <td>98.0</td>\n",
       "      <td>995.0</td>\n",
       "      <td>274.07</td>\n",
       "      <td>92.0</td>\n",
       "      <td>4.74</td>\n",
       "      <td>snowy</td>\n",
       "      <td>Toronto</td>\n",
       "      <td>43.7001</td>\n",
       "      <td>-79.4163</td>\n",
       "    </tr>\n",
       "    <tr>\n",
       "      <th>4</th>\n",
       "      <td>2024-04-04 12:00:00</td>\n",
       "      <td>98.0</td>\n",
       "      <td>996.0</td>\n",
       "      <td>274.21</td>\n",
       "      <td>81.0</td>\n",
       "      <td>5.55</td>\n",
       "      <td>snowy</td>\n",
       "      <td>Toronto</td>\n",
       "      <td>43.7001</td>\n",
       "      <td>-79.4163</td>\n",
       "    </tr>\n",
       "  </tbody>\n",
       "</table>\n",
       "</div>"
      ],
      "text/plain": [
       "              datetime  humidity  pressure  temperature  wind_direction  wind_speed weather_condition     city  latitude  longitude\n",
       "0  2024-04-04 00:00:00      94.0     995.0       276.43            90.0        7.19             rainy  Toronto   43.7001   -79.4163\n",
       "1  2024-04-04 03:00:00      96.0     995.0       275.70            89.0        5.78             rainy  Toronto   43.7001   -79.4163\n",
       "2  2024-04-04 06:00:00      97.0     994.0       275.31           123.0        4.42             rainy  Toronto   43.7001   -79.4163\n",
       "3  2024-04-04 09:00:00      98.0     995.0       274.07            92.0        4.74             snowy  Toronto   43.7001   -79.4163\n",
       "4  2024-04-04 12:00:00      98.0     996.0       274.21            81.0        5.55             snowy  Toronto   43.7001   -79.4163"
      ]
     },
     "execution_count": 153,
     "metadata": {},
     "output_type": "execute_result"
    }
   ],
   "source": [
    "# Convert openweather_forecasts_df to a Koalas DataFrame and display the first 5 rows\n",
    "openweather_forecasts_df.to_koalas().head(5)"
   ]
  },
  {
   "cell_type": "code",
   "execution_count": 0,
   "metadata": {
    "application/vnd.databricks.v1+cell": {
     "cellMetadata": {
      "byteLimit": 2048000,
      "rowLimit": 10000
     },
     "inputWidgets": {},
     "nuid": "08ea0ae2-c9ca-4815-bb06-3b9af2b12d95",
     "showTitle": false,
     "title": ""
    }
   },
   "outputs": [],
   "source": [
    "# Apply the trained machine learning model to make predictions on the openweather_forecasts_df dataset\n",
    "openweather_forecasts_predictions = openweather_model.transform(openweather_forecasts_df)"
   ]
  },
  {
   "cell_type": "code",
   "execution_count": 0,
   "metadata": {
    "application/vnd.databricks.v1+cell": {
     "cellMetadata": {
      "byteLimit": 2048000,
      "rowLimit": 10000
     },
     "inputWidgets": {},
     "nuid": "68953896-3f12-4c5b-b465-a07735800623",
     "showTitle": false,
     "title": ""
    }
   },
   "outputs": [
    {
     "output_type": "execute_result",
     "data": {
      "text/html": [
       "<div>\n",
       "<style scoped>\n",
       "    .dataframe tbody tr th:only-of-type {\n",
       "        vertical-align: middle;\n",
       "    }\n",
       "\n",
       "    .dataframe tbody tr th {\n",
       "        vertical-align: top;\n",
       "    }\n",
       "\n",
       "    .dataframe thead th {\n",
       "        text-align: right;\n",
       "    }\n",
       "</style>\n",
       "<table border=\"1\" class=\"dataframe\">\n",
       "  <thead>\n",
       "    <tr style=\"text-align: right;\">\n",
       "      <th></th>\n",
       "      <th>datetime</th>\n",
       "      <th>city</th>\n",
       "      <th>openweather_forecast</th>\n",
       "      <th>predicted_weather_condition</th>\n",
       "    </tr>\n",
       "  </thead>\n",
       "  <tbody>\n",
       "    <tr>\n",
       "      <th>0</th>\n",
       "      <td>2024-04-04 00:00:00</td>\n",
       "      <td>Toronto</td>\n",
       "      <td>rainy</td>\n",
       "      <td>rainy</td>\n",
       "    </tr>\n",
       "    <tr>\n",
       "      <th>1</th>\n",
       "      <td>2024-04-04 03:00:00</td>\n",
       "      <td>Toronto</td>\n",
       "      <td>rainy</td>\n",
       "      <td>rainy</td>\n",
       "    </tr>\n",
       "    <tr>\n",
       "      <th>2</th>\n",
       "      <td>2024-04-04 06:00:00</td>\n",
       "      <td>Toronto</td>\n",
       "      <td>rainy</td>\n",
       "      <td>rainy</td>\n",
       "    </tr>\n",
       "    <tr>\n",
       "      <th>3</th>\n",
       "      <td>2024-04-04 09:00:00</td>\n",
       "      <td>Toronto</td>\n",
       "      <td>snowy</td>\n",
       "      <td>snowy</td>\n",
       "    </tr>\n",
       "    <tr>\n",
       "      <th>4</th>\n",
       "      <td>2024-04-04 12:00:00</td>\n",
       "      <td>Toronto</td>\n",
       "      <td>snowy</td>\n",
       "      <td>snowy</td>\n",
       "    </tr>\n",
       "    <tr>\n",
       "      <th>5</th>\n",
       "      <td>2024-04-04 15:00:00</td>\n",
       "      <td>Toronto</td>\n",
       "      <td>snowy</td>\n",
       "      <td>snowy</td>\n",
       "    </tr>\n",
       "    <tr>\n",
       "      <th>6</th>\n",
       "      <td>2024-04-04 18:00:00</td>\n",
       "      <td>Toronto</td>\n",
       "      <td>snowy</td>\n",
       "      <td>snowy</td>\n",
       "    </tr>\n",
       "    <tr>\n",
       "      <th>7</th>\n",
       "      <td>2024-04-04 21:00:00</td>\n",
       "      <td>Toronto</td>\n",
       "      <td>snowy</td>\n",
       "      <td>snowy</td>\n",
       "    </tr>\n",
       "    <tr>\n",
       "      <th>8</th>\n",
       "      <td>2024-04-05 00:00:00</td>\n",
       "      <td>Toronto</td>\n",
       "      <td>snowy</td>\n",
       "      <td>snowy</td>\n",
       "    </tr>\n",
       "    <tr>\n",
       "      <th>9</th>\n",
       "      <td>2024-04-05 03:00:00</td>\n",
       "      <td>Toronto</td>\n",
       "      <td>snowy</td>\n",
       "      <td>snowy</td>\n",
       "    </tr>\n",
       "  </tbody>\n",
       "</table>\n",
       "</div>"
      ],
      "text/plain": [
       "              datetime     city openweather_forecast predicted_weather_condition\n",
       "0  2024-04-04 00:00:00  Toronto                rainy                       rainy\n",
       "1  2024-04-04 03:00:00  Toronto                rainy                       rainy\n",
       "2  2024-04-04 06:00:00  Toronto                rainy                       rainy\n",
       "3  2024-04-04 09:00:00  Toronto                snowy                       snowy\n",
       "4  2024-04-04 12:00:00  Toronto                snowy                       snowy\n",
       "5  2024-04-04 15:00:00  Toronto                snowy                       snowy\n",
       "6  2024-04-04 18:00:00  Toronto                snowy                       snowy\n",
       "7  2024-04-04 21:00:00  Toronto                snowy                       snowy\n",
       "8  2024-04-05 00:00:00  Toronto                snowy                       snowy\n",
       "9  2024-04-05 03:00:00  Toronto                snowy                       snowy"
      ]
     },
     "execution_count": 155,
     "metadata": {},
     "output_type": "execute_result"
    }
   ],
   "source": [
    "openweather_forecasts_predictions \\\n",
    "    .withColumn(OPENWEATHER_FORECAST_COL, col(TARGET_VARIABLE_COL)) \\\n",
    "    .select([DATETIME_C, CITY_C, OPENWEATHER_FORECAST_COL, PREDICTED_TARGET_VARIABLE_COL]) \\\n",
    "    .to_koalas().head(10)"
   ]
  },
  {
   "cell_type": "code",
   "execution_count": 0,
   "metadata": {
    "application/vnd.databricks.v1+cell": {
     "cellMetadata": {
      "byteLimit": 2048000,
      "rowLimit": 10000
     },
     "inputWidgets": {},
     "nuid": "c7465372-466e-47be-a8ce-1f7e6de8b684",
     "showTitle": false,
     "title": ""
    }
   },
   "outputs": [
    {
     "output_type": "stream",
     "name": "stderr",
     "output_type": "stream",
     "text": [
      "/root/.ipykernel/869/command-1381586767474183-166225917:39: RuntimeWarning: invalid value encountered in true_divide\n  cm = cm.astype('float') / cm.sum(axis=1)[:, np.newaxis]\n"
     ]
    },
    {
     "output_type": "display_data",
     "data": {
      "image/png": "[encoded data removed]",
      "text/plain": [
       "<Figure size 640x480 with 2 Axes>"
      ]
     },
     "metadata": {},
     "output_type": "display_data"
    }
   ],
   "source": [
    "# Plot a confusion matrix for the openweather_forecasts_predictions dataframe\n",
    "plot_confusion_matrix(openweather_forecasts_predictions, normalize=True)"
   ]
  },
  {
   "cell_type": "code",
   "execution_count": 0,
   "metadata": {
    "application/vnd.databricks.v1+cell": {
     "cellMetadata": {
      "byteLimit": 2048000,
      "rowLimit": 10000
     },
     "inputWidgets": {},
     "nuid": "259e0406-3931-4bd8-9fb8-d7516c260924",
     "showTitle": false,
     "title": ""
    }
   },
   "outputs": [
    {
     "output_type": "display_data",
     "data": {
      "image/png": "[encoded data removed]",
      "text/plain": [
       "<Figure size 640x480 with 1 Axes>"
      ]
     },
     "metadata": {},
     "output_type": "display_data"
    }
   ],
   "source": [
    "# Need to do it\n",
    "# Generate a bar plot to compare the accuracies\n",
    "import matplotlib.pyplot as plt\n",
    "\n",
    "models = ['RND', 'RND CV','LOG_REG CV']\n",
    "accuracies = [rnd_accuracy,rnd_cv_accuracy, log_reg_cv_accuracy ]\n",
    "\n",
    "plt.bar(models, accuracies)\n",
    "plt.xlabel('Model')\n",
    "plt.ylabel('Accuracy')\n",
    "plt.title('Comparison of Model Accuracies')\n",
    "plt.show()"
   ]
  },
  {
   "cell_type": "code",
   "execution_count": 0,
   "metadata": {
    "application/vnd.databricks.v1+cell": {
     "cellMetadata": {
      "byteLimit": 2048000,
      "rowLimit": 10000
     },
     "inputWidgets": {},
     "nuid": "bdd3c51f-13d1-49a1-996d-a463815a0d81",
     "showTitle": false,
     "title": ""
    }
   },
   "outputs": [
    {
     "output_type": "display_data",
     "data": {
      "image/png": "[encoded data removed]",
      "text/plain": [
       "<Figure size 640x480 with 1 Axes>"
      ]
     },
     "metadata": {},
     "output_type": "display_data"
    }
   ],
   "source": [
    "# Generate a bar plot to compare the recall\n",
    "import matplotlib.pyplot as plt\n",
    "\n",
    "models = ['RND', 'RND CV','LOG_REG CV']\n",
    "accuracies = [rnd_f1_score,rnd_cv_f1_score, log_reg_cv_f1_score ]\n",
    "\n",
    "plt.bar(models, accuracies)\n",
    "plt.xlabel('Model')\n",
    "plt.ylabel('Recall')\n",
    "plt.title('Comparison of Model F1 Score')\n",
    "plt.show()"
   ]
  }
 ],
 "metadata": {
  "application/vnd.databricks.v1+notebook": {
   "dashboards": [],
   "language": "python",
   "notebookMetadata": {
    "mostRecentlyExecutedCommandWithImplicitDF": {
     "commandId": 1381586767474102,
     "dataframes": [
      "_sqldf"
     ]
    },
    "pythonIndentUnit": 4
   },
   "notebookName": "Big Data - Project Final",
   "widgets": {}
  }
 },
 "nbformat": 4,
 "nbformat_minor": 0
}
