{
 "cells": [
  {
   "cell_type": "markdown",
   "metadata": {
    "application/vnd.databricks.v1+cell": {
     "cellMetadata": {},
     "inputWidgets": {},
     "nuid": "8f168103-cb1e-4b64-bb97-8751efbc767e",
     "showTitle": false,
     "title": ""
    }
   },
   "source": [
    "# Weather forecasting with PySpark\n",
    "## Big Data Computing final project"
   ]
  },
  {
   "cell_type": "markdown",
   "metadata": {
    "application/vnd.databricks.v1+cell": {
     "cellMetadata": {},
     "inputWidgets": {},
     "nuid": "3f9d64b0-bcaa-48c0-b8a6-05cb6147892c",
     "showTitle": false,
     "title": ""
    }
   },
   "source": [
    "###Define some global constants"
   ]
  },
  {
   "cell_type": "code",
   "execution_count": 0,
   "metadata": {
    "application/vnd.databricks.v1+cell": {
     "cellMetadata": {
      "byteLimit": 2048000,
      "rowLimit": 10000
     },
     "inputWidgets": {},
     "nuid": "94b551c2-61ce-4055-bd75-9cf63c685f05",
     "showTitle": false,
     "title": ""
    }
   },
   "outputs": [],
   "source": [
    "DATASET_PATH: str = 'dbfs:/bigdata_proj/datasets/historical-hourly-weather/'\n",
    "MODELS_PATH: str = 'dbfs:/bigdata_proj/models/historical-hourly-weather/'\n",
    "\n",
    "RANDOM_SEED: int = 42\n",
    "\n",
    "# True to save the computation of datataset preprocessing, fitted pipelines and trained models to the filesystem\n",
    "SAVE_COMPUTATIONS: bool = True\n",
    "  \n",
    "# True to load the sampled dataset from the filesystem, False to compute it from the raw one\n",
    "LOAD_SAMPLED_DATASET: bool = False\n",
    "SAMPLED_DATASET_PATH: str = f'{DATASET_PATH}aggregated_sampled_weather_measurements.csv'\n",
    "  \n",
    "# True to load the encoding pipeline from the filesystem, False to compute it from scratch\n",
    "LOAD_ECONDING_PIPELINE: bool = False\n",
    "ENCODING_PIPELINE_PATH: str = f'{MODELS_PATH}data_encoder'\n",
    "\n",
    "# True to load pretrained models from the filesystem, False to compute them from scratch\n",
    "LOAD_PRETRAINED_MODELS: bool = False\n",
    "RANDOM_FOREST_MODEL_PATH: str = f'{MODELS_PATH}rnd_forest'\n",
    "RANDOM_FOREST_CROSS_VALIDATION_MODEL_PATH: str = f'{MODELS_PATH}rnd_forest_cv'\n",
    "LOGISTIC_REGRESSION_CROSS_VALIDATION_MODEL_PATH: str = f'{MODELS_PATH}log_reg_cv'\n",
    "\n",
    "# necessary due to DataBricks community edition limits (training on a dataframe larger than this threshold causes an Internal Server Error)\n",
    "MAX_TRAIN_SIZE: int = 999_999"
   ]
  },
  {
   "cell_type": "markdown",
   "metadata": {
    "application/vnd.databricks.v1+cell": {
     "cellMetadata": {},
     "inputWidgets": {},
     "nuid": "d95064a1-afae-4596-9ce1-3f7c617b2cf8",
     "showTitle": false,
     "title": ""
    }
   },
   "source": [
    "###Import PySpark packages and other dependencies"
   ]
  },
  {
   "cell_type": "code",
   "execution_count": 0,
   "metadata": {
    "application/vnd.databricks.v1+cell": {
     "cellMetadata": {
      "byteLimit": 2048000,
      "rowLimit": 10000
     },
     "inputWidgets": {},
     "nuid": "78bd20fe-eb60-4c47-9bda-ccf358d08ffb",
     "showTitle": false,
     "title": ""
    }
   },
   "outputs": [],
   "source": [
    "import pyspark\n",
    "import numpy as np\n",
    "import matplotlib.pyplot as plt\n",
    "\n",
    "from pyspark import SparkContext, SparkConf\n",
    "from pyspark.sql import *\n",
    "from pyspark.sql.types import *\n",
    "from pyspark.sql.functions import *\n",
    "from pyspark.ml.pipeline import PipelineModel\n",
    "from pyspark.ml.tuning import CrossValidatorModel\n",
    "\n",
    "from typing import *"
   ]
  },
  {
   "cell_type": "markdown",
   "metadata": {
    "application/vnd.databricks.v1+cell": {
     "cellMetadata": {},
     "inputWidgets": {},
     "nuid": "11b2fecb-a80c-4202-83bd-185690f85764",
     "showTitle": false,
     "title": ""
    }
   },
   "source": [
    "## Dataset initialization"
   ]
  },
  {
   "cell_type": "markdown",
   "metadata": {
    "application/vnd.databricks.v1+cell": {
     "cellMetadata": {},
     "inputWidgets": {},
     "nuid": "d8935700-3499-4982-9208-e74a707e690e",
     "showTitle": false,
     "title": ""
    }
   },
   "source": [
    "### Download the dataset\n",
    "Original source: [kaggle.com/selfishgene/historical-hourly-weather-data](https://www.kaggle.com/selfishgene/historical-hourly-weather-data)"
   ]
  },
  {
   "cell_type": "code",
   "execution_count": 0,
   "metadata": {
    "application/vnd.databricks.v1+cell": {
     "cellMetadata": {
      "byteLimit": 2048000,
      "rowLimit": 10000
     },
     "inputWidgets": {},
     "nuid": "af85f425-ccd3-409a-8884-cf45053a5ab1",
     "showTitle": false,
     "title": ""
    }
   },
   "outputs": [
    {
     "output_type": "stream",
     "name": "stderr",
     "output_type": "stream",
     "text": [
      "2024-03-23 17:21:18 URL:https://raw.githubusercontent.com/SouravGanesh/BigData_DataSet/main/dataset/historical-hourly-weather-dataset.zip [12655281/12655281] -> \"/tmp/dataset.zip\" [1]\n"
     ]
    },
    {
     "output_type": "stream",
     "name": "stdout",
     "output_type": "stream",
     "text": [
      "Archive:  /tmp/dataset.zip\n   creating: /tmp/dataset/aggregated_sampled_weather_measurements.csv/\n  inflating: /tmp/dataset/aggregated_sampled_weather_measurements.csv/._committed_7616641238230246128.crc  \n  inflating: /tmp/dataset/aggregated_sampled_weather_measurements.csv/.part-00000-tid-5785058191842647654-99694b27-5637-4d82-97fd-79413e3b2b1a-5515-1-c000.csv.crc  \n  inflating: /tmp/dataset/aggregated_sampled_weather_measurements.csv/.part-00006-tid-5785058191842647654-99694b27-5637-4d82-97fd-79413e3b2b1a-5521-1-c000.csv.crc  \n  inflating: /tmp/dataset/aggregated_sampled_weather_measurements.csv/.part-00002-tid-5785058191842647654-99694b27-5637-4d82-97fd-79413e3b2b1a-5517-1-c000.csv.crc  \n  inflating: /tmp/dataset/aggregated_sampled_weather_measurements.csv/.part-00004-tid-5785058191842647654-99694b27-5637-4d82-97fd-79413e3b2b1a-5519-1-c000.csv.crc  \n  inflating: /tmp/dataset/aggregated_sampled_weather_measurements.csv/part-00003-tid-5785058191842647654-99694b27-5637-4d82-97fd-79413e3b2b1a-5518-1-c000.csv  \n  inflating: /tmp/dataset/aggregated_sampled_weather_measurements.csv/_committed_7616641238230246128  \n  inflating: /tmp/dataset/aggregated_sampled_weather_measurements.csv/_committed_vacuum6920010656788597249  \n  inflating: /tmp/dataset/aggregated_sampled_weather_measurements.csv/part-00005-tid-5785058191842647654-99694b27-5637-4d82-97fd-79413e3b2b1a-5520-1-c000.csv  \n  inflating: /tmp/dataset/aggregated_sampled_weather_measurements.csv/part-00002-tid-5785058191842647654-99694b27-5637-4d82-97fd-79413e3b2b1a-5517-1-c000.csv  \n  inflating: /tmp/dataset/aggregated_sampled_weather_measurements.csv/_started_5785058191842647654  \n  inflating: /tmp/dataset/aggregated_sampled_weather_measurements.csv/part-00001-tid-5785058191842647654-99694b27-5637-4d82-97fd-79413e3b2b1a-5516-1-c000.csv  \n  inflating: /tmp/dataset/aggregated_sampled_weather_measurements.csv/_committed_777980178201020908  \n  inflating: /tmp/dataset/aggregated_sampled_weather_measurements.csv/_committed_5785058191842647654  \n  inflating: /tmp/dataset/aggregated_sampled_weather_measurements.csv/._committed_5785058191842647654.crc  \n  inflating: /tmp/dataset/aggregated_sampled_weather_measurements.csv/.part-00001-tid-5785058191842647654-99694b27-5637-4d82-97fd-79413e3b2b1a-5516-1-c000.csv.crc  \n  inflating: /tmp/dataset/aggregated_sampled_weather_measurements.csv/.part-00003-tid-5785058191842647654-99694b27-5637-4d82-97fd-79413e3b2b1a-5518-1-c000.csv.crc  \n  inflating: /tmp/dataset/aggregated_sampled_weather_measurements.csv/part-00007-tid-5785058191842647654-99694b27-5637-4d82-97fd-79413e3b2b1a-5522-1-c000.csv  \n  inflating: /tmp/dataset/aggregated_sampled_weather_measurements.csv/part-00006-tid-5785058191842647654-99694b27-5637-4d82-97fd-79413e3b2b1a-5521-1-c000.csv  \n  inflating: /tmp/dataset/aggregated_sampled_weather_measurements.csv/._started_5785058191842647654.crc  \n  inflating: /tmp/dataset/aggregated_sampled_weather_measurements.csv/._committed_777980178201020908.crc  \n  inflating: /tmp/dataset/aggregated_sampled_weather_measurements.csv/part-00000-tid-5785058191842647654-99694b27-5637-4d82-97fd-79413e3b2b1a-5515-1-c000.csv  \n  inflating: /tmp/dataset/aggregated_sampled_weather_measurements.csv/.part-00007-tid-5785058191842647654-99694b27-5637-4d82-97fd-79413e3b2b1a-5522-1-c000.csv.crc  \n  inflating: /tmp/dataset/aggregated_sampled_weather_measurements.csv/.part-00005-tid-5785058191842647654-99694b27-5637-4d82-97fd-79413e3b2b1a-5520-1-c000.csv.crc  \n  inflating: /tmp/dataset/aggregated_sampled_weather_measurements.csv/part-00004-tid-5785058191842647654-99694b27-5637-4d82-97fd-79413e3b2b1a-5519-1-c000.csv  \n  inflating: /tmp/dataset/aggregated_sampled_weather_measurements.csv/._committed_vacuum6920010656788597249.crc  \n  inflating: /tmp/dataset/city_attributes.csv  \n  inflating: /tmp/dataset/humidity.csv  \n  inflating: /tmp/dataset/pressure.csv  \n  inflating: /tmp/dataset/temperature.csv  \n  inflating: /tmp/dataset/weather_description.csv  \n  inflating: /tmp/dataset/wind_direction.csv  \n  inflating: /tmp/dataset/wind_speed.csv  \n"
     ]
    }
   ],
   "source": [
    "%sh\n",
    "wget --no-verbose https://github.com/SouravGanesh/BigData_DataSet/raw/main/dataset/historical-hourly-weather-dataset.zip -O /tmp/dataset.zip\n",
    "unzip -u /tmp/dataset.zip -d /tmp/dataset"
   ]
  },
  {
   "cell_type": "markdown",
   "metadata": {
    "application/vnd.databricks.v1+cell": {
     "cellMetadata": {},
     "inputWidgets": {},
     "nuid": "54686efa-a033-4197-a7e0-9559fe961d48",
     "showTitle": false,
     "title": ""
    }
   },
   "source": [
    "###Move the dataset from Databricks local driver node's file system to DBFS"
   ]
  },
  {
   "cell_type": "code",
   "execution_count": 0,
   "metadata": {
    "application/vnd.databricks.v1+cell": {
     "cellMetadata": {
      "byteLimit": 2048000,
      "rowLimit": 10000
     },
     "inputWidgets": {},
     "nuid": "5cce2f5a-7a72-4e19-945d-78d45f664546",
     "showTitle": false,
     "title": ""
    }
   },
   "outputs": [],
   "source": [
    "for file in dbutils.fs.ls('file:/tmp/dataset'):\n",
    "    dbutils.fs.mv(file.path, f'{DATASET_PATH}{file.name}', recurse=True)"
   ]
  },
  {
   "cell_type": "code",
   "execution_count": 0,
   "metadata": {
    "application/vnd.databricks.v1+cell": {
     "cellMetadata": {
      "byteLimit": 2048000,
      "rowLimit": 10000
     },
     "inputWidgets": {},
     "nuid": "84a9ccdc-b123-4083-85ce-c679b186b645",
     "showTitle": false,
     "title": ""
    }
   },
   "outputs": [
    {
     "output_type": "display_data",
     "data": {
      "text/html": [
       "<style scoped>\n",
       "  .table-result-container {\n",
       "    max-height: 300px;\n",
       "    overflow: auto;\n",
       "  }\n",
       "  table, th, td {\n",
       "    border: 1px solid black;\n",
       "    border-collapse: collapse;\n",
       "  }\n",
       "  th, td {\n",
       "    padding: 5px;\n",
       "  }\n",
       "  th {\n",
       "    text-align: left;\n",
       "  }\n",
       "</style><div class='table-result-container'><table class='table-result'><thead style='background-color: white'><tr><th>path</th><th>name</th><th>size</th><th>modificationTime</th></tr></thead><tbody><tr><td>dbfs:/bigdata_proj/datasets/historical-hourly-weather/aggregated_sampled_weather_measurements.csv/</td><td>aggregated_sampled_weather_measurements.csv/</td><td>0</td><td>1710607244000</td></tr><tr><td>dbfs:/bigdata_proj/datasets/historical-hourly-weather/city_attributes.csv</td><td>city_attributes.csv</td><td>1614</td><td>1711214481000</td></tr><tr><td>dbfs:/bigdata_proj/datasets/historical-hourly-weather/humidity.csv</td><td>humidity.csv</td><td>9075077</td><td>1711214481000</td></tr><tr><td>dbfs:/bigdata_proj/datasets/historical-hourly-weather/pressure.csv</td><td>pressure.csv</td><td>12155911</td><td>1711214481000</td></tr><tr><td>dbfs:/bigdata_proj/datasets/historical-hourly-weather/temperature.csv</td><td>temperature.csv</td><td>13971171</td><td>1711214483000</td></tr><tr><td>dbfs:/bigdata_proj/datasets/historical-hourly-weather/weather_description.csv</td><td>weather_description.csv</td><td>21858089</td><td>1711214481000</td></tr><tr><td>dbfs:/bigdata_proj/datasets/historical-hourly-weather/wind_direction.csv</td><td>wind_direction.csv</td><td>10171003</td><td>1711214484000</td></tr><tr><td>dbfs:/bigdata_proj/datasets/historical-hourly-weather/wind_speed.csv</td><td>wind_speed.csv</td><td>7457531</td><td>1711214480000</td></tr></tbody></table></div>"
      ]
     },
     "metadata": {
      "application/vnd.databricks.v1+output": {
       "addedWidgets": {},
       "aggData": [],
       "aggError": "",
       "aggOverflow": false,
       "aggSchema": [],
       "aggSeriesLimitReached": false,
       "aggType": "",
       "arguments": {},
       "columnCustomDisplayInfos": {},
       "data": [
        [
         "dbfs:/bigdata_proj/datasets/historical-hourly-weather/aggregated_sampled_weather_measurements.csv/",
         "aggregated_sampled_weather_measurements.csv/",
         0,
         1710607244000
        ],
        [
         "dbfs:/bigdata_proj/datasets/historical-hourly-weather/city_attributes.csv",
         "city_attributes.csv",
         1614,
         1711214481000
        ],
        [
         "dbfs:/bigdata_proj/datasets/historical-hourly-weather/humidity.csv",
         "humidity.csv",
         9075077,
         1711214481000
        ],
        [
         "dbfs:/bigdata_proj/datasets/historical-hourly-weather/pressure.csv",
         "pressure.csv",
         12155911,
         1711214481000
        ],
        [
         "dbfs:/bigdata_proj/datasets/historical-hourly-weather/temperature.csv",
         "temperature.csv",
         13971171,
         1711214483000
        ],
        [
         "dbfs:/bigdata_proj/datasets/historical-hourly-weather/weather_description.csv",
         "weather_description.csv",
         21858089,
         1711214481000
        ],
        [
         "dbfs:/bigdata_proj/datasets/historical-hourly-weather/wind_direction.csv",
         "wind_direction.csv",
         10171003,
         1711214484000
        ],
        [
         "dbfs:/bigdata_proj/datasets/historical-hourly-weather/wind_speed.csv",
         "wind_speed.csv",
         7457531,
         1711214480000
        ]
       ],
       "datasetInfos": [],
       "dbfsResultPath": null,
       "isJsonSchema": true,
       "metadata": {
        "isDbfsCommandResult": false
       },
       "overflow": false,
       "plotOptions": {
        "customPlotOptions": {},
        "displayType": "table",
        "pivotAggregation": null,
        "pivotColumns": null,
        "xColumns": null,
        "yColumns": null
       },
       "removedWidgets": [],
       "schema": [
        {
         "metadata": "{}",
         "name": "path",
         "type": "\"string\""
        },
        {
         "metadata": "{}",
         "name": "name",
         "type": "\"string\""
        },
        {
         "metadata": "{}",
         "name": "size",
         "type": "\"long\""
        },
        {
         "metadata": "{}",
         "name": "modificationTime",
         "type": "\"long\""
        }
       ],
       "type": "table"
      }
     },
     "output_type": "display_data"
    }
   ],
   "source": [
    "%fs ls /bigdata_proj/datasets/historical-hourly-weather"
   ]
  },
  {
   "cell_type": "markdown",
   "metadata": {
    "application/vnd.databricks.v1+cell": {
     "cellMetadata": {},
     "inputWidgets": {},
     "nuid": "d2b0f8a5-d709-4dfa-b734-f4952f5452f6",
     "showTitle": false,
     "title": ""
    }
   },
   "source": [
    "###Load dataset into Spark DataFrame objects"
   ]
  },
  {
   "cell_type": "markdown",
   "metadata": {
    "application/vnd.databricks.v1+cell": {
     "cellMetadata": {},
     "inputWidgets": {},
     "nuid": "8ce1bbf6-28aa-4199-904b-ebb5d4f236c7",
     "showTitle": false,
     "title": ""
    }
   },
   "source": [
    "### Dataset shape and schema\n",
    "The raw dataset downloaded from kaggle is composed of 7 different `.csv` files:\n",
    "- `city_attributes.csv` contains geographical information about the different cities for which there are weather measurements\n",
    "- `weather_description.csv` contains the textual description of the weather conditions, where each column refers to a different city and each row refers to a specific `datetime` in which the weather condition occurred\n",
    "- Each one of the other 5 csv follows the same structure as `weather_description.csv` and contains the measurements of the following metrics: `humidity`,  `pressure`, `temperature`, `wind_direction`, `wind_speed`\n",
    "\n",
    "Except for `city_attributes.csv`, all the other files contains about **45.000** records of hourly weather measurements, that multiplied by the **36** cities results in approximately **1.500.000** records."
   ]
  },
  {
   "cell_type": "code",
   "execution_count": 0,
   "metadata": {
    "application/vnd.databricks.v1+cell": {
     "cellMetadata": {
      "byteLimit": 2048000,
      "rowLimit": 10000
     },
     "inputWidgets": {},
     "nuid": "18a1bfb4-dc11-4ab2-9f4c-2a6ad73046d9",
     "showTitle": false,
     "title": ""
    }
   },
   "outputs": [],
   "source": [
    "from pyspark.sql import SparkSession\n",
    "\n",
    "spark = SparkSession.builder.getOrCreate()\n",
    "\n",
    "# rest of your code\n",
    "weather_conditions_df = spark.read.csv(f'{DATASET_PATH}weather_description.csv', header=True, inferSchema=True)\n",
    "humidity_df = spark.read.csv(f'{DATASET_PATH}humidity.csv', header=True, inferSchema=True)\n",
    "pressure_df = spark.read.csv(f'{DATASET_PATH}pressure.csv', header=True, inferSchema=True)\n",
    "temperature_df = spark.read.csv(f'{DATASET_PATH}temperature.csv', header=True, inferSchema=True)\n",
    "city_attributes_df = spark.read.csv(f'{DATASET_PATH}city_attributes.csv', header=True, inferSchema=True)\n",
    "wind_direction_df = spark.read.csv(f'{DATASET_PATH}wind_direction.csv', header=True, inferSchema=True)\n",
    "wind_speed_df = spark.read.csv(f'{DATASET_PATH}wind_speed.csv', header=True, inferSchema=True)"
   ]
  },
  {
   "cell_type": "code",
   "execution_count": 0,
   "metadata": {
    "application/vnd.databricks.v1+cell": {
     "cellMetadata": {
      "byteLimit": 2048000,
      "rowLimit": 10000
     },
     "inputWidgets": {},
     "nuid": "1b5875bd-28ab-4b84-a4af-11f4af6a9b55",
     "showTitle": false,
     "title": ""
    }
   },
   "outputs": [],
   "source": [
    "DATETIME_COL = 'datetime'\n",
    "HUMIDITY_COL = 'humidity'\n",
    "PRESSURE_COL = 'pressure'\n",
    "TEMPERATURE_COL = 'temperature'\n",
    "WIND_DIRECTION_COL = 'wind_direction'\n",
    "WIND_SPEED_COL = 'wind_speed'\n",
    "LATITUDE_COL = 'latitude'\n",
    "LONGITUDE_COL = 'longitude'\n",
    "CITY_COL = 'city'\n",
    "COUNTRY_COL = 'country'\n",
    "WEATHER_CONDITION_COL = 'weather_condition'"
   ]
  },
  {
   "cell_type": "code",
   "execution_count": 0,
   "metadata": {
    "application/vnd.databricks.v1+cell": {
     "cellMetadata": {
      "byteLimit": 2048000,
      "rowLimit": 10000
     },
     "inputWidgets": {},
     "nuid": "f75a3a92-7975-4f28-b9e7-4e18af003e88",
     "showTitle": false,
     "title": ""
    }
   },
   "outputs": [],
   "source": [
    "from pyspark.sql import DataFrame\n",
    "from pyspark.sql.functions import col\n",
    "\n",
    "def filter_dataframe_by_city_column(dataframe: DataFrame,\n",
    "                                    city_name: str,\n",
    "                                    new_column_name: str) -> DataFrame:\n",
    "    '''\n",
    "    Args:\n",
    "        - dataframe: a `DataFrame` with a datetime column and n cities columns,\n",
    "                     where the records are the related hourly measurements\n",
    "        - city_name: city name between the ones in the dataframe\n",
    "        - new_column_name: name to replace the city name\n",
    "        \n",
    "    Returns: \n",
    "        a new `DataFrame` with:\n",
    "            - the datetime column\n",
    "            - a single column of measurements related to the `city_name`\n",
    "              and renamed as `new_column_name`\n",
    "    '''\n",
    "    return dataframe.withColumn(new_column_name, col(city_name)) \\\n",
    "                    .select([DATETIME_COL, new_column_name])"
   ]
  },
  {
   "cell_type": "code",
   "execution_count": 0,
   "metadata": {
    "application/vnd.databricks.v1+cell": {
     "cellMetadata": {
      "byteLimit": 2048000,
      "rowLimit": 10000
     },
     "inputWidgets": {},
     "nuid": "7040473b-6615-4434-853e-af0983e66a39",
     "showTitle": false,
     "title": ""
    }
   },
   "outputs": [],
   "source": [
    "def join_dataframes(dataframes: List[DataFrame], column_name: str) -> DataFrame:\n",
    "    '''\n",
    "    Args:\n",
    "        - dataframse: a list of `DataFrame` to be joined\n",
    "        - column_name: the column over which the records should be joined\n",
    "        \n",
    "    Returns:\n",
    "        a new dataframes resulting from the join of all the dataframes\n",
    "        over the `column_name` column\n",
    "    '''\n",
    "    joined_df = dataframes[0]\n",
    "\n",
    "    for dataframe in dataframes[1:]:\n",
    "        joined_df = joined_df.join(dataframe, [column_name])\n",
    "\n",
    "    return joined_df"
   ]
  },
  {
   "cell_type": "code",
   "execution_count": 0,
   "metadata": {
    "application/vnd.databricks.v1+cell": {
     "cellMetadata": {
      "byteLimit": 2048000,
      "rowLimit": 10000
     },
     "inputWidgets": {},
     "nuid": "171c8db9-779c-4fbc-8936-a3b41b38e50a",
     "showTitle": false,
     "title": ""
    }
   },
   "outputs": [],
   "source": [
    "from pyspark.sql import Row\n",
    "\n",
    "weather_measurements_df = None\n",
    "\n",
    "# Collect the rows of city_attributes_df as a list\n",
    "city_attributes_list = city_attributes_df.collect()\n",
    "\n",
    "# Iterate over the list of rows from city_attributes_df\n",
    "for row in city_attributes_list:\n",
    "    city = row.City\n",
    "    country = row.Country\n",
    "    latitude = row.Latitude\n",
    "    longitude = row.Longitude\n",
    "\n",
    "    # Compute a list of `DataFrame`, one for each type of measurement in the city\n",
    "    dataframes = [\n",
    "        filter_dataframe_by_city_column(humidity_df, city, HUMIDITY_COL),\n",
    "        filter_dataframe_by_city_column(pressure_df, city, PRESSURE_COL),\n",
    "        filter_dataframe_by_city_column(temperature_df, city, TEMPERATURE_COL),\n",
    "        filter_dataframe_by_city_column(wind_direction_df, city, WIND_DIRECTION_COL),\n",
    "        filter_dataframe_by_city_column(wind_speed_df, city, WIND_SPEED_COL),\n",
    "        filter_dataframe_by_city_column(weather_conditions_df, city, WEATHER_CONDITION_COL)\n",
    "    ]\n",
    "\n",
    "    # Compute a `DataFrame` that includes all the data about the measurements in the city\n",
    "    joined_df = join_dataframes(dataframes, DATETIME_COL) \\\n",
    "        .withColumn(CITY_COL, lit(city)) \\\n",
    "        .withColumn(COUNTRY_COL, lit(country)) \\\n",
    "        .withColumn(LATITUDE_COL, lit(latitude)) \\\n",
    "        .withColumn(LONGITUDE_COL, lit(longitude))\n",
    "\n",
    "    # Union the `DataFrame` with the ones computed in the previous iterations\n",
    "    weather_measurements_df = weather_measurements_df.union(joined_df) if weather_measurements_df is not None else joined_df"
   ]
  },
  {
   "cell_type": "code",
   "execution_count": 0,
   "metadata": {
    "application/vnd.databricks.v1+cell": {
     "cellMetadata": {
      "byteLimit": 2048000,
      "rowLimit": 10000
     },
     "inputWidgets": {},
     "nuid": "1aa1fcd6-4ce4-4c05-afe3-599ca3ac9d3a",
     "showTitle": false,
     "title": ""
    }
   },
   "outputs": [
    {
     "output_type": "stream",
     "name": "stdout",
     "output_type": "stream",
     "text": [
      "+-------------------+--------+--------+-------------+--------------+----------+-----------------+---------+-------+--------+-----------+\n|           datetime|humidity|pressure|  temperature|wind_direction|wind_speed|weather_condition|     city|country|latitude|  longitude|\n+-------------------+--------+--------+-------------+--------------+----------+-----------------+---------+-------+--------+-----------+\n|2012-10-01 12:00:00|    NULL|    NULL|         NULL|          NULL|      NULL|             NULL|Vancouver| Canada|49.24966|-123.119339|\n|2012-10-01 13:00:00|    76.0|    NULL|       284.63|           0.0|       0.0|             mist|Vancouver| Canada|49.24966|-123.119339|\n|2012-10-01 14:00:00|    76.0|    NULL| 284.62904131|           6.0|       0.0|    broken clouds|Vancouver| Canada|49.24966|-123.119339|\n|2012-10-01 15:00:00|    76.0|    NULL|284.626997923|          20.0|       0.0|    broken clouds|Vancouver| Canada|49.24966|-123.119339|\n|2012-10-01 16:00:00|    77.0|    NULL|284.624954535|          34.0|       0.0|    broken clouds|Vancouver| Canada|49.24966|-123.119339|\n+-------------------+--------+--------+-------------+--------------+----------+-----------------+---------+-------+--------+-----------+\nonly showing top 5 rows\n\n"
     ]
    }
   ],
   "source": [
    "weather_measurements_df.show(5)"
   ]
  },
  {
   "cell_type": "code",
   "execution_count": 0,
   "metadata": {
    "application/vnd.databricks.v1+cell": {
     "cellMetadata": {
      "byteLimit": 2048000,
      "rowLimit": 10000
     },
     "inputWidgets": {},
     "nuid": "a35638d4-5c78-4fc9-8a40-1323a4047ed0",
     "showTitle": false,
     "title": ""
    }
   },
   "outputs": [
    {
     "output_type": "stream",
     "name": "stdout",
     "output_type": "stream",
     "text": [
      "Missing values of column `datetime` count: 0\nMissing values of column `humidity` count: 28651\nMissing values of column `pressure` count: 16680\nMissing values of column `temperature` count: 8030\nMissing values of column `wind_direction` count: 7975\nMissing values of column `wind_speed` count: 7993\nMissing values of column `weather_condition` count: 7955\nMissing values of column `city` count: 0\nMissing values of column `country` count: 0\nMissing values of column `latitude` count: 0\nMissing values of column `longitude` count: 0\n"
     ]
    }
   ],
   "source": [
    "for c in weather_measurements_df.columns:\n",
    "        print(f'Missing values of column `{c}` count: {weather_measurements_df.where(col(c).isNull()).count()}')"
   ]
  },
  {
   "cell_type": "code",
   "execution_count": 0,
   "metadata": {
    "application/vnd.databricks.v1+cell": {
     "cellMetadata": {
      "byteLimit": 2048000,
      "rowLimit": 10000
     },
     "inputWidgets": {},
     "nuid": "714e3edd-96f9-4d43-bed3-d7b173714903",
     "showTitle": false,
     "title": ""
    }
   },
   "outputs": [
    {
     "output_type": "execute_result",
     "data": {
      "text/plain": [
       "DataFrame[datetime: timestamp, humidity: double, pressure: double, temperature: double, wind_direction: double, wind_speed: double, weather_condition: string, city: string, country: string, latitude: double, longitude: double]"
      ]
     },
     "execution_count": 15,
     "metadata": {},
     "output_type": "execute_result"
    }
   ],
   "source": [
    "not_null_weather_measurements_df = weather_measurements_df.dropna()\n",
    "not_null_weather_measurements_df.persist()"
   ]
  },
  {
   "cell_type": "code",
   "execution_count": 0,
   "metadata": {
    "application/vnd.databricks.v1+cell": {
     "cellMetadata": {
      "byteLimit": 2048000,
      "rowLimit": 10000
     },
     "inputWidgets": {},
     "nuid": "85a3f9e4-5691-4d5d-9417-8057070b727b",
     "showTitle": false,
     "title": ""
    }
   },
   "outputs": [
    {
     "output_type": "stream",
     "name": "stdout",
     "output_type": "stream",
     "text": [
      "+----------------------------+------+\n|weather_condition           |count |\n+----------------------------+------+\n|fog                         |16185 |\n|very heavy rain             |1001  |\n|proximity shower rain       |2339  |\n|few clouds                  |133685|\n|heavy shower snow           |336   |\n|light rain                  |127364|\n|light intensity drizzle     |8048  |\n|light intensity shower rain |3633  |\n|broken clouds               |167102|\n|overcast clouds             |133778|\n|light snow                  |14368 |\n|scattered clouds            |143277|\n|thunderstorm with heavy rain|396   |\n|thunderstorm with light rain|1179  |\n|heavy intensity rain        |14075 |\n|moderate rain               |43172 |\n|light intensity drizzle rain|41    |\n|sky is clear                |641577|\n|snow                        |3156  |\n|light shower snow           |998   |\n+----------------------------+------+\nonly showing top 20 rows\n\n"
     ]
    }
   ],
   "source": [
    "not_null_weather_measurements_df.groupBy(WEATHER_CONDITION_COL).count().show(truncate=False)"
   ]
  },
  {
   "cell_type": "code",
   "execution_count": 0,
   "metadata": {
    "application/vnd.databricks.v1+cell": {
     "cellMetadata": {
      "byteLimit": 2048000,
      "rowLimit": 10000
     },
     "inputWidgets": {},
     "nuid": "23c36250-c44a-4c0e-b1c1-d3dabd66a09b",
     "showTitle": false,
     "title": ""
    }
   },
   "outputs": [],
   "source": [
    "def get_weather_conditions_aggregation_dict(weather_conditions: Iterable[str]) -> Dict[str, str]:\n",
    "    '''\n",
    "    Args:\n",
    "        - weather_conditions: an iterable collection of string weather conditions to be aggregated\n",
    "\n",
    "    Returns:\n",
    "        a dictionary that goes from the original weather condition name to one among the following:\n",
    "            - thunderstorm\n",
    "            - rainy\n",
    "            - snowy\n",
    "            - cloudy\n",
    "            - foggy\n",
    "            - sunny\n",
    "    '''\n",
    "    \n",
    "    weather_conditions_dict = dict()\n",
    "  \n",
    "    for weather_condition in weather_conditions:\n",
    "  \n",
    "        weather_condition_lowered = weather_condition.lower()\n",
    "\n",
    "        if any(key in weather_condition_lowered for key in ['squall', 'thunderstorm']):\n",
    "            weather_conditions_dict[weather_condition] = 'thunderstorm'\n",
    "        elif any(key in weather_condition_lowered for key in ['drizzle', 'rain']):\n",
    "            weather_conditions_dict[weather_condition] = 'rainy'\n",
    "        elif any(key in weather_condition_lowered for key in ['sleet', 'snow']):\n",
    "            weather_conditions_dict[weather_condition] = 'snowy'\n",
    "        elif 'cloud' in weather_condition_lowered:\n",
    "            weather_conditions_dict[weather_condition] = 'cloudy'\n",
    "        elif any(key in weather_condition_lowered for key in ['fog', 'mist', 'haze']):\n",
    "            weather_conditions_dict[weather_condition] = 'foggy'\n",
    "        elif any(key in weather_condition_lowered for key in ['clear', 'sun']):\n",
    "            weather_conditions_dict[weather_condition] = 'sunny'\n",
    "            \n",
    "    return weather_conditions_dict"
   ]
  },
  {
   "cell_type": "code",
   "execution_count": 0,
   "metadata": {
    "application/vnd.databricks.v1+cell": {
     "cellMetadata": {
      "byteLimit": 2048000,
      "rowLimit": 10000
     },
     "inputWidgets": {},
     "nuid": "068c5299-45ac-4bd6-b76a-d3435926df91",
     "showTitle": false,
     "title": ""
    }
   },
   "outputs": [],
   "source": [
    "weather_conditions_all = not_null_weather_measurements_df \\\n",
    "    .select(WEATHER_CONDITION_COL).distinct() \\\n",
    "    .rdd.map(lambda row: row[0]) \\\n",
    "    .collect()"
   ]
  },
  {
   "cell_type": "code",
   "execution_count": 0,
   "metadata": {
    "application/vnd.databricks.v1+cell": {
     "cellMetadata": {
      "byteLimit": 2048000,
      "rowLimit": 10000
     },
     "inputWidgets": {},
     "nuid": "0780d1dd-d621-45c1-91e5-759c8d16098e",
     "showTitle": false,
     "title": ""
    }
   },
   "outputs": [],
   "source": [
    "weather_conditions_dict = get_weather_conditions_aggregation_dict(weather_conditions_all)"
   ]
  },
  {
   "cell_type": "code",
   "execution_count": 0,
   "metadata": {
    "application/vnd.databricks.v1+cell": {
     "cellMetadata": {
      "byteLimit": 2048000,
      "rowLimit": 10000
     },
     "inputWidgets": {},
     "nuid": "afd57a15-357c-491a-83be-184afc4dd9c5",
     "showTitle": false,
     "title": ""
    }
   },
   "outputs": [
    {
     "output_type": "execute_result",
     "data": {
      "text/plain": [
       "DataFrame[datetime: timestamp, humidity: double, pressure: double, temperature: double, wind_direction: double, wind_speed: double, weather_condition: string, city: string, country: string, latitude: double, longitude: double]"
      ]
     },
     "execution_count": 22,
     "metadata": {},
     "output_type": "execute_result"
    }
   ],
   "source": [
    "weather_measurements_aggregated_df = not_null_weather_measurements_df.replace(weather_conditions_dict)\n",
    "weather_measurements_aggregated_df.persist()"
   ]
  },
  {
   "cell_type": "code",
   "execution_count": 0,
   "metadata": {
    "application/vnd.databricks.v1+cell": {
     "cellMetadata": {
      "byteLimit": 2048000,
      "rowLimit": 10000
     },
     "inputWidgets": {},
     "nuid": "3a9796a3-6fe9-47cb-ba2e-cef974e542a8",
     "showTitle": false,
     "title": ""
    }
   },
   "outputs": [],
   "source": [
    "WEATHER_CONDITIONS = set(weather_conditions_dict.values())\n",
    "\n",
    "weather_measurements_aggregated_df = weather_measurements_aggregated_df \\\n",
    "    .filter(weather_measurements_aggregated_df[WEATHER_CONDITION_COL].isin(WEATHER_CONDITIONS))"
   ]
  },
  {
   "cell_type": "code",
   "execution_count": 0,
   "metadata": {
    "application/vnd.databricks.v1+cell": {
     "cellMetadata": {
      "byteLimit": 2048000,
      "rowLimit": 10000
     },
     "inputWidgets": {},
     "nuid": "524ca0ce-2029-4932-b25b-ef7a4553e25d",
     "showTitle": false,
     "title": ""
    }
   },
   "outputs": [
    {
     "output_type": "stream",
     "name": "stdout",
     "output_type": "stream",
     "text": [
      "+-----------------+------+\n|weather_condition| count|\n+-----------------+------+\n|            rainy|202725|\n|            snowy| 21283|\n|            sunny|641577|\n|           cloudy|577842|\n|     thunderstorm| 10852|\n|            foggy|138707|\n+-----------------+------+\n\n"
     ]
    }
   ],
   "source": [
    "weather_measurements_aggregated_df.groupBy(WEATHER_CONDITION_COL).count().show()"
   ]
  },
  {
   "cell_type": "code",
   "execution_count": 0,
   "metadata": {
    "application/vnd.databricks.v1+cell": {
     "cellMetadata": {
      "byteLimit": 2048000,
      "rowLimit": 10000
     },
     "inputWidgets": {},
     "nuid": "4269419e-1cfc-48ad-8e66-f51edd58942d",
     "showTitle": false,
     "title": ""
    }
   },
   "outputs": [
    {
     "output_type": "stream",
     "name": "stdout",
     "output_type": "stream",
     "text": [
      "+-------------------+--------+--------+-------------+--------------+----------+-----------------+---------+-------+--------+-----------+\n|           datetime|humidity|pressure|  temperature|wind_direction|wind_speed|weather_condition|     city|country|latitude|  longitude|\n+-------------------+--------+--------+-------------+--------------+----------+-----------------+---------+-------+--------+-----------+\n|2012-10-02 09:00:00|    87.0|   807.0| 284.59021694|         268.0|       0.0|           cloudy|Vancouver| Canada|49.24966|-123.119339|\n|2012-10-02 10:00:00|    88.0|   849.0|284.588173552|         281.0|       0.0|           cloudy|Vancouver| Canada|49.24966|-123.119339|\n|2012-10-02 11:00:00|    89.0|   890.0|284.586130164|         295.0|       0.0|           cloudy|Vancouver| Canada|49.24966|-123.119339|\n|2012-10-02 12:00:00|    89.0|   932.0|284.584086776|         309.0|       0.0|           cloudy|Vancouver| Canada|49.24966|-123.119339|\n|2012-10-02 13:00:00|    90.0|   973.0|284.582043388|         323.0|       0.0|           cloudy|Vancouver| Canada|49.24966|-123.119339|\n+-------------------+--------+--------+-------------+--------------+----------+-----------------+---------+-------+--------+-----------+\nonly showing top 5 rows\n\n"
     ]
    }
   ],
   "source": [
    "weather_measurements_aggregated_df.show(5)"
   ]
  },
  {
   "cell_type": "code",
   "execution_count": 0,
   "metadata": {
    "application/vnd.databricks.v1+cell": {
     "cellMetadata": {
      "byteLimit": 2048000,
      "rowLimit": 10000
     },
     "inputWidgets": {},
     "nuid": "645e38f2-546e-4e4f-80b0-3b7ba7b7ea4b",
     "showTitle": false,
     "title": ""
    }
   },
   "outputs": [],
   "source": [
    "def count_weather_condition_occurrences(dataframe: DataFrame, class_name: str) -> int:\n",
    "    '''\n",
    "    Args:\n",
    "        - dataframe: a `DataFrame` which contains a column `WEATHER_CONDITION_COL`\n",
    "        - class_name: the class name to count the occurences of\n",
    "        \n",
    "    Returns:\n",
    "        the total number of `class_name` occurences inside `dataframe`\n",
    "    '''\n",
    "    return dataframe.filter(dataframe[WEATHER_CONDITION_COL] == class_name).count()"
   ]
  },
  {
   "cell_type": "code",
   "execution_count": 0,
   "metadata": {
    "application/vnd.databricks.v1+cell": {
     "cellMetadata": {
      "byteLimit": 2048000,
      "rowLimit": 10000
     },
     "inputWidgets": {},
     "nuid": "8cf48268-4cb7-4226-bf95-10c6bfd370df",
     "showTitle": false,
     "title": ""
    }
   },
   "outputs": [],
   "source": [
    "def get_undersampling_fracs(dataframe: DataFrame) -> Dict[str, float]:\n",
    "    '''\n",
    "    Args:\n",
    "        - dataframe: a `DataFrame` of weather measurements which contains a column `WEATHER_CONDITION_COL`\n",
    "        \n",
    "    Returns:\n",
    "        a dictionary that goes from a weather condition to its fraction\n",
    "        that should be sampled in order to match the occurrences of the minority class\n",
    "    '''\n",
    "\n",
    "    rainy_cnt = count_weather_condition_occurrences(dataframe, 'rainy')\n",
    "    snowy_cnt = count_weather_condition_occurrences(dataframe, 'snowy')\n",
    "    sunny_cnt = count_weather_condition_occurrences(dataframe, 'sunny')\n",
    "    foggy_cnt = count_weather_condition_occurrences(dataframe, 'foggy')\n",
    "    cloudy_cnt = count_weather_condition_occurrences(dataframe, 'cloudy')\n",
    "    thunderstorm_cnt = count_weather_condition_occurrences(dataframe, 'thunderstorm')\n",
    "\n",
    "\n",
    "    minority_class_cnt = np.min(\n",
    "        [rainy_cnt, snowy_cnt, sunny_cnt, cloudy_cnt, foggy_cnt, thunderstorm_cnt]\n",
    "    )\n",
    "\n",
    "    return {\n",
    "        'rainy': minority_class_cnt / rainy_cnt if rainy_cnt != 0 else 0,\n",
    "        'snowy': minority_class_cnt / snowy_cnt if snowy_cnt != 0 else 0,\n",
    "        'sunny': minority_class_cnt / sunny_cnt if sunny_cnt != 0 else 0,\n",
    "        'foggy': minority_class_cnt / foggy_cnt if foggy_cnt != 0 else 0,\n",
    "        'cloudy': minority_class_cnt / cloudy_cnt if cloudy_cnt != 0 else 0,\n",
    "        'thunderstorm': minority_class_cnt / thunderstorm_cnt if thunderstorm_cnt != 0 else 0\n",
    "    }"
   ]
  },
  {
   "cell_type": "code",
   "execution_count": 0,
   "metadata": {
    "application/vnd.databricks.v1+cell": {
     "cellMetadata": {
      "byteLimit": 2048000,
      "rowLimit": 10000
     },
     "inputWidgets": {},
     "nuid": "4a10ae9a-a4f2-42cd-b998-8bd5c0d266bb",
     "showTitle": false,
     "title": ""
    }
   },
   "outputs": [
    {
     "output_type": "stream",
     "name": "stdout",
     "output_type": "stream",
     "text": [
      "202725\n21283\n641577\n138707\n577842\n10852\n10852\n"
     ]
    },
    {
     "output_type": "execute_result",
     "data": {
      "text/plain": [
       "DataFrame[datetime: timestamp, humidity: double, pressure: double, temperature: double, wind_direction: double, wind_speed: double, weather_condition: string, city: string, country: string, latitude: double, longitude: double]"
      ]
     },
     "execution_count": 54,
     "metadata": {},
     "output_type": "execute_result"
    }
   ],
   "source": [
    "sampled_weather_measurements_df = weather_measurements_aggregated_df.sampleBy(WEATHER_CONDITION_COL,\n",
    "                                                                           fractions=get_undersampling_fracs(weather_measurements_aggregated_df),\n",
    "                                                                           seed=RANDOM_SEED)\n",
    "\n",
    "sampled_weather_measurements_df.persist()"
   ]
  },
  {
   "cell_type": "code",
   "execution_count": 0,
   "metadata": {
    "application/vnd.databricks.v1+cell": {
     "cellMetadata": {
      "byteLimit": 2048000,
      "rowLimit": 10000
     },
     "inputWidgets": {},
     "nuid": "8b0e02b4-d831-42d1-b9af-9e2298a1a9ad",
     "showTitle": false,
     "title": ""
    }
   },
   "outputs": [],
   "source": [
    "if LOAD_SAMPLED_DATASET:\n",
    "    sampled_weather_measurements_df = spark.read.csv(SAMPLED_DATASET_PATH, header=True, inferSchema=True)\n",
    "    \n",
    "if SAVE_COMPUTATIONS and not LOAD_SAMPLED_DATASET:\n",
    "    sampled_weather_measurements_df.write.csv(SAMPLED_DATASET_PATH,\n",
    "                                              mode='overwrite',\n",
    "                                              header=True)"
   ]
  },
  {
   "cell_type": "code",
   "execution_count": 0,
   "metadata": {
    "application/vnd.databricks.v1+cell": {
     "cellMetadata": {
      "byteLimit": 2048000,
      "rowLimit": 10000
     },
     "inputWidgets": {},
     "nuid": "7bb8a8e9-8cde-4f6c-8383-67465bb0f36c",
     "showTitle": false,
     "title": ""
    }
   },
   "outputs": [
    {
     "output_type": "stream",
     "name": "stdout",
     "output_type": "stream",
     "text": [
      "+-----------------+-----+\n|weather_condition|count|\n+-----------------+-----+\n|            rainy|10706|\n|            snowy|10957|\n|            sunny|10904|\n|           cloudy|10932|\n|     thunderstorm|10852|\n|            foggy|10848|\n+-----------------+-----+\n\n"
     ]
    }
   ],
   "source": [
    "sampled_weather_measurements_df.groupBy(WEATHER_CONDITION_COL).count().show()"
   ]
  },
  {
   "cell_type": "code",
   "execution_count": 0,
   "metadata": {
    "application/vnd.databricks.v1+cell": {
     "cellMetadata": {
      "byteLimit": 2048000,
      "rowLimit": 10000
     },
     "inputWidgets": {},
     "nuid": "aca3016a-fefb-4b9c-b420-f4a1db280078",
     "showTitle": false,
     "title": ""
    }
   },
   "outputs": [
    {
     "output_type": "execute_result",
     "data": {
      "text/html": [
       "<div>\n",
       "<style scoped>\n",
       "    .dataframe tbody tr th:only-of-type {\n",
       "        vertical-align: middle;\n",
       "    }\n",
       "\n",
       "    .dataframe tbody tr th {\n",
       "        vertical-align: top;\n",
       "    }\n",
       "\n",
       "    .dataframe thead th {\n",
       "        text-align: right;\n",
       "    }\n",
       "</style>\n",
       "<table border=\"1\" class=\"dataframe\">\n",
       "  <thead>\n",
       "    <tr style=\"text-align: right;\">\n",
       "      <th></th>\n",
       "      <th>0</th>\n",
       "      <th>1</th>\n",
       "      <th>2</th>\n",
       "      <th>3</th>\n",
       "      <th>4</th>\n",
       "    </tr>\n",
       "  </thead>\n",
       "  <tbody>\n",
       "    <tr>\n",
       "      <th>summary</th>\n",
       "      <td>count</td>\n",
       "      <td>mean</td>\n",
       "      <td>stddev</td>\n",
       "      <td>min</td>\n",
       "      <td>max</td>\n",
       "    </tr>\n",
       "    <tr>\n",
       "      <th>humidity</th>\n",
       "      <td>65199</td>\n",
       "      <td>73.74389177748125</td>\n",
       "      <td>20.462927337259973</td>\n",
       "      <td>5.0</td>\n",
       "      <td>100.0</td>\n",
       "    </tr>\n",
       "    <tr>\n",
       "      <th>pressure</th>\n",
       "      <td>65199</td>\n",
       "      <td>1017.0727618521756</td>\n",
       "      <td>13.21751268045232</td>\n",
       "      <td>803.0</td>\n",
       "      <td>1100.0</td>\n",
       "    </tr>\n",
       "    <tr>\n",
       "      <th>temperature</th>\n",
       "      <td>65199</td>\n",
       "      <td>286.45027203499797</td>\n",
       "      <td>11.968697464520226</td>\n",
       "      <td>243.62</td>\n",
       "      <td>317.35</td>\n",
       "    </tr>\n",
       "    <tr>\n",
       "      <th>wind_direction</th>\n",
       "      <td>65199</td>\n",
       "      <td>184.40565039341095</td>\n",
       "      <td>103.6556423122793</td>\n",
       "      <td>0.0</td>\n",
       "      <td>360.0</td>\n",
       "    </tr>\n",
       "    <tr>\n",
       "      <th>wind_speed</th>\n",
       "      <td>65199</td>\n",
       "      <td>3.1850488504424916</td>\n",
       "      <td>2.3049061131079083</td>\n",
       "      <td>0.0</td>\n",
       "      <td>35.0</td>\n",
       "    </tr>\n",
       "    <tr>\n",
       "      <th>weather_condition</th>\n",
       "      <td>65199</td>\n",
       "      <td>None</td>\n",
       "      <td>None</td>\n",
       "      <td>cloudy</td>\n",
       "      <td>thunderstorm</td>\n",
       "    </tr>\n",
       "    <tr>\n",
       "      <th>city</th>\n",
       "      <td>65199</td>\n",
       "      <td>None</td>\n",
       "      <td>None</td>\n",
       "      <td>Albuquerque</td>\n",
       "      <td>Vancouver</td>\n",
       "    </tr>\n",
       "    <tr>\n",
       "      <th>country</th>\n",
       "      <td>65199</td>\n",
       "      <td>None</td>\n",
       "      <td>None</td>\n",
       "      <td>Canada</td>\n",
       "      <td>United States</td>\n",
       "    </tr>\n",
       "    <tr>\n",
       "      <th>latitude</th>\n",
       "      <td>65199</td>\n",
       "      <td>37.96983814882133</td>\n",
       "      <td>5.800096481216519</td>\n",
       "      <td>25.774269</td>\n",
       "      <td>49.24966</td>\n",
       "    </tr>\n",
       "    <tr>\n",
       "      <th>longitude</th>\n",
       "      <td>65199</td>\n",
       "      <td>-82.0808021225171</td>\n",
       "      <td>38.90956077752104</td>\n",
       "      <td>-123.119339</td>\n",
       "      <td>35.216331</td>\n",
       "    </tr>\n",
       "  </tbody>\n",
       "</table>\n",
       "</div>"
      ],
      "text/plain": [
       "                       0                   1                   2            3              4\n",
       "summary            count                mean              stddev          min            max\n",
       "humidity           65199   73.74389177748125  20.462927337259973          5.0          100.0\n",
       "pressure           65199  1017.0727618521756   13.21751268045232        803.0         1100.0\n",
       "temperature        65199  286.45027203499797  11.968697464520226       243.62         317.35\n",
       "wind_direction     65199  184.40565039341095   103.6556423122793          0.0          360.0\n",
       "wind_speed         65199  3.1850488504424916  2.3049061131079083          0.0           35.0\n",
       "weather_condition  65199                None                None       cloudy   thunderstorm\n",
       "city               65199                None                None  Albuquerque      Vancouver\n",
       "country            65199                None                None       Canada  United States\n",
       "latitude           65199   37.96983814882133   5.800096481216519    25.774269       49.24966\n",
       "longitude          65199   -82.0808021225171   38.90956077752104  -123.119339      35.216331"
      ]
     },
     "execution_count": 58,
     "metadata": {},
     "output_type": "execute_result"
    }
   ],
   "source": [
    "sampled_weather_measurements_df.describe().to_koalas().transpose()"
   ]
  },
  {
   "cell_type": "code",
   "execution_count": 0,
   "metadata": {
    "application/vnd.databricks.v1+cell": {
     "cellMetadata": {
      "byteLimit": 2048000,
      "rowLimit": 10000
     },
     "inputWidgets": {},
     "nuid": "6cb40317-fbde-411f-94b5-fe4019f8bdc1",
     "showTitle": false,
     "title": ""
    }
   },
   "outputs": [
    {
     "output_type": "execute_result",
     "data": {
      "text/plain": [
       "DataFrame[datetime: timestamp, humidity: double, pressure: double, temperature: double, wind_direction: double, wind_speed: double, weather_condition: string, city: string, country: string, latitude: double, longitude: double]"
      ]
     },
     "execution_count": 63,
     "metadata": {},
     "output_type": "execute_result"
    }
   ],
   "source": [
    "train_df, test_df = sampled_weather_measurements_df.randomSplit([0.8, 0.2], seed=RANDOM_SEED)\n",
    "\n",
    "train_df.persist()\n",
    "test_df.persist()"
   ]
  },
  {
   "cell_type": "code",
   "execution_count": 0,
   "metadata": {
    "application/vnd.databricks.v1+cell": {
     "cellMetadata": {
      "byteLimit": 2048000,
      "rowLimit": 10000
     },
     "inputWidgets": {},
     "nuid": "686b89fd-009b-43e1-a6d2-3fa5fd613c2a",
     "showTitle": false,
     "title": ""
    }
   },
   "outputs": [],
   "source": [
    "# necessary due to DataBricks limits (training on a dataframe larger than this threshold causes an Internal Server Error)\n",
    "train_df = train_df.limit(MAX_TRAIN_SIZE)"
   ]
  },
  {
   "cell_type": "code",
   "execution_count": 0,
   "metadata": {
    "application/vnd.databricks.v1+cell": {
     "cellMetadata": {
      "byteLimit": 2048000,
      "rowLimit": 10000
     },
     "inputWidgets": {},
     "nuid": "b7791ef1-5b62-4b21-95ad-1858cc4001d3",
     "showTitle": false,
     "title": ""
    }
   },
   "outputs": [
    {
     "output_type": "stream",
     "name": "stdout",
     "output_type": "stream",
     "text": [
      "Train set size:  52008 instances\nTest set size:   13191 instances\n"
     ]
    }
   ],
   "source": [
    "print(f'Train set size:  {train_df.count()} instances')\n",
    "print(f'Test set size:   {test_df.count()} instances')"
   ]
  },
  {
   "cell_type": "code",
   "execution_count": 0,
   "metadata": {
    "application/vnd.databricks.v1+cell": {
     "cellMetadata": {
      "byteLimit": 2048000,
      "rowLimit": 10000
     },
     "inputWidgets": {},
     "nuid": "9de8d7dd-8cd5-41d0-ac58-f23850798b03",
     "showTitle": false,
     "title": ""
    }
   },
   "outputs": [],
   "source": [
    "NUMERICAL_FEATURES = [HUMIDITY_COL,\n",
    "                      PRESSURE_COL,\n",
    "                      TEMPERATURE_COL,\n",
    "                      WIND_DIRECTION_COL,\n",
    "                      WIND_SPEED_COL,\n",
    "                      LATITUDE_COL,\n",
    "                      LONGITUDE_COL]\n",
    "\n",
    "CATEGORICAL_FEATURES = []\n",
    "\n",
    "TARGET_VARIABLE_COL = WEATHER_CONDITION_COL\n",
    "PREDICTED_TARGET_VARIABLE_COL = f'predicted_{TARGET_VARIABLE_COL}'\n",
    "\n",
    "LABEL_COL = 'label'\n",
    "PREDICTION_COL = 'prediction'\n",
    "\n",
    "FEATURES_COL = 'features'\n",
    "SCALED_FEATURES_COL = f'scaled_{FEATURES_COL}'"
   ]
  },
  {
   "cell_type": "code",
   "execution_count": 0,
   "metadata": {
    "application/vnd.databricks.v1+cell": {
     "cellMetadata": {
      "byteLimit": 2048000,
      "rowLimit": 10000
     },
     "inputWidgets": {},
     "nuid": "7b2bb974-a9af-407f-b40a-2d566738d2ed",
     "showTitle": false,
     "title": ""
    }
   },
   "outputs": [],
   "source": [
    "def save_pyspark_model(model, path: str, append_datetime: bool = True) -> None:\n",
    "    \n",
    "    if append_datetime:\n",
    "        from datetime import datetime\n",
    "        path += '-' + datetime.now().strftime(\"%Y%d%m-%H%M%S\")\n",
    "    \n",
    "    model.write().overwrite().save(path)\n",
    "    print(path)"
   ]
  },
  {
   "cell_type": "code",
   "execution_count": 0,
   "metadata": {
    "application/vnd.databricks.v1+cell": {
     "cellMetadata": {
      "byteLimit": 2048000,
      "rowLimit": 10000
     },
     "inputWidgets": {},
     "nuid": "7a4ff542-4298-41d4-a3b4-cd57566775d3",
     "showTitle": false,
     "title": ""
    }
   },
   "outputs": [],
   "source": [
    "def encoding_pipeline(dataframe: DataFrame,\n",
    "                      numerical_features: List[str],\n",
    "                      categorical_features: List[str],\n",
    "                      target_variable: str,\n",
    "                      with_std: bool = True,\n",
    "                      with_mean: bool = False) -> PipelineModel:\n",
    "    '''\n",
    "    Args:\n",
    "        - dataframe: the input `DataFrame` to fit the pipeline\n",
    "        - numerical_features: the list of column names in `dataframe` corresponding to numerical features\n",
    "        - categorical_features: the list of column names in `dataframe` corresponding to categorical features\n",
    "        - target_variable: the column name in `dataframe` corresponding to the target variable\n",
    "        - with_std: whether to scale the data to unit standard deviation or not (True by default)\n",
    "        - with_mean: whether to center the data with mean before scaling (False by default)\n",
    "\n",
    "    Returns:\n",
    "        the encoding pipeline fitted with `dataframe`\n",
    "    '''\n",
    "    \n",
    "    from pyspark.ml import Pipeline\n",
    "    from pyspark.ml.feature import StringIndexer, OneHotEncoder, VectorAssembler, StandardScaler\n",
    "\n",
    "    # Indexing, i.e. transform to numerical values, the target column and rename it as the variable `LABEL_COL`\n",
    "    label_indexer = StringIndexer(inputCol=target_variable, outputCol=LABEL_COL)\n",
    "    \n",
    "    # Create a list of indexers, one for each categorical feature\n",
    "    indexers = [StringIndexer(inputCol=c, outputCol=f'{c}_indexed', handleInvalid='keep') for c in categorical_features]\n",
    "\n",
    "    # Create the one-hot encoder for the list of features just indexed (this encoder will keep any unseen label in the future)\n",
    "    encoder = OneHotEncoder(inputCols=[indexer.getOutputCol() for indexer in indexers], \n",
    "                            outputCols=[f'{indexer.getOutputCol()}_encoded' for indexer in indexers], \n",
    "                            handleInvalid='keep')\n",
    "    \n",
    "    # Assemble all the features (both one-hot-encoded categorical and numerical) into a single vector\n",
    "    features = encoder.getOutputCols() + numerical_features    \n",
    "    assembler = VectorAssembler(inputCols=features, outputCol=FEATURES_COL)\n",
    "    \n",
    "    # Create a second feature column with the data scaled accordingly to `withStd` and `withMean`\n",
    "    scaler = StandardScaler(inputCol=assembler.getOutputCol(), outputCol=SCALED_FEATURES_COL, withStd=with_std, withMean=with_mean)\n",
    "\n",
    "    stages = [label_indexer] + indexers + [encoder] + [assembler] + [scaler]\n",
    "    pipeline = Pipeline(stages=stages)\n",
    "\n",
    "    transformer = pipeline.fit(dataframe)\n",
    "\n",
    "    return transformer"
   ]
  },
  {
   "cell_type": "code",
   "execution_count": 0,
   "metadata": {
    "application/vnd.databricks.v1+cell": {
     "cellMetadata": {
      "byteLimit": 2048000,
      "rowLimit": 10000
     },
     "inputWidgets": {},
     "nuid": "375dcb66-15c5-48b9-a279-a5e3bd0fd45f",
     "showTitle": false,
     "title": ""
    }
   },
   "outputs": [],
   "source": [
    "data_encoder = PipelineModel.load(ENCODING_PIPELINE_PATH) if LOAD_ECONDING_PIPELINE \\\n",
    "               else encoding_pipeline(train_df, NUMERICAL_FEATURES, CATEGORICAL_FEATURES, TARGET_VARIABLE_COL)"
   ]
  },
  {
   "cell_type": "code",
   "execution_count": 0,
   "metadata": {
    "application/vnd.databricks.v1+cell": {
     "cellMetadata": {
      "byteLimit": 2048000,
      "rowLimit": 10000
     },
     "inputWidgets": {},
     "nuid": "eee44d6c-ce57-4620-9b1d-9bd616ba28fe",
     "showTitle": false,
     "title": ""
    }
   },
   "outputs": [
    {
     "output_type": "stream",
     "name": "stdout",
     "output_type": "stream",
     "text": [
      "dbfs:/bigdata_proj/models/historical-hourly-weather/data_encoder-20242303-181104\n"
     ]
    }
   ],
   "source": [
    "if SAVE_COMPUTATIONS and not LOAD_ECONDING_PIPELINE:\n",
    "    save_pyspark_model(data_encoder, ENCODING_PIPELINE_PATH)"
   ]
  },
  {
   "cell_type": "code",
   "execution_count": 0,
   "metadata": {
    "application/vnd.databricks.v1+cell": {
     "cellMetadata": {
      "byteLimit": 2048000,
      "rowLimit": 10000
     },
     "inputWidgets": {},
     "nuid": "f371853e-22b8-441f-b862-cb25c5aaf5ee",
     "showTitle": false,
     "title": ""
    }
   },
   "outputs": [],
   "source": [
    "encoded_train_df = data_encoder.transform(train_df)\n",
    "encoded_test_df = data_encoder.transform(test_df)"
   ]
  },
  {
   "cell_type": "code",
   "execution_count": 0,
   "metadata": {
    "application/vnd.databricks.v1+cell": {
     "cellMetadata": {
      "byteLimit": 2048000,
      "rowLimit": 10000
     },
     "inputWidgets": {},
     "nuid": "50c7cdd1-92a7-44cd-8668-166f56943346",
     "showTitle": false,
     "title": ""
    }
   },
   "outputs": [],
   "source": [
    "from pyspark.ml.classification import RandomForestClassifier, RandomForestClassificationModel\n",
    "\n",
    "rnd_forest_model = RandomForestClassifier(featuresCol=FEATURES_COL, labelCol=LABEL_COL).fit(encoded_train_df)"
   ]
  },
  {
   "cell_type": "code",
   "execution_count": 0,
   "metadata": {
    "application/vnd.databricks.v1+cell": {
     "cellMetadata": {
      "byteLimit": 2048000,
      "rowLimit": 10000
     },
     "inputWidgets": {},
     "nuid": "6db293e3-20c5-426b-b763-7e4216be1a14",
     "showTitle": false,
     "title": ""
    }
   },
   "outputs": [],
   "source": [
    "rnd_forest_predictions = rnd_forest_model.transform(encoded_test_df)"
   ]
  },
  {
   "cell_type": "code",
   "execution_count": 0,
   "metadata": {
    "application/vnd.databricks.v1+cell": {
     "cellMetadata": {
      "byteLimit": 2048000,
      "rowLimit": 10000
     },
     "inputWidgets": {},
     "nuid": "ddcbbe48-ae4c-4df4-9513-ee867d77c85f",
     "showTitle": false,
     "title": ""
    }
   },
   "outputs": [],
   "source": [
    "from pyspark.ml.feature import IndexToString\n",
    "\n",
    "predictions_idx_to_str = IndexToString(inputCol=PREDICTION_COL,\n",
    "                                       outputCol=PREDICTED_TARGET_VARIABLE_COL,\n",
    "                                       labels=data_encoder.stages[0].labels)"
   ]
  },
  {
   "cell_type": "code",
   "execution_count": 0,
   "metadata": {
    "application/vnd.databricks.v1+cell": {
     "cellMetadata": {
      "byteLimit": 2048000,
      "rowLimit": 10000
     },
     "inputWidgets": {},
     "nuid": "3f0d9ce0-6834-43b2-814a-9dbe6ccfcd2d",
     "showTitle": false,
     "title": ""
    }
   },
   "outputs": [],
   "source": [
    "rnd_forest_predictions = predictions_idx_to_str.transform(rnd_forest_predictions)"
   ]
  },
  {
   "cell_type": "code",
   "execution_count": 0,
   "metadata": {
    "application/vnd.databricks.v1+cell": {
     "cellMetadata": {
      "byteLimit": 2048000,
      "rowLimit": 10000
     },
     "inputWidgets": {},
     "nuid": "0a49d83c-0ab6-4faa-b166-0a3918872262",
     "showTitle": false,
     "title": ""
    }
   },
   "outputs": [],
   "source": [
    "def eval_predictions(predictions: DataFrame) -> None:\n",
    "  \n",
    "    from sklearn.metrics import precision_score, recall_score, accuracy_score\n",
    "\n",
    "    labels = predictions.select(LABEL_COL).to_koalas().to_numpy()\n",
    "    predictions = predictions.select(PREDICTION_COL).to_koalas().to_numpy()\n",
    "\n",
    "    precision = precision_score(labels, predictions, average='macro')\n",
    "    recall = recall_score(labels, predictions, average='macro')\n",
    "    f1_score = 2 * precision * recall / (precision + recall)\n",
    "    accuracy = accuracy_score(labels, predictions)    \n",
    "\n",
    "    print(f'Accuracy: {accuracy}')\n",
    "    print(f'Precision: {precision}')\n",
    "    print(f'Recall: {recall}')\n",
    "    print(f'F1-score: {f1_score}')"
   ]
  },
  {
   "cell_type": "code",
   "execution_count": 0,
   "metadata": {
    "application/vnd.databricks.v1+cell": {
     "cellMetadata": {
      "byteLimit": 2048000,
      "rowLimit": 10000
     },
     "inputWidgets": {},
     "nuid": "2f019d49-9778-4ba3-90d6-225165b85eb3",
     "showTitle": false,
     "title": ""
    }
   },
   "outputs": [
    {
     "output_type": "stream",
     "name": "stdout",
     "output_type": "stream",
     "text": [
      "Accuracy: 0.5120915775907816\nPrecision: 0.4867130365518806\nRecall: 0.5121052740750489\nF1-score: 0.49908639104314\n"
     ]
    }
   ],
   "source": [
    "eval_predictions(rnd_forest_predictions)"
   ]
  },
  {
   "cell_type": "code",
   "execution_count": 0,
   "metadata": {
    "application/vnd.databricks.v1+cell": {
     "cellMetadata": {
      "byteLimit": 2048000,
      "rowLimit": 10000
     },
     "inputWidgets": {},
     "nuid": "811e2c9e-76bb-4e0f-9f18-f7877ae14a89",
     "showTitle": false,
     "title": ""
    }
   },
   "outputs": [],
   "source": [
    "def plot_confusion_matrix(predictions_df: DataFrame,\n",
    "                          normalize: bool = False,\n",
    "                          title: str = None):\n",
    "    '''\n",
    "    Plots a Confusion Matrix computed on the given `DataFrame`\n",
    "    \n",
    "    Args:\n",
    "        - predictions_df: a `DataFrame` that has at least a `TARGET_VARIABLE_COL` and a `PREDICTED_TARGET_VARIABLE_COL`\n",
    "        - normalize: True to normalize the values in the Confusion Matrix, False otherwise\n",
    "        - title: optional title to append on top of the plotted Confusion Matrix\n",
    "    '''\n",
    "    \n",
    "    from sklearn.metrics import confusion_matrix\n",
    "    from sklearn.utils.multiclass import unique_labels\n",
    "    \n",
    "    labels = predictions_df.select(TARGET_VARIABLE_COL).to_koalas().to_numpy()\n",
    "    pedictions = predictions_df.select(PREDICTED_TARGET_VARIABLE_COL).to_koalas().to_numpy()\n",
    "\n",
    "    if not title:\n",
    "        if normalize:\n",
    "            title = 'Normalized confusion matrix'\n",
    "        else:\n",
    "            title = 'Confusion matrix, without normalization'\n",
    "\n",
    "    # Compute confusion matrix\n",
    "    cm = confusion_matrix(labels, pedictions, labels=None)\n",
    "    \n",
    "    # Only use the labels that appear in the data\n",
    "    classes = unique_labels(labels, pedictions)\n",
    "\n",
    "    if normalize: cm = cm.astype('float') / cm.sum(axis=1)[:, np.newaxis]\n",
    "\n",
    "    fig, ax = plt.subplots()\n",
    "    im = ax.imshow(cm, interpolation='nearest', cmap=plt.cm.Blues)\n",
    "    ax.figure.colorbar(im, ax=ax)\n",
    "    \n",
    "    # We want to show all ticks...\n",
    "    ax.set(xticks=np.arange(cm.shape[1]), yticks=np.arange(cm.shape[0]),\n",
    "           # ... and label them with the respective list entries\n",
    "           xticklabels=classes, yticklabels=classes,           \n",
    "           xlabel='Predicted label', ylabel='True label',\n",
    "           title=title)\n",
    "\n",
    "    ax.set_ylim(len(classes) - 0.5, -0.5)\n",
    "\n",
    "    # Rotate the tick labels and set their alignment.\n",
    "    plt.setp(ax.get_xticklabels(), rotation=45, ha='right', rotation_mode='anchor')\n",
    "\n",
    "    # Loop over data dimensions and create text annotations.\n",
    "    fmt = '.2f' if normalize else 'd'\n",
    "    thresh = cm.max() / 2.\n",
    "    for i in range(cm.shape[0]):\n",
    "        for j in range(cm.shape[1]):\n",
    "            ax.text(j, i, format(cm[i, j], fmt), ha='center', va='center',\n",
    "                    color='white' if cm[i, j] > thresh else 'black')\n",
    "\n",
    "    fig.tight_layout()\n",
    "    plt.show()\n"
   ]
  },
  {
   "cell_type": "code",
   "execution_count": 0,
   "metadata": {
    "application/vnd.databricks.v1+cell": {
     "cellMetadata": {
      "byteLimit": 2048000,
      "rowLimit": 10000
     },
     "inputWidgets": {},
     "nuid": "ab2734cb-d76d-44cc-82be-dc167409233f",
     "showTitle": false,
     "title": ""
    }
   },
   "outputs": [
    {
     "output_type": "display_data",
     "data": {
      "image/png": "[encoded data removed]",
      "text/plain": [
       "<Figure size 640x480 with 2 Axes>"
      ]
     },
     "metadata": {},
     "output_type": "display_data"
    }
   ],
   "source": [
    "plot_confusion_matrix(rnd_forest_predictions, normalize=True)"
   ]
  },
  {
   "cell_type": "code",
   "execution_count": 0,
   "metadata": {
    "application/vnd.databricks.v1+cell": {
     "cellMetadata": {
      "byteLimit": 2048000,
      "rowLimit": 10000
     },
     "inputWidgets": {},
     "nuid": "4b78f294-e68b-4bdd-bf8c-5800c1ea5e57",
     "showTitle": false,
     "title": ""
    }
   },
   "outputs": [
    {
     "output_type": "stream",
     "name": "stdout",
     "output_type": "stream",
     "text": [
      "dbfs:/bigdata_proj/models/historical-hourly-weather/rnd_forest-20242303-181500\n"
     ]
    }
   ],
   "source": [
    "if SAVE_COMPUTATIONS and not LOAD_PRETRAINED_MODELS:\n",
    "    save_pyspark_model(rnd_forest_model, RANDOM_FOREST_MODEL_PATH)"
   ]
  },
  {
   "cell_type": "code",
   "execution_count": 0,
   "metadata": {
    "application/vnd.databricks.v1+cell": {
     "cellMetadata": {
      "byteLimit": 2048000,
      "rowLimit": 10000
     },
     "inputWidgets": {},
     "nuid": "8e359939-1861-45c7-8b28-836e75045a4f",
     "showTitle": false,
     "title": ""
    }
   },
   "outputs": [],
   "source": [
    "def random_forest_pipeline(dataframe: DataFrame,\n",
    "                           numerical_features: List[str],\n",
    "                           categorical_features: List[str],\n",
    "                           target_variable: str,\n",
    "                           features_col: str,\n",
    "                           with_std: bool = True,\n",
    "                           with_mean: bool = False,\n",
    "                           k_fold: int = 5) -> CrossValidatorModel:\n",
    "  \n",
    "    from pyspark.ml.classification import RandomForestClassifier\n",
    "    from pyspark.ml.tuning import CrossValidator, ParamGridBuilder\n",
    "    from pyspark.ml.evaluation import MulticlassClassificationEvaluator\n",
    "    from pyspark.ml.feature import IndexToString\n",
    "    from pyspark.ml import Pipeline\n",
    "  \n",
    "    data_encoder = encoding_pipeline(dataframe,\n",
    "                                     numerical_features,\n",
    "                                     categorical_features,\n",
    "                                     target_variable,\n",
    "                                     with_std,\n",
    "                                     with_mean)\n",
    "  \n",
    "    classifier = RandomForestClassifier(featuresCol=features_col, labelCol=LABEL_COL)\n",
    "    \n",
    "    predictions_idx_to_str = IndexToString(inputCol=PREDICTION_COL,\n",
    "                                           outputCol=PREDICTED_TARGET_VARIABLE_COL,\n",
    "                                           labels=data_encoder.stages[0].labels)\n",
    "\n",
    "    stages = [data_encoder, classifier, predictions_idx_to_str]\n",
    "\n",
    "    pipeline = Pipeline(stages=stages)\n",
    "\n",
    "    # We use a ParamGridBuilder to construct a grid of parameters to search over.\n",
    "    # With 3 values for maxDepth and 3 values for numTrees\n",
    "    # this grid will have 3 x 3 = 9 parameter settings for CrossValidator to choose from.\n",
    "    param_grid = ParamGridBuilder() \\\n",
    "        .addGrid(classifier.maxDepth, [3, 5, 8]) \\\n",
    "        .addGrid(classifier.numTrees, [10, 50, 100]) \\\n",
    "        .build()\n",
    "\n",
    "    evaluator = MulticlassClassificationEvaluator(labelCol=LABEL_COL,\n",
    "                                                  predictionCol=PREDICTION_COL,\n",
    "                                                  metricName='accuracy')\n",
    "\n",
    "    cross_val = CrossValidator(estimator=pipeline, \n",
    "                               estimatorParamMaps=param_grid,\n",
    "                               evaluator=evaluator,\n",
    "                               numFolds=k_fold,\n",
    "                               collectSubModels=True)\n",
    "\n",
    "    cv_model = cross_val.fit(dataframe)\n",
    "\n",
    "    return cv_model"
   ]
  },
  {
   "cell_type": "code",
   "execution_count": 0,
   "metadata": {
    "application/vnd.databricks.v1+cell": {
     "cellMetadata": {
      "byteLimit": 2048000,
      "rowLimit": 10000
     },
     "inputWidgets": {},
     "nuid": "e2fc5947-f530-4a3a-a895-764abf56d8db",
     "showTitle": false,
     "title": ""
    }
   },
   "outputs": [],
   "source": [
    "rnd_forest_cv_model = CrossValidatorModel.load(RANDOM_FOREST_CROSS_VALIDATION_MODEL_PATH) if LOAD_PRETRAINED_MODELS \\\n",
    "                      else random_forest_pipeline(train_df,\n",
    "                                                  NUMERICAL_FEATURES,\n",
    "                                                  CATEGORICAL_FEATURES,\n",
    "                                                  TARGET_VARIABLE_COL,\n",
    "                                                  FEATURES_COL)"
   ]
  },
  {
   "cell_type": "code",
   "execution_count": 0,
   "metadata": {
    "application/vnd.databricks.v1+cell": {
     "cellMetadata": {
      "byteLimit": 2048000,
      "rowLimit": 10000
     },
     "inputWidgets": {},
     "nuid": "7c7e74c9-aa7a-4b18-b955-18540b42ef10",
     "showTitle": false,
     "title": ""
    }
   },
   "outputs": [
    {
     "output_type": "stream",
     "name": "stdout",
     "output_type": "stream",
     "text": [
      "Best model according to k-fold cross validation:\n - numTrees=[100]\n - maxDepth=[8]\n"
     ]
    }
   ],
   "source": [
    "rnd_forest_cv_model_obj = rnd_forest_cv_model.bestModel.stages[-2]._java_obj\n",
    "\n",
    "print('Best model according to k-fold cross validation:')\n",
    "print(f' - numTrees=[{rnd_forest_cv_model_obj.getNumTrees()}]')\n",
    "print(f' - maxDepth=[{rnd_forest_cv_model_obj.getMaxDepth()}]')"
   ]
  },
  {
   "cell_type": "code",
   "execution_count": 0,
   "metadata": {
    "application/vnd.databricks.v1+cell": {
     "cellMetadata": {
      "byteLimit": 2048000,
      "rowLimit": 10000
     },
     "inputWidgets": {},
     "nuid": "77b9bcb2-3fc0-462b-9ea7-f461152fb7b9",
     "showTitle": false,
     "title": ""
    }
   },
   "outputs": [
    {
     "output_type": "stream",
     "name": "stdout",
     "output_type": "stream",
     "text": [
      "dbfs:/bigdata_proj/models/historical-hourly-weather/rnd_forest_cv-20242303-182753\n"
     ]
    }
   ],
   "source": [
    "if SAVE_COMPUTATIONS and not LOAD_PRETRAINED_MODELS:\n",
    "    save_pyspark_model(rnd_forest_cv_model, RANDOM_FOREST_CROSS_VALIDATION_MODEL_PATH)"
   ]
  },
  {
   "cell_type": "code",
   "execution_count": 0,
   "metadata": {
    "application/vnd.databricks.v1+cell": {
     "cellMetadata": {
      "byteLimit": 2048000,
      "rowLimit": 10000
     },
     "inputWidgets": {},
     "nuid": "359de3fa-7c3c-47fa-a99a-5cd8dbd61d38",
     "showTitle": false,
     "title": ""
    }
   },
   "outputs": [],
   "source": [
    "rnd_forest_cv_predictions = rnd_forest_cv_model.transform(test_df)"
   ]
  },
  {
   "cell_type": "code",
   "execution_count": 0,
   "metadata": {
    "application/vnd.databricks.v1+cell": {
     "cellMetadata": {
      "byteLimit": 2048000,
      "rowLimit": 10000
     },
     "inputWidgets": {},
     "nuid": "eaa8da84-f338-4304-b3c7-a51a4e31f1e4",
     "showTitle": false,
     "title": ""
    }
   },
   "outputs": [
    {
     "output_type": "stream",
     "name": "stdout",
     "output_type": "stream",
     "text": [
      "Accuracy: 0.5424910924114927\nPrecision: 0.524164633555607\nRecall: 0.5425256986247149\nF1-score: 0.533187140513149\n"
     ]
    }
   ],
   "source": [
    "eval_predictions(rnd_forest_cv_predictions)"
   ]
  },
  {
   "cell_type": "code",
   "execution_count": 0,
   "metadata": {
    "application/vnd.databricks.v1+cell": {
     "cellMetadata": {
      "byteLimit": 2048000,
      "rowLimit": 10000
     },
     "inputWidgets": {},
     "nuid": "9b273fdf-0ac7-4922-98ed-fd9b12b61780",
     "showTitle": false,
     "title": ""
    }
   },
   "outputs": [
    {
     "output_type": "display_data",
     "data": {
      "image/png": "[encoded data removed]",
      "text/plain": [
       "<Figure size 640x480 with 2 Axes>"
      ]
     },
     "metadata": {},
     "output_type": "display_data"
    }
   ],
   "source": [
    "plot_confusion_matrix(rnd_forest_cv_predictions, normalize=True)"
   ]
  },
  {
   "cell_type": "code",
   "execution_count": 0,
   "metadata": {
    "application/vnd.databricks.v1+cell": {
     "cellMetadata": {
      "byteLimit": 2048000,
      "rowLimit": 10000
     },
     "inputWidgets": {},
     "nuid": "ce735b45-9f3a-4b93-9b70-ce2007997629",
     "showTitle": false,
     "title": ""
    }
   },
   "outputs": [],
   "source": [
    "def logistic_regression_pipeline(dataframe: DataFrame,\n",
    "                                 numerical_features: List[str],\n",
    "                                 categorical_features: List[str],\n",
    "                                 target_variable: str,\n",
    "                                 features_col: str,\n",
    "                                 with_std: bool = True,\n",
    "                                 with_mean: bool = False,\n",
    "                                 k_fold: int = 5) -> CrossValidatorModel:\n",
    "  \n",
    "    from pyspark.ml.classification import LogisticRegression\n",
    "    from pyspark.ml.tuning import CrossValidator, ParamGridBuilder\n",
    "    from pyspark.ml.evaluation import MulticlassClassificationEvaluator\n",
    "    from pyspark.ml.feature import IndexToString\n",
    "    from pyspark.ml import Pipeline\n",
    "  \n",
    "    data_encoder = encoding_pipeline(dataframe,\n",
    "                                     numerical_features,\n",
    "                                     categorical_features,\n",
    "                                     target_variable,\n",
    "                                     with_std,\n",
    "                                     with_mean)\n",
    "  \n",
    "    classifier = LogisticRegression(featuresCol=features_col, labelCol=LABEL_COL)\n",
    "    \n",
    "    predictions_idx_to_str = IndexToString(inputCol=PREDICTION_COL,\n",
    "                                           outputCol=PREDICTED_TARGET_VARIABLE_COL,\n",
    "                                           labels=data_encoder.stages[0].labels)\n",
    "\n",
    "    stages = [data_encoder, classifier, predictions_idx_to_str]\n",
    "\n",
    "    pipeline = Pipeline(stages=stages)\n",
    "\n",
    "    # We use a ParamGridBuilder to construct a grid of parameters to search over.\n",
    "    # With 3 values for regParam, 3 values for maxIter and 3 values for elasticNetParam,\n",
    "    # this grid will have 3 x 3 x 3 = 12 parameter settings for CrossValidator to choose from.\n",
    "    param_grid = ParamGridBuilder()\\\n",
    "        .addGrid(classifier.maxIter, [10, 100, 1000]) \\\n",
    "        .addGrid(classifier.regParam, [0.0, 0.05, 0.1]) \\\n",
    "        .addGrid(classifier.elasticNetParam, [0.0, 0.5, 1.0]) \\\n",
    "        .build()\n",
    "\n",
    "    evaluator = MulticlassClassificationEvaluator(labelCol=LABEL_COL,\n",
    "                                                  predictionCol=PREDICTION_COL,\n",
    "                                                  metricName='accuracy')\n",
    "\n",
    "    cross_val = CrossValidator(estimator=pipeline, \n",
    "                               estimatorParamMaps=param_grid,\n",
    "                               evaluator=evaluator,\n",
    "                               numFolds=k_fold,\n",
    "                               collectSubModels=True)\n",
    "\n",
    "    cv_model = cross_val.fit(dataframe)\n",
    "\n",
    "    return cv_model"
   ]
  },
  {
   "cell_type": "code",
   "execution_count": 0,
   "metadata": {
    "application/vnd.databricks.v1+cell": {
     "cellMetadata": {
      "byteLimit": 2048000,
      "rowLimit": 10000
     },
     "inputWidgets": {},
     "nuid": "36b44107-bb17-409c-9eae-ff9c7a151e45",
     "showTitle": false,
     "title": ""
    }
   },
   "outputs": [],
   "source": [
    "log_reg_cv_model = CrossValidatorModel.load(LOGISTIC_REGRESSION_CROSS_VALIDATION_MODEL_PATH) if LOAD_PRETRAINED_MODELS \\\n",
    "                   else logistic_regression_pipeline(train_df,\n",
    "                                                     NUMERICAL_FEATURES,\n",
    "                                                     CATEGORICAL_FEATURES,\n",
    "                                                     TARGET_VARIABLE_COL,\n",
    "                                                     FEATURES_COL)"
   ]
  },
  {
   "cell_type": "code",
   "execution_count": 0,
   "metadata": {
    "application/vnd.databricks.v1+cell": {
     "cellMetadata": {
      "byteLimit": 2048000,
      "rowLimit": 10000
     },
     "inputWidgets": {},
     "nuid": "7b1e0e08-2e4a-43f2-8c86-4894d344e875",
     "showTitle": false,
     "title": ""
    }
   },
   "outputs": [
    {
     "output_type": "stream",
     "name": "stdout",
     "output_type": "stream",
     "text": [
      "Best model according to k-fold cross validation:\n - regParam=[0.0]\n - elasticNetParam=[0.0]\n - maxIter=[100]\n"
     ]
    }
   ],
   "source": [
    "log_reg_cv_model_obj = log_reg_cv_model.bestModel.stages[-2]._java_obj\n",
    "\n",
    "print('Best model according to k-fold cross validation:')\n",
    "print(f' - regParam=[{log_reg_cv_model_obj.getRegParam()}]')\n",
    "print(f' - elasticNetParam=[{log_reg_cv_model_obj.getElasticNetParam()}]')\n",
    "print(f' - maxIter=[{log_reg_cv_model_obj.getMaxIter()}]')"
   ]
  },
  {
   "cell_type": "code",
   "execution_count": 0,
   "metadata": {
    "application/vnd.databricks.v1+cell": {
     "cellMetadata": {
      "byteLimit": 2048000,
      "rowLimit": 10000
     },
     "inputWidgets": {},
     "nuid": "4b8f3eaf-199b-45c3-8145-5293ad7f59aa",
     "showTitle": false,
     "title": ""
    }
   },
   "outputs": [
    {
     "output_type": "stream",
     "name": "stdout",
     "output_type": "stream",
     "text": [
      "dbfs:/bigdata_proj/models/historical-hourly-weather/log_reg_cv-20242303-190059\n"
     ]
    }
   ],
   "source": [
    "if SAVE_COMPUTATIONS and not LOAD_PRETRAINED_MODELS:\n",
    "    save_pyspark_model(log_reg_cv_model, LOGISTIC_REGRESSION_CROSS_VALIDATION_MODEL_PATH)"
   ]
  },
  {
   "cell_type": "code",
   "execution_count": 0,
   "metadata": {
    "application/vnd.databricks.v1+cell": {
     "cellMetadata": {
      "byteLimit": 2048000,
      "rowLimit": 10000
     },
     "inputWidgets": {},
     "nuid": "2dad04cd-6579-4c15-a325-3a727519fc1e",
     "showTitle": false,
     "title": ""
    }
   },
   "outputs": [],
   "source": [
    "log_reg_cv_predictions = log_reg_cv_model.transform(test_df)"
   ]
  },
  {
   "cell_type": "code",
   "execution_count": 0,
   "metadata": {
    "application/vnd.databricks.v1+cell": {
     "cellMetadata": {
      "byteLimit": 2048000,
      "rowLimit": 10000
     },
     "inputWidgets": {},
     "nuid": "d6fa22c0-ab11-40f3-9127-99fdb2e1ac29",
     "showTitle": false,
     "title": ""
    }
   },
   "outputs": [
    {
     "output_type": "stream",
     "name": "stdout",
     "output_type": "stream",
     "text": [
      "Accuracy: 0.4876051853536502\nPrecision: 0.4591598501449072\nRecall: 0.48731281204462534\nF1-score: 0.47281762419736184\n"
     ]
    }
   ],
   "source": [
    "eval_predictions(log_reg_cv_predictions)"
   ]
  },
  {
   "cell_type": "code",
   "execution_count": 0,
   "metadata": {
    "application/vnd.databricks.v1+cell": {
     "cellMetadata": {
      "byteLimit": 2048000,
      "rowLimit": 10000
     },
     "inputWidgets": {},
     "nuid": "16836046-8329-4909-9aa3-685c5b3c333b",
     "showTitle": false,
     "title": ""
    }
   },
   "outputs": [
    {
     "output_type": "display_data",
     "data": {
      "image/png": "[encoded data removed]",
      "text/plain": [
       "<Figure size 640x480 with 2 Axes>"
      ]
     },
     "metadata": {},
     "output_type": "display_data"
    }
   ],
   "source": [
    "plot_confusion_matrix(log_reg_cv_predictions, normalize=True)"
   ]
  },
  {
   "cell_type": "code",
   "execution_count": 0,
   "metadata": {
    "application/vnd.databricks.v1+cell": {
     "cellMetadata": {
      "byteLimit": 2048000,
      "rowLimit": 10000
     },
     "inputWidgets": {},
     "nuid": "6e489a1b-3e2d-4bf9-8126-f6c6e232ce75",
     "showTitle": false,
     "title": ""
    }
   },
   "outputs": [],
   "source": [
    "API_KEY = '57fe401be548737b0d267e7abda86175'\n",
    "CITY_NAMES = ['Vancouver']\n",
    "\n",
    "openweather_model = rnd_forest_cv_model\n",
    "\n",
    "OPENWEATHER_FORECAST_COL = 'openweather_forecast'"
   ]
  },
  {
   "cell_type": "code",
   "execution_count": 0,
   "metadata": {
    "application/vnd.databricks.v1+cell": {
     "cellMetadata": {
      "byteLimit": 2048000,
      "rowLimit": 10000
     },
     "inputWidgets": {},
     "nuid": "95431883-a344-4d06-8d44-aa9604341d68",
     "showTitle": false,
     "title": ""
    }
   },
   "outputs": [],
   "source": [
    "def get_5_days_forecasts_df(city_name: str, api_key: str) -> DataFrame:\n",
    "\n",
    "    import requests\n",
    "  \n",
    "    spark = SparkSession.builder \\\n",
    "        .appName(\"WeatherForecast\") \\\n",
    "        .getOrCreate()\n",
    "  \n",
    "    API_URL = f'http://api.openweathermap.org/data/2.5/forecast?q={city_name}&appid={api_key}'\n",
    "\n",
    "    res = requests.get(API_URL).json()\n",
    "\n",
    "    coord = res['city']['coord']\n",
    "\n",
    "    latitude = float(coord['lat'])\n",
    "    longitude = float(coord['lon'])\n",
    "    \n",
    "    forecasts = []\n",
    "\n",
    "    for forecast in res['list']:\n",
    "      \n",
    "        main = forecast['main']\n",
    "        wind = forecast['wind']\n",
    "        weather = forecast['weather']\n",
    "\n",
    "        datetime = forecast['dt_txt']\n",
    "        \n",
    "        temperature = float(main['temp'])\n",
    "        pressure = float(main['pressure'])\n",
    "        humidity = float(main['humidity'])\n",
    "        wind_speed = float(wind['speed'])\n",
    "        wind_direction = float(wind['deg'])\n",
    "\n",
    "        weather_condition = weather[0]['main']\n",
    "        \n",
    "        forecast_row = Row(datetime=datetime,\n",
    "                           humidity=humidity,\n",
    "                           pressure=pressure,\n",
    "                           temperature=temperature,\n",
    "                           wind_direction=wind_direction,\n",
    "                           wind_speed=wind_speed,\n",
    "                           weather_condition=weather_condition,\n",
    "                           city=city_name,\n",
    "                           latitude=latitude,\n",
    "                           longitude=longitude)\n",
    "\n",
    "        forecasts.append(forecast_row)\n",
    "        \n",
    "    return spark.createDataFrame(forecasts)\n"
   ]
  },
  {
   "cell_type": "code",
   "execution_count": 0,
   "metadata": {
    "application/vnd.databricks.v1+cell": {
     "cellMetadata": {
      "byteLimit": 2048000,
      "rowLimit": 10000
     },
     "inputWidgets": {},
     "nuid": "8709f0d0-a8b8-48e9-8233-84d70e1a9240",
     "showTitle": false,
     "title": ""
    }
   },
   "outputs": [],
   "source": [
    "openweather_forecasts_df = None\n",
    "\n",
    "for city_name in CITY_NAMES:\n",
    "    if openweather_forecasts_df is None:\n",
    "        openweather_forecasts_df = get_5_days_forecasts_df(city_name, API_KEY)\n",
    "    else:\n",
    "        openweather_forecasts_df = openweather_forecasts_df.union(get_5_days_forecasts_df(city_name, API_KEY))\n"
   ]
  },
  {
   "cell_type": "code",
   "execution_count": 0,
   "metadata": {
    "application/vnd.databricks.v1+cell": {
     "cellMetadata": {
      "byteLimit": 2048000,
      "rowLimit": 10000
     },
     "inputWidgets": {},
     "nuid": "69753f18-a65e-49d5-8596-a987b48c7e8c",
     "showTitle": false,
     "title": ""
    }
   },
   "outputs": [],
   "source": [
    "weather_conditions = openweather_forecasts_df.select(TARGET_VARIABLE_COL).collect()\n",
    "weather_conditions_array = [row[0] for row in weather_conditions]\n",
    "weather_conditions_dict = get_weather_conditions_aggregation_dict(weather_conditions_array)"
   ]
  },
  {
   "cell_type": "code",
   "execution_count": 0,
   "metadata": {
    "application/vnd.databricks.v1+cell": {
     "cellMetadata": {
      "byteLimit": 2048000,
      "rowLimit": 10000
     },
     "inputWidgets": {},
     "nuid": "40de6dd1-e0ce-489d-958d-20accf148c25",
     "showTitle": false,
     "title": ""
    }
   },
   "outputs": [],
   "source": [
    "openweather_forecasts_df = openweather_forecasts_df.replace(weather_conditions_dict)"
   ]
  },
  {
   "cell_type": "code",
   "execution_count": 0,
   "metadata": {
    "application/vnd.databricks.v1+cell": {
     "cellMetadata": {
      "byteLimit": 2048000,
      "rowLimit": 10000
     },
     "inputWidgets": {},
     "nuid": "6d3b8460-8bd5-4ec9-ad47-7146279e5583",
     "showTitle": false,
     "title": ""
    }
   },
   "outputs": [],
   "source": [
    "openweather_forecasts_df = openweather_forecasts_df.filter(openweather_forecasts_df[TARGET_VARIABLE_COL].isin(WEATHER_CONDITIONS))"
   ]
  },
  {
   "cell_type": "code",
   "execution_count": 0,
   "metadata": {
    "application/vnd.databricks.v1+cell": {
     "cellMetadata": {
      "byteLimit": 2048000,
      "rowLimit": 10000
     },
     "inputWidgets": {},
     "nuid": "25938f74-77c8-4760-8000-73b5f677d024",
     "showTitle": false,
     "title": ""
    }
   },
   "outputs": [
    {
     "output_type": "execute_result",
     "data": {
      "text/html": [
       "<div>\n",
       "<style scoped>\n",
       "    .dataframe tbody tr th:only-of-type {\n",
       "        vertical-align: middle;\n",
       "    }\n",
       "\n",
       "    .dataframe tbody tr th {\n",
       "        vertical-align: top;\n",
       "    }\n",
       "\n",
       "    .dataframe thead th {\n",
       "        text-align: right;\n",
       "    }\n",
       "</style>\n",
       "<table border=\"1\" class=\"dataframe\">\n",
       "  <thead>\n",
       "    <tr style=\"text-align: right;\">\n",
       "      <th></th>\n",
       "      <th>datetime</th>\n",
       "      <th>humidity</th>\n",
       "      <th>pressure</th>\n",
       "      <th>temperature</th>\n",
       "      <th>wind_direction</th>\n",
       "      <th>wind_speed</th>\n",
       "      <th>weather_condition</th>\n",
       "      <th>city</th>\n",
       "      <th>latitude</th>\n",
       "      <th>longitude</th>\n",
       "    </tr>\n",
       "  </thead>\n",
       "  <tbody>\n",
       "    <tr>\n",
       "      <th>0</th>\n",
       "      <td>2024-03-23 21:00:00</td>\n",
       "      <td>91.0</td>\n",
       "      <td>1002.0</td>\n",
       "      <td>281.67</td>\n",
       "      <td>315.0</td>\n",
       "      <td>1.16</td>\n",
       "      <td>rainy</td>\n",
       "      <td>Vancouver</td>\n",
       "      <td>49.2497</td>\n",
       "      <td>-123.1193</td>\n",
       "    </tr>\n",
       "    <tr>\n",
       "      <th>1</th>\n",
       "      <td>2024-03-24 00:00:00</td>\n",
       "      <td>92.0</td>\n",
       "      <td>1002.0</td>\n",
       "      <td>281.29</td>\n",
       "      <td>291.0</td>\n",
       "      <td>2.36</td>\n",
       "      <td>rainy</td>\n",
       "      <td>Vancouver</td>\n",
       "      <td>49.2497</td>\n",
       "      <td>-123.1193</td>\n",
       "    </tr>\n",
       "    <tr>\n",
       "      <th>2</th>\n",
       "      <td>2024-03-24 03:00:00</td>\n",
       "      <td>90.0</td>\n",
       "      <td>1003.0</td>\n",
       "      <td>281.10</td>\n",
       "      <td>309.0</td>\n",
       "      <td>2.79</td>\n",
       "      <td>rainy</td>\n",
       "      <td>Vancouver</td>\n",
       "      <td>49.2497</td>\n",
       "      <td>-123.1193</td>\n",
       "    </tr>\n",
       "    <tr>\n",
       "      <th>3</th>\n",
       "      <td>2024-03-24 06:00:00</td>\n",
       "      <td>85.0</td>\n",
       "      <td>1004.0</td>\n",
       "      <td>281.32</td>\n",
       "      <td>321.0</td>\n",
       "      <td>2.50</td>\n",
       "      <td>cloudy</td>\n",
       "      <td>Vancouver</td>\n",
       "      <td>49.2497</td>\n",
       "      <td>-123.1193</td>\n",
       "    </tr>\n",
       "    <tr>\n",
       "      <th>4</th>\n",
       "      <td>2024-03-24 09:00:00</td>\n",
       "      <td>84.0</td>\n",
       "      <td>1005.0</td>\n",
       "      <td>281.26</td>\n",
       "      <td>319.0</td>\n",
       "      <td>1.77</td>\n",
       "      <td>cloudy</td>\n",
       "      <td>Vancouver</td>\n",
       "      <td>49.2497</td>\n",
       "      <td>-123.1193</td>\n",
       "    </tr>\n",
       "  </tbody>\n",
       "</table>\n",
       "</div>"
      ],
      "text/plain": [
       "              datetime  humidity  pressure  temperature  wind_direction  wind_speed weather_condition       city  latitude  longitude\n",
       "0  2024-03-23 21:00:00      91.0    1002.0       281.67           315.0        1.16             rainy  Vancouver   49.2497  -123.1193\n",
       "1  2024-03-24 00:00:00      92.0    1002.0       281.29           291.0        2.36             rainy  Vancouver   49.2497  -123.1193\n",
       "2  2024-03-24 03:00:00      90.0    1003.0       281.10           309.0        2.79             rainy  Vancouver   49.2497  -123.1193\n",
       "3  2024-03-24 06:00:00      85.0    1004.0       281.32           321.0        2.50            cloudy  Vancouver   49.2497  -123.1193\n",
       "4  2024-03-24 09:00:00      84.0    1005.0       281.26           319.0        1.77            cloudy  Vancouver   49.2497  -123.1193"
      ]
     },
     "execution_count": 128,
     "metadata": {},
     "output_type": "execute_result"
    }
   ],
   "source": [
    "openweather_forecasts_df.to_koalas().head(5)"
   ]
  },
  {
   "cell_type": "code",
   "execution_count": 0,
   "metadata": {
    "application/vnd.databricks.v1+cell": {
     "cellMetadata": {
      "byteLimit": 2048000,
      "rowLimit": 10000
     },
     "inputWidgets": {},
     "nuid": "70eef0ac-4fae-455e-aa26-b1026921ca91",
     "showTitle": false,
     "title": ""
    }
   },
   "outputs": [],
   "source": [
    "openweather_forecasts_predictions = openweather_model.transform(openweather_forecasts_df)"
   ]
  },
  {
   "cell_type": "code",
   "execution_count": 0,
   "metadata": {
    "application/vnd.databricks.v1+cell": {
     "cellMetadata": {
      "byteLimit": 2048000,
      "rowLimit": 10000
     },
     "inputWidgets": {},
     "nuid": "7a050e9e-c7c7-4ed3-8f18-8c9f24472d44",
     "showTitle": false,
     "title": ""
    }
   },
   "outputs": [
    {
     "output_type": "execute_result",
     "data": {
      "text/html": [
       "<div>\n",
       "<style scoped>\n",
       "    .dataframe tbody tr th:only-of-type {\n",
       "        vertical-align: middle;\n",
       "    }\n",
       "\n",
       "    .dataframe tbody tr th {\n",
       "        vertical-align: top;\n",
       "    }\n",
       "\n",
       "    .dataframe thead th {\n",
       "        text-align: right;\n",
       "    }\n",
       "</style>\n",
       "<table border=\"1\" class=\"dataframe\">\n",
       "  <thead>\n",
       "    <tr style=\"text-align: right;\">\n",
       "      <th></th>\n",
       "      <th>datetime</th>\n",
       "      <th>city</th>\n",
       "      <th>openweather_forecast</th>\n",
       "      <th>predicted_weather_condition</th>\n",
       "    </tr>\n",
       "  </thead>\n",
       "  <tbody>\n",
       "    <tr>\n",
       "      <th>0</th>\n",
       "      <td>2024-03-23 21:00:00</td>\n",
       "      <td>Vancouver</td>\n",
       "      <td>rainy</td>\n",
       "      <td>rainy</td>\n",
       "    </tr>\n",
       "    <tr>\n",
       "      <th>1</th>\n",
       "      <td>2024-03-24 00:00:00</td>\n",
       "      <td>Vancouver</td>\n",
       "      <td>rainy</td>\n",
       "      <td>rainy</td>\n",
       "    </tr>\n",
       "    <tr>\n",
       "      <th>2</th>\n",
       "      <td>2024-03-24 03:00:00</td>\n",
       "      <td>Vancouver</td>\n",
       "      <td>rainy</td>\n",
       "      <td>rainy</td>\n",
       "    </tr>\n",
       "    <tr>\n",
       "      <th>3</th>\n",
       "      <td>2024-03-24 06:00:00</td>\n",
       "      <td>Vancouver</td>\n",
       "      <td>cloudy</td>\n",
       "      <td>rainy</td>\n",
       "    </tr>\n",
       "    <tr>\n",
       "      <th>4</th>\n",
       "      <td>2024-03-24 09:00:00</td>\n",
       "      <td>Vancouver</td>\n",
       "      <td>cloudy</td>\n",
       "      <td>rainy</td>\n",
       "    </tr>\n",
       "    <tr>\n",
       "      <th>5</th>\n",
       "      <td>2024-03-24 12:00:00</td>\n",
       "      <td>Vancouver</td>\n",
       "      <td>cloudy</td>\n",
       "      <td>rainy</td>\n",
       "    </tr>\n",
       "    <tr>\n",
       "      <th>6</th>\n",
       "      <td>2024-03-24 15:00:00</td>\n",
       "      <td>Vancouver</td>\n",
       "      <td>sunny</td>\n",
       "      <td>rainy</td>\n",
       "    </tr>\n",
       "    <tr>\n",
       "      <th>7</th>\n",
       "      <td>2024-03-24 18:00:00</td>\n",
       "      <td>Vancouver</td>\n",
       "      <td>sunny</td>\n",
       "      <td>rainy</td>\n",
       "    </tr>\n",
       "    <tr>\n",
       "      <th>8</th>\n",
       "      <td>2024-03-24 21:00:00</td>\n",
       "      <td>Vancouver</td>\n",
       "      <td>cloudy</td>\n",
       "      <td>rainy</td>\n",
       "    </tr>\n",
       "    <tr>\n",
       "      <th>9</th>\n",
       "      <td>2024-03-25 00:00:00</td>\n",
       "      <td>Vancouver</td>\n",
       "      <td>cloudy</td>\n",
       "      <td>rainy</td>\n",
       "    </tr>\n",
       "    <tr>\n",
       "      <th>10</th>\n",
       "      <td>2024-03-25 03:00:00</td>\n",
       "      <td>Vancouver</td>\n",
       "      <td>cloudy</td>\n",
       "      <td>rainy</td>\n",
       "    </tr>\n",
       "    <tr>\n",
       "      <th>11</th>\n",
       "      <td>2024-03-25 06:00:00</td>\n",
       "      <td>Vancouver</td>\n",
       "      <td>cloudy</td>\n",
       "      <td>rainy</td>\n",
       "    </tr>\n",
       "    <tr>\n",
       "      <th>12</th>\n",
       "      <td>2024-03-25 09:00:00</td>\n",
       "      <td>Vancouver</td>\n",
       "      <td>rainy</td>\n",
       "      <td>rainy</td>\n",
       "    </tr>\n",
       "    <tr>\n",
       "      <th>13</th>\n",
       "      <td>2024-03-25 12:00:00</td>\n",
       "      <td>Vancouver</td>\n",
       "      <td>cloudy</td>\n",
       "      <td>rainy</td>\n",
       "    </tr>\n",
       "    <tr>\n",
       "      <th>14</th>\n",
       "      <td>2024-03-25 15:00:00</td>\n",
       "      <td>Vancouver</td>\n",
       "      <td>rainy</td>\n",
       "      <td>rainy</td>\n",
       "    </tr>\n",
       "  </tbody>\n",
       "</table>\n",
       "</div>"
      ],
      "text/plain": [
       "               datetime       city openweather_forecast predicted_weather_condition\n",
       "0   2024-03-23 21:00:00  Vancouver                rainy                       rainy\n",
       "1   2024-03-24 00:00:00  Vancouver                rainy                       rainy\n",
       "2   2024-03-24 03:00:00  Vancouver                rainy                       rainy\n",
       "3   2024-03-24 06:00:00  Vancouver               cloudy                       rainy\n",
       "4   2024-03-24 09:00:00  Vancouver               cloudy                       rainy\n",
       "5   2024-03-24 12:00:00  Vancouver               cloudy                       rainy\n",
       "6   2024-03-24 15:00:00  Vancouver                sunny                       rainy\n",
       "7   2024-03-24 18:00:00  Vancouver                sunny                       rainy\n",
       "8   2024-03-24 21:00:00  Vancouver               cloudy                       rainy\n",
       "9   2024-03-25 00:00:00  Vancouver               cloudy                       rainy\n",
       "10  2024-03-25 03:00:00  Vancouver               cloudy                       rainy\n",
       "11  2024-03-25 06:00:00  Vancouver               cloudy                       rainy\n",
       "12  2024-03-25 09:00:00  Vancouver                rainy                       rainy\n",
       "13  2024-03-25 12:00:00  Vancouver               cloudy                       rainy\n",
       "14  2024-03-25 15:00:00  Vancouver                rainy                       rainy"
      ]
     },
     "execution_count": 130,
     "metadata": {},
     "output_type": "execute_result"
    }
   ],
   "source": [
    "openweather_forecasts_predictions \\\n",
    "    .withColumn(OPENWEATHER_FORECAST_COL, col(TARGET_VARIABLE_COL)) \\\n",
    "    .select([DATETIME_COL, CITY_COL, OPENWEATHER_FORECAST_COL, PREDICTED_TARGET_VARIABLE_COL]) \\\n",
    "    .to_koalas().head(15)"
   ]
  },
  {
   "cell_type": "code",
   "execution_count": 0,
   "metadata": {
    "application/vnd.databricks.v1+cell": {
     "cellMetadata": {
      "byteLimit": 2048000,
      "rowLimit": 10000
     },
     "inputWidgets": {},
     "nuid": "0a573a02-1d58-4f6d-9b5f-5f968ec8aebd",
     "showTitle": false,
     "title": ""
    }
   },
   "outputs": [
    {
     "output_type": "display_data",
     "data": {
      "image/png": "[encoded data removed]",
      "text/plain": [
       "<Figure size 640x480 with 2 Axes>"
      ]
     },
     "metadata": {},
     "output_type": "display_data"
    }
   ],
   "source": [
    "plot_confusion_matrix(openweather_forecasts_predictions, normalize=True) "
   ]
  }
 ],
 "metadata": {
  "application/vnd.databricks.v1+notebook": {
   "dashboards": [],
   "language": "python",
   "notebookMetadata": {
    "mostRecentlyExecutedCommandWithImplicitDF": {
     "commandId": 3405706733020154,
     "dataframes": [
      "_sqldf"
     ]
    },
    "pythonIndentUnit": 4
   },
   "notebookName": "bigdata_proj",
   "widgets": {}
  }
 },
 "nbformat": 4,
 "nbformat_minor": 0
}
